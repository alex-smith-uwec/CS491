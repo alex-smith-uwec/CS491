{
  "nbformat": 4,
  "nbformat_minor": 0,
  "metadata": {
    "colab": {
      "provenance": [],
      "authorship_tag": "ABX9TyPc2RggQRRH16QZ/k75r2mc",
      "include_colab_link": true
    },
    "kernelspec": {
      "name": "python3",
      "display_name": "Python 3"
    },
    "language_info": {
      "name": "python"
    }
  },
  "cells": [
    {
      "cell_type": "markdown",
      "metadata": {
        "id": "view-in-github",
        "colab_type": "text"
      },
      "source": [
        "<a href=\"https://colab.research.google.com/github/alex-smith-uwec/CS491/blob/main/flyingplanes.ipynb\" target=\"_parent\"><img src=\"https://colab.research.google.com/assets/colab-badge.svg\" alt=\"Open In Colab\"/></a>"
      ]
    },
    {
      "cell_type": "code",
      "execution_count": null,
      "metadata": {
        "colab": {
          "base_uri": "https://localhost:8080/"
        },
        "id": "4FyUaGuo4MsF",
        "outputId": "507c81db-67fe-433c-b38b-265110a10485"
      },
      "outputs": [
        {
          "output_type": "stream",
          "name": "stderr",
          "text": [
            "[nltk_data] Downloading package punkt to /root/nltk_data...\n",
            "[nltk_data]   Unzipping tokenizers/punkt.zip.\n"
          ]
        }
      ],
      "source": [
        "import nltk\n",
        "from nltk.tokenize import sent_tokenize\n",
        "nltk.download('punkt')\n",
        "\n",
        "import graphviz"
      ]
    },
    {
      "cell_type": "code",
      "source": [
        "nltk.download('averaged_perceptron_tagger')"
      ],
      "metadata": {
        "colab": {
          "base_uri": "https://localhost:8080/"
        },
        "id": "loEpuLIm2FCx",
        "outputId": "d871cd42-aa17-46db-90bf-41f3ebab8ad0"
      },
      "execution_count": null,
      "outputs": [
        {
          "output_type": "stream",
          "name": "stderr",
          "text": [
            "[nltk_data] Downloading package averaged_perceptron_tagger to\n",
            "[nltk_data]     /root/nltk_data...\n",
            "[nltk_data]   Unzipping taggers/averaged_perceptron_tagger.zip.\n"
          ]
        },
        {
          "output_type": "execute_result",
          "data": {
            "text/plain": [
              "True"
            ]
          },
          "metadata": {},
          "execution_count": 2
        }
      ]
    },
    {
      "cell_type": "code",
      "source": [
        "# Function to convert NLTK tree to graphviz source\n",
        "def to_graphviz(tree):\n",
        "    dot = graphviz.Digraph(comment='Parse Tree')\n",
        "\n",
        "    def add_nodes_edges(tree, dot, parent_index=None, index=0):\n",
        "        node_index = index\n",
        "        if isinstance(tree, nltk.Tree):\n",
        "            node_label = tree.label()\n",
        "            dot.node(str(node_index), node_label)\n",
        "            if parent_index is not None:\n",
        "                dot.edge(str(parent_index), str(node_index))\n",
        "            for child in tree:\n",
        "                index += 1\n",
        "                index = add_nodes_edges(child, dot, node_index, index)\n",
        "        else:\n",
        "            # Leaf node\n",
        "            dot.node(str(index), str(tree))\n",
        "            if parent_index is not None:\n",
        "                dot.edge(str(parent_index), str(index))\n",
        "        return index\n",
        "\n",
        "    add_nodes_edges(tree, dot)\n",
        "    return dot\n",
        "\n",
        "\n",
        "# Convert tree to graphviz source and display\n",
        "\n"
      ],
      "metadata": {
        "id": "hsXp8ZgC5-vf"
      },
      "execution_count": null,
      "outputs": []
    },
    {
      "cell_type": "code",
      "source": [
        "sent='Flying planes can be dangerous'"
      ],
      "metadata": {
        "id": "GgEx0nDY2JhQ"
      },
      "execution_count": null,
      "outputs": []
    },
    {
      "cell_type": "code",
      "source": [
        "grammar = \"\"\"\n",
        "    GERUND_PHRASE: {<VBG><NNS>}                # Gerund Phrase\n",
        "    NP: {<DT>?<JJ>*<NNS>}                      # Noun Phrase\n",
        "    VP: {<MD><VB><JJ>}                         # Verb Phrase for modal verbs\n",
        "    ADJP: {<RB>*<JJ>}                          # Adjective Phrase\n",
        "\"\"\"\n",
        "\n",
        "\n",
        "parser = nltk.RegexpParser(grammar)"
      ],
      "metadata": {
        "id": "jtibKE_mDbfL"
      },
      "execution_count": null,
      "outputs": []
    },
    {
      "cell_type": "code",
      "source": [
        "#  Tokenizing and tagging\n",
        "tokens = nltk.word_tokenize(sent)\n",
        "tagged = nltk.pos_tag(tokens)\n",
        "print(f'tokens are {tokens}')\n",
        "print(f'POS tags are {tagged}')"
      ],
      "metadata": {
        "colab": {
          "base_uri": "https://localhost:8080/"
        },
        "id": "j0qrh3ui5AKw",
        "outputId": "b9605e1a-01dc-48bb-b70d-da4cf52c78bf"
      },
      "execution_count": null,
      "outputs": [
        {
          "output_type": "stream",
          "name": "stdout",
          "text": [
            "tokens are ['Flying', 'planes', 'can', 'be', 'dangerous']\n",
            "POS tags are [('Flying', 'VBG'), ('planes', 'NNS'), ('can', 'MD'), ('be', 'VB'), ('dangerous', 'JJ')]\n"
          ]
        }
      ]
    },
    {
      "cell_type": "code",
      "source": [
        "tagged"
      ],
      "metadata": {
        "colab": {
          "base_uri": "https://localhost:8080/"
        },
        "id": "QyPMzutH58ys",
        "outputId": "3444885c-8661-492d-b602-b35f5ab810e1"
      },
      "execution_count": null,
      "outputs": [
        {
          "output_type": "execute_result",
          "data": {
            "text/plain": [
              "[('Flying', 'VBG'),\n",
              " ('planes', 'NNS'),\n",
              " ('can', 'MD'),\n",
              " ('be', 'VB'),\n",
              " ('dangerous', 'JJ')]"
            ]
          },
          "metadata": {},
          "execution_count": 8
        }
      ]
    },
    {
      "cell_type": "code",
      "source": [
        "# Create tree\n",
        "tree = parser.parse(tagged)\n",
        "print(tree)"
      ],
      "metadata": {
        "colab": {
          "base_uri": "https://localhost:8080/"
        },
        "id": "GnduSjAZFOAG",
        "outputId": "d0839d62-2dac-4e6e-efd9-fa5acde39ab2"
      },
      "execution_count": null,
      "outputs": [
        {
          "output_type": "stream",
          "name": "stdout",
          "text": [
            "(S\n",
            "  (GERUND_PHRASE Flying/VBG planes/NNS)\n",
            "  (VP can/MD be/VB dangerous/JJ))\n"
          ]
        }
      ]
    },
    {
      "cell_type": "code",
      "source": [
        "dot_source1 = to_graphviz(tree)\n",
        "display(dot_source1)"
      ],
      "metadata": {
        "colab": {
          "base_uri": "https://localhost:8080/",
          "height": 293
        },
        "id": "pHIIyL9dDYyF",
        "outputId": "c4902a91-298a-44ea-b48f-cd414fddaab0"
      },
      "execution_count": null,
      "outputs": [
        {
          "output_type": "display_data",
          "data": {
            "image/svg+xml": "<?xml version=\"1.0\" encoding=\"UTF-8\" standalone=\"no\"?>\n<!DOCTYPE svg PUBLIC \"-//W3C//DTD SVG 1.1//EN\"\n \"http://www.w3.org/Graphics/SVG/1.1/DTD/svg11.dtd\">\n<!-- Generated by graphviz version 2.43.0 (0)\n -->\n<!-- Title: %3 Pages: 1 -->\n<svg width=\"697pt\" height=\"188pt\"\n viewBox=\"0.00 0.00 697.09 188.00\" xmlns=\"http://www.w3.org/2000/svg\" xmlns:xlink=\"http://www.w3.org/1999/xlink\">\n<g id=\"graph0\" class=\"graph\" transform=\"scale(1 1) rotate(0) translate(4 184)\">\n<title>%3</title>\n<polygon fill=\"white\" stroke=\"transparent\" points=\"-4,4 -4,-184 693.09,-184 693.09,4 -4,4\"/>\n<!-- 0 -->\n<g id=\"node1\" class=\"node\">\n<title>0</title>\n<ellipse fill=\"none\" stroke=\"black\" cx=\"292.89\" cy=\"-162\" rx=\"27\" ry=\"18\"/>\n<text text-anchor=\"middle\" x=\"292.89\" y=\"-158.3\" font-family=\"Times,serif\" font-size=\"14.00\">S</text>\n</g>\n<!-- 1 -->\n<g id=\"node2\" class=\"node\">\n<title>1</title>\n<ellipse fill=\"none\" stroke=\"black\" cx=\"222.89\" cy=\"-90\" rx=\"85.29\" ry=\"18\"/>\n<text text-anchor=\"middle\" x=\"222.89\" y=\"-86.3\" font-family=\"Times,serif\" font-size=\"14.00\">GERUND_PHRASE</text>\n</g>\n<!-- 0&#45;&gt;1 -->\n<g id=\"edge1\" class=\"edge\">\n<title>0&#45;&gt;1</title>\n<path fill=\"none\" stroke=\"black\" d=\"M278.39,-146.5C269.3,-137.41 257.37,-125.48 246.9,-115\"/>\n<polygon fill=\"black\" stroke=\"black\" points=\"249.14,-112.29 239.59,-107.7 244.19,-117.24 249.14,-112.29\"/>\n</g>\n<!-- 4 -->\n<g id=\"node5\" class=\"node\">\n<title>4</title>\n<ellipse fill=\"none\" stroke=\"black\" cx=\"422.89\" cy=\"-90\" rx=\"27\" ry=\"18\"/>\n<text text-anchor=\"middle\" x=\"422.89\" y=\"-86.3\" font-family=\"Times,serif\" font-size=\"14.00\">VP</text>\n</g>\n<!-- 0&#45;&gt;4 -->\n<g id=\"edge4\" class=\"edge\">\n<title>0&#45;&gt;4</title>\n<path fill=\"none\" stroke=\"black\" d=\"M313.21,-150.06C334.74,-138.47 368.94,-120.05 393.43,-106.86\"/>\n<polygon fill=\"black\" stroke=\"black\" points=\"395.15,-109.91 402.3,-102.09 391.83,-103.75 395.15,-109.91\"/>\n</g>\n<!-- 2 -->\n<g id=\"node3\" class=\"node\">\n<title>2</title>\n<ellipse fill=\"none\" stroke=\"black\" cx=\"68.89\" cy=\"-18\" rx=\"68.79\" ry=\"18\"/>\n<text text-anchor=\"middle\" x=\"68.89\" y=\"-14.3\" font-family=\"Times,serif\" font-size=\"14.00\">(&#39;Flying&#39;, &#39;VBG&#39;)</text>\n</g>\n<!-- 1&#45;&gt;2 -->\n<g id=\"edge2\" class=\"edge\">\n<title>1&#45;&gt;2</title>\n<path fill=\"none\" stroke=\"black\" d=\"M188.72,-73.46C165.8,-63.05 135.45,-49.25 111.04,-38.16\"/>\n<polygon fill=\"black\" stroke=\"black\" points=\"112.21,-34.84 101.66,-33.89 109.31,-41.22 112.21,-34.84\"/>\n</g>\n<!-- 3 -->\n<g id=\"node4\" class=\"node\">\n<title>3</title>\n<ellipse fill=\"none\" stroke=\"black\" cx=\"222.89\" cy=\"-18\" rx=\"67.69\" ry=\"18\"/>\n<text text-anchor=\"middle\" x=\"222.89\" y=\"-14.3\" font-family=\"Times,serif\" font-size=\"14.00\">(&#39;planes&#39;, &#39;NNS&#39;)</text>\n</g>\n<!-- 1&#45;&gt;3 -->\n<g id=\"edge3\" class=\"edge\">\n<title>1&#45;&gt;3</title>\n<path fill=\"none\" stroke=\"black\" d=\"M222.89,-71.7C222.89,-63.98 222.89,-54.71 222.89,-46.11\"/>\n<polygon fill=\"black\" stroke=\"black\" points=\"226.39,-46.1 222.89,-36.1 219.39,-46.1 226.39,-46.1\"/>\n</g>\n<!-- 5 -->\n<g id=\"node6\" class=\"node\">\n<title>5</title>\n<ellipse fill=\"none\" stroke=\"black\" cx=\"362.89\" cy=\"-18\" rx=\"53.89\" ry=\"18\"/>\n<text text-anchor=\"middle\" x=\"362.89\" y=\"-14.3\" font-family=\"Times,serif\" font-size=\"14.00\">(&#39;can&#39;, &#39;MD&#39;)</text>\n</g>\n<!-- 4&#45;&gt;5 -->\n<g id=\"edge5\" class=\"edge\">\n<title>4&#45;&gt;5</title>\n<path fill=\"none\" stroke=\"black\" d=\"M409.87,-73.81C402.26,-64.93 392.47,-53.5 383.8,-43.39\"/>\n<polygon fill=\"black\" stroke=\"black\" points=\"386.31,-40.94 377.15,-35.63 381,-45.5 386.31,-40.94\"/>\n</g>\n<!-- 6 -->\n<g id=\"node7\" class=\"node\">\n<title>6</title>\n<ellipse fill=\"none\" stroke=\"black\" cx=\"482.89\" cy=\"-18\" rx=\"48.19\" ry=\"18\"/>\n<text text-anchor=\"middle\" x=\"482.89\" y=\"-14.3\" font-family=\"Times,serif\" font-size=\"14.00\">(&#39;be&#39;, &#39;VB&#39;)</text>\n</g>\n<!-- 4&#45;&gt;6 -->\n<g id=\"edge6\" class=\"edge\">\n<title>4&#45;&gt;6</title>\n<path fill=\"none\" stroke=\"black\" d=\"M435.91,-73.81C443.53,-64.93 453.32,-53.5 461.99,-43.39\"/>\n<polygon fill=\"black\" stroke=\"black\" points=\"464.79,-45.5 468.64,-35.63 459.48,-40.94 464.79,-45.5\"/>\n</g>\n<!-- 7 -->\n<g id=\"node8\" class=\"node\">\n<title>7</title>\n<ellipse fill=\"none\" stroke=\"black\" cx=\"618.89\" cy=\"-18\" rx=\"70.39\" ry=\"18\"/>\n<text text-anchor=\"middle\" x=\"618.89\" y=\"-14.3\" font-family=\"Times,serif\" font-size=\"14.00\">(&#39;dangerous&#39;, &#39;JJ&#39;)</text>\n</g>\n<!-- 4&#45;&gt;7 -->\n<g id=\"edge7\" class=\"edge\">\n<title>4&#45;&gt;7</title>\n<path fill=\"none\" stroke=\"black\" d=\"M446.15,-80.7C476.59,-69.82 530.74,-50.49 570.31,-36.35\"/>\n<polygon fill=\"black\" stroke=\"black\" points=\"571.54,-39.63 579.78,-32.97 569.19,-33.04 571.54,-39.63\"/>\n</g>\n</g>\n</svg>\n",
            "text/plain": [
              "<graphviz.graphs.Digraph at 0x78cecbec7400>"
            ]
          },
          "metadata": {}
        }
      ]
    },
    {
      "cell_type": "code",
      "source": [
        "# prompt: in tagged replace VBG for Flying with JJ and name new list tagged_alt\n",
        "\n",
        "for i in range(len(tagged)):\n",
        "  if tagged[i][0] == 'Flying':\n",
        "    tagged_alt = tagged.copy()\n",
        "    tagged_alt[i] = ('Flying', 'JJ')\n",
        "    break\n"
      ],
      "metadata": {
        "id": "rgoHq97IFbYa"
      },
      "execution_count": null,
      "outputs": []
    },
    {
      "cell_type": "code",
      "source": [
        "tagged_alt"
      ],
      "metadata": {
        "id": "jjEYsPivWKrg",
        "colab": {
          "base_uri": "https://localhost:8080/"
        },
        "outputId": "072421c7-404f-47ac-d364-e630b2390d09"
      },
      "execution_count": null,
      "outputs": [
        {
          "output_type": "execute_result",
          "data": {
            "text/plain": [
              "[('Flying', 'JJ'),\n",
              " ('planes', 'NNS'),\n",
              " ('can', 'MD'),\n",
              " ('be', 'VB'),\n",
              " ('dangerous', 'JJ')]"
            ]
          },
          "metadata": {},
          "execution_count": 12
        }
      ]
    },
    {
      "cell_type": "code",
      "source": [
        "# Create tree\n",
        "tree_alt = parser.parse(tagged_alt)\n",
        "print(tree_alt)"
      ],
      "metadata": {
        "colab": {
          "base_uri": "https://localhost:8080/"
        },
        "id": "lHUrJ7-07n1z",
        "outputId": "56a08c3c-bf46-4f3a-a9d8-97291baa4041"
      },
      "execution_count": null,
      "outputs": [
        {
          "output_type": "stream",
          "name": "stdout",
          "text": [
            "(S (NP Flying/JJ planes/NNS) (VP can/MD be/VB dangerous/JJ))\n"
          ]
        }
      ]
    },
    {
      "cell_type": "code",
      "source": [
        "dot_source_alt = to_graphviz(tree_alt)\n",
        "display(dot_source_alt)"
      ],
      "metadata": {
        "colab": {
          "base_uri": "https://localhost:8080/",
          "height": 293
        },
        "id": "EdwGJI7o7xTz",
        "outputId": "5eec61af-333c-4186-9b63-d8f61333e685"
      },
      "execution_count": null,
      "outputs": [
        {
          "output_type": "display_data",
          "data": {
            "image/svg+xml": "<?xml version=\"1.0\" encoding=\"UTF-8\" standalone=\"no\"?>\n<!DOCTYPE svg PUBLIC \"-//W3C//DTD SVG 1.1//EN\"\n \"http://www.w3.org/Graphics/SVG/1.1/DTD/svg11.dtd\">\n<!-- Generated by graphviz version 2.43.0 (0)\n -->\n<!-- Title: %3 Pages: 1 -->\n<svg width=\"674pt\" height=\"188pt\"\n viewBox=\"0.00 0.00 674.39 188.00\" xmlns=\"http://www.w3.org/2000/svg\" xmlns:xlink=\"http://www.w3.org/1999/xlink\">\n<g id=\"graph0\" class=\"graph\" transform=\"scale(1 1) rotate(0) translate(4 184)\">\n<title>%3</title>\n<polygon fill=\"white\" stroke=\"transparent\" points=\"-4,4 -4,-184 670.39,-184 670.39,4 -4,4\"/>\n<!-- 0 -->\n<g id=\"node1\" class=\"node\">\n<title>0</title>\n<ellipse fill=\"none\" stroke=\"black\" cx=\"270.19\" cy=\"-162\" rx=\"27\" ry=\"18\"/>\n<text text-anchor=\"middle\" x=\"270.19\" y=\"-158.3\" font-family=\"Times,serif\" font-size=\"14.00\">S</text>\n</g>\n<!-- 1 -->\n<g id=\"node2\" class=\"node\">\n<title>1</title>\n<ellipse fill=\"none\" stroke=\"black\" cx=\"200.19\" cy=\"-90\" rx=\"27\" ry=\"18\"/>\n<text text-anchor=\"middle\" x=\"200.19\" y=\"-86.3\" font-family=\"Times,serif\" font-size=\"14.00\">NP</text>\n</g>\n<!-- 0&#45;&gt;1 -->\n<g id=\"edge1\" class=\"edge\">\n<title>0&#45;&gt;1</title>\n<path fill=\"none\" stroke=\"black\" d=\"M255.69,-146.5C245.93,-136.73 232.88,-123.69 221.89,-112.7\"/>\n<polygon fill=\"black\" stroke=\"black\" points=\"224.23,-110.08 214.68,-105.49 219.28,-115.03 224.23,-110.08\"/>\n</g>\n<!-- 4 -->\n<g id=\"node5\" class=\"node\">\n<title>4</title>\n<ellipse fill=\"none\" stroke=\"black\" cx=\"400.19\" cy=\"-90\" rx=\"27\" ry=\"18\"/>\n<text text-anchor=\"middle\" x=\"400.19\" y=\"-86.3\" font-family=\"Times,serif\" font-size=\"14.00\">VP</text>\n</g>\n<!-- 0&#45;&gt;4 -->\n<g id=\"edge4\" class=\"edge\">\n<title>0&#45;&gt;4</title>\n<path fill=\"none\" stroke=\"black\" d=\"M290.51,-150.06C312.04,-138.47 346.24,-120.05 370.73,-106.86\"/>\n<polygon fill=\"black\" stroke=\"black\" points=\"372.45,-109.91 379.6,-102.09 369.13,-103.75 372.45,-109.91\"/>\n</g>\n<!-- 2 -->\n<g id=\"node3\" class=\"node\">\n<title>2</title>\n<ellipse fill=\"none\" stroke=\"black\" cx=\"57.19\" cy=\"-18\" rx=\"57.39\" ry=\"18\"/>\n<text text-anchor=\"middle\" x=\"57.19\" y=\"-14.3\" font-family=\"Times,serif\" font-size=\"14.00\">(&#39;Flying&#39;, &#39;JJ&#39;)</text>\n</g>\n<!-- 1&#45;&gt;2 -->\n<g id=\"edge2\" class=\"edge\">\n<title>1&#45;&gt;2</title>\n<path fill=\"none\" stroke=\"black\" d=\"M179.09,-78.67C157.27,-67.99 122.71,-51.07 95.95,-37.97\"/>\n<polygon fill=\"black\" stroke=\"black\" points=\"97.36,-34.77 86.84,-33.51 94.28,-41.05 97.36,-34.77\"/>\n</g>\n<!-- 3 -->\n<g id=\"node4\" class=\"node\">\n<title>3</title>\n<ellipse fill=\"none\" stroke=\"black\" cx=\"200.19\" cy=\"-18\" rx=\"67.69\" ry=\"18\"/>\n<text text-anchor=\"middle\" x=\"200.19\" y=\"-14.3\" font-family=\"Times,serif\" font-size=\"14.00\">(&#39;planes&#39;, &#39;NNS&#39;)</text>\n</g>\n<!-- 1&#45;&gt;3 -->\n<g id=\"edge3\" class=\"edge\">\n<title>1&#45;&gt;3</title>\n<path fill=\"none\" stroke=\"black\" d=\"M200.19,-71.7C200.19,-63.98 200.19,-54.71 200.19,-46.11\"/>\n<polygon fill=\"black\" stroke=\"black\" points=\"203.7,-46.1 200.19,-36.1 196.7,-46.1 203.7,-46.1\"/>\n</g>\n<!-- 5 -->\n<g id=\"node6\" class=\"node\">\n<title>5</title>\n<ellipse fill=\"none\" stroke=\"black\" cx=\"340.19\" cy=\"-18\" rx=\"53.89\" ry=\"18\"/>\n<text text-anchor=\"middle\" x=\"340.19\" y=\"-14.3\" font-family=\"Times,serif\" font-size=\"14.00\">(&#39;can&#39;, &#39;MD&#39;)</text>\n</g>\n<!-- 4&#45;&gt;5 -->\n<g id=\"edge5\" class=\"edge\">\n<title>4&#45;&gt;5</title>\n<path fill=\"none\" stroke=\"black\" d=\"M387.18,-73.81C379.56,-64.93 369.77,-53.5 361.1,-43.39\"/>\n<polygon fill=\"black\" stroke=\"black\" points=\"363.61,-40.94 354.45,-35.63 358.3,-45.5 363.61,-40.94\"/>\n</g>\n<!-- 6 -->\n<g id=\"node7\" class=\"node\">\n<title>6</title>\n<ellipse fill=\"none\" stroke=\"black\" cx=\"460.19\" cy=\"-18\" rx=\"48.19\" ry=\"18\"/>\n<text text-anchor=\"middle\" x=\"460.19\" y=\"-14.3\" font-family=\"Times,serif\" font-size=\"14.00\">(&#39;be&#39;, &#39;VB&#39;)</text>\n</g>\n<!-- 4&#45;&gt;6 -->\n<g id=\"edge6\" class=\"edge\">\n<title>4&#45;&gt;6</title>\n<path fill=\"none\" stroke=\"black\" d=\"M413.21,-73.81C420.83,-64.93 430.62,-53.5 439.29,-43.39\"/>\n<polygon fill=\"black\" stroke=\"black\" points=\"442.09,-45.5 445.94,-35.63 436.78,-40.94 442.09,-45.5\"/>\n</g>\n<!-- 7 -->\n<g id=\"node8\" class=\"node\">\n<title>7</title>\n<ellipse fill=\"none\" stroke=\"black\" cx=\"596.19\" cy=\"-18\" rx=\"70.39\" ry=\"18\"/>\n<text text-anchor=\"middle\" x=\"596.19\" y=\"-14.3\" font-family=\"Times,serif\" font-size=\"14.00\">(&#39;dangerous&#39;, &#39;JJ&#39;)</text>\n</g>\n<!-- 4&#45;&gt;7 -->\n<g id=\"edge7\" class=\"edge\">\n<title>4&#45;&gt;7</title>\n<path fill=\"none\" stroke=\"black\" d=\"M423.45,-80.7C453.89,-69.82 508.04,-50.49 547.61,-36.35\"/>\n<polygon fill=\"black\" stroke=\"black\" points=\"548.84,-39.63 557.09,-32.97 546.49,-33.04 548.84,-39.63\"/>\n</g>\n</g>\n</svg>\n",
            "text/plain": [
              "<graphviz.graphs.Digraph at 0x78cecbec7820>"
            ]
          },
          "metadata": {}
        }
      ]
    },
    {
      "cell_type": "code",
      "source": [
        "display(dot_source1)\n",
        "display(dot_source_alt)"
      ],
      "metadata": {
        "colab": {
          "base_uri": "https://localhost:8080/",
          "height": 547
        },
        "id": "pgK9Pa6d71vO",
        "outputId": "05d45011-5a2c-47dc-8171-c7942181709c"
      },
      "execution_count": null,
      "outputs": [
        {
          "output_type": "display_data",
          "data": {
            "image/svg+xml": "<?xml version=\"1.0\" encoding=\"UTF-8\" standalone=\"no\"?>\n<!DOCTYPE svg PUBLIC \"-//W3C//DTD SVG 1.1//EN\"\n \"http://www.w3.org/Graphics/SVG/1.1/DTD/svg11.dtd\">\n<!-- Generated by graphviz version 2.43.0 (0)\n -->\n<!-- Title: %3 Pages: 1 -->\n<svg width=\"697pt\" height=\"188pt\"\n viewBox=\"0.00 0.00 697.09 188.00\" xmlns=\"http://www.w3.org/2000/svg\" xmlns:xlink=\"http://www.w3.org/1999/xlink\">\n<g id=\"graph0\" class=\"graph\" transform=\"scale(1 1) rotate(0) translate(4 184)\">\n<title>%3</title>\n<polygon fill=\"white\" stroke=\"transparent\" points=\"-4,4 -4,-184 693.09,-184 693.09,4 -4,4\"/>\n<!-- 0 -->\n<g id=\"node1\" class=\"node\">\n<title>0</title>\n<ellipse fill=\"none\" stroke=\"black\" cx=\"292.89\" cy=\"-162\" rx=\"27\" ry=\"18\"/>\n<text text-anchor=\"middle\" x=\"292.89\" y=\"-158.3\" font-family=\"Times,serif\" font-size=\"14.00\">S</text>\n</g>\n<!-- 1 -->\n<g id=\"node2\" class=\"node\">\n<title>1</title>\n<ellipse fill=\"none\" stroke=\"black\" cx=\"222.89\" cy=\"-90\" rx=\"85.29\" ry=\"18\"/>\n<text text-anchor=\"middle\" x=\"222.89\" y=\"-86.3\" font-family=\"Times,serif\" font-size=\"14.00\">GERUND_PHRASE</text>\n</g>\n<!-- 0&#45;&gt;1 -->\n<g id=\"edge1\" class=\"edge\">\n<title>0&#45;&gt;1</title>\n<path fill=\"none\" stroke=\"black\" d=\"M278.39,-146.5C269.3,-137.41 257.37,-125.48 246.9,-115\"/>\n<polygon fill=\"black\" stroke=\"black\" points=\"249.14,-112.29 239.59,-107.7 244.19,-117.24 249.14,-112.29\"/>\n</g>\n<!-- 4 -->\n<g id=\"node5\" class=\"node\">\n<title>4</title>\n<ellipse fill=\"none\" stroke=\"black\" cx=\"422.89\" cy=\"-90\" rx=\"27\" ry=\"18\"/>\n<text text-anchor=\"middle\" x=\"422.89\" y=\"-86.3\" font-family=\"Times,serif\" font-size=\"14.00\">VP</text>\n</g>\n<!-- 0&#45;&gt;4 -->\n<g id=\"edge4\" class=\"edge\">\n<title>0&#45;&gt;4</title>\n<path fill=\"none\" stroke=\"black\" d=\"M313.21,-150.06C334.74,-138.47 368.94,-120.05 393.43,-106.86\"/>\n<polygon fill=\"black\" stroke=\"black\" points=\"395.15,-109.91 402.3,-102.09 391.83,-103.75 395.15,-109.91\"/>\n</g>\n<!-- 2 -->\n<g id=\"node3\" class=\"node\">\n<title>2</title>\n<ellipse fill=\"none\" stroke=\"black\" cx=\"68.89\" cy=\"-18\" rx=\"68.79\" ry=\"18\"/>\n<text text-anchor=\"middle\" x=\"68.89\" y=\"-14.3\" font-family=\"Times,serif\" font-size=\"14.00\">(&#39;Flying&#39;, &#39;VBG&#39;)</text>\n</g>\n<!-- 1&#45;&gt;2 -->\n<g id=\"edge2\" class=\"edge\">\n<title>1&#45;&gt;2</title>\n<path fill=\"none\" stroke=\"black\" d=\"M188.72,-73.46C165.8,-63.05 135.45,-49.25 111.04,-38.16\"/>\n<polygon fill=\"black\" stroke=\"black\" points=\"112.21,-34.84 101.66,-33.89 109.31,-41.22 112.21,-34.84\"/>\n</g>\n<!-- 3 -->\n<g id=\"node4\" class=\"node\">\n<title>3</title>\n<ellipse fill=\"none\" stroke=\"black\" cx=\"222.89\" cy=\"-18\" rx=\"67.69\" ry=\"18\"/>\n<text text-anchor=\"middle\" x=\"222.89\" y=\"-14.3\" font-family=\"Times,serif\" font-size=\"14.00\">(&#39;planes&#39;, &#39;NNS&#39;)</text>\n</g>\n<!-- 1&#45;&gt;3 -->\n<g id=\"edge3\" class=\"edge\">\n<title>1&#45;&gt;3</title>\n<path fill=\"none\" stroke=\"black\" d=\"M222.89,-71.7C222.89,-63.98 222.89,-54.71 222.89,-46.11\"/>\n<polygon fill=\"black\" stroke=\"black\" points=\"226.39,-46.1 222.89,-36.1 219.39,-46.1 226.39,-46.1\"/>\n</g>\n<!-- 5 -->\n<g id=\"node6\" class=\"node\">\n<title>5</title>\n<ellipse fill=\"none\" stroke=\"black\" cx=\"362.89\" cy=\"-18\" rx=\"53.89\" ry=\"18\"/>\n<text text-anchor=\"middle\" x=\"362.89\" y=\"-14.3\" font-family=\"Times,serif\" font-size=\"14.00\">(&#39;can&#39;, &#39;MD&#39;)</text>\n</g>\n<!-- 4&#45;&gt;5 -->\n<g id=\"edge5\" class=\"edge\">\n<title>4&#45;&gt;5</title>\n<path fill=\"none\" stroke=\"black\" d=\"M409.87,-73.81C402.26,-64.93 392.47,-53.5 383.8,-43.39\"/>\n<polygon fill=\"black\" stroke=\"black\" points=\"386.31,-40.94 377.15,-35.63 381,-45.5 386.31,-40.94\"/>\n</g>\n<!-- 6 -->\n<g id=\"node7\" class=\"node\">\n<title>6</title>\n<ellipse fill=\"none\" stroke=\"black\" cx=\"482.89\" cy=\"-18\" rx=\"48.19\" ry=\"18\"/>\n<text text-anchor=\"middle\" x=\"482.89\" y=\"-14.3\" font-family=\"Times,serif\" font-size=\"14.00\">(&#39;be&#39;, &#39;VB&#39;)</text>\n</g>\n<!-- 4&#45;&gt;6 -->\n<g id=\"edge6\" class=\"edge\">\n<title>4&#45;&gt;6</title>\n<path fill=\"none\" stroke=\"black\" d=\"M435.91,-73.81C443.53,-64.93 453.32,-53.5 461.99,-43.39\"/>\n<polygon fill=\"black\" stroke=\"black\" points=\"464.79,-45.5 468.64,-35.63 459.48,-40.94 464.79,-45.5\"/>\n</g>\n<!-- 7 -->\n<g id=\"node8\" class=\"node\">\n<title>7</title>\n<ellipse fill=\"none\" stroke=\"black\" cx=\"618.89\" cy=\"-18\" rx=\"70.39\" ry=\"18\"/>\n<text text-anchor=\"middle\" x=\"618.89\" y=\"-14.3\" font-family=\"Times,serif\" font-size=\"14.00\">(&#39;dangerous&#39;, &#39;JJ&#39;)</text>\n</g>\n<!-- 4&#45;&gt;7 -->\n<g id=\"edge7\" class=\"edge\">\n<title>4&#45;&gt;7</title>\n<path fill=\"none\" stroke=\"black\" d=\"M446.15,-80.7C476.59,-69.82 530.74,-50.49 570.31,-36.35\"/>\n<polygon fill=\"black\" stroke=\"black\" points=\"571.54,-39.63 579.78,-32.97 569.19,-33.04 571.54,-39.63\"/>\n</g>\n</g>\n</svg>\n",
            "text/plain": [
              "<graphviz.graphs.Digraph at 0x78cecbec7400>"
            ]
          },
          "metadata": {}
        },
        {
          "output_type": "display_data",
          "data": {
            "image/svg+xml": "<?xml version=\"1.0\" encoding=\"UTF-8\" standalone=\"no\"?>\n<!DOCTYPE svg PUBLIC \"-//W3C//DTD SVG 1.1//EN\"\n \"http://www.w3.org/Graphics/SVG/1.1/DTD/svg11.dtd\">\n<!-- Generated by graphviz version 2.43.0 (0)\n -->\n<!-- Title: %3 Pages: 1 -->\n<svg width=\"674pt\" height=\"188pt\"\n viewBox=\"0.00 0.00 674.39 188.00\" xmlns=\"http://www.w3.org/2000/svg\" xmlns:xlink=\"http://www.w3.org/1999/xlink\">\n<g id=\"graph0\" class=\"graph\" transform=\"scale(1 1) rotate(0) translate(4 184)\">\n<title>%3</title>\n<polygon fill=\"white\" stroke=\"transparent\" points=\"-4,4 -4,-184 670.39,-184 670.39,4 -4,4\"/>\n<!-- 0 -->\n<g id=\"node1\" class=\"node\">\n<title>0</title>\n<ellipse fill=\"none\" stroke=\"black\" cx=\"270.19\" cy=\"-162\" rx=\"27\" ry=\"18\"/>\n<text text-anchor=\"middle\" x=\"270.19\" y=\"-158.3\" font-family=\"Times,serif\" font-size=\"14.00\">S</text>\n</g>\n<!-- 1 -->\n<g id=\"node2\" class=\"node\">\n<title>1</title>\n<ellipse fill=\"none\" stroke=\"black\" cx=\"200.19\" cy=\"-90\" rx=\"27\" ry=\"18\"/>\n<text text-anchor=\"middle\" x=\"200.19\" y=\"-86.3\" font-family=\"Times,serif\" font-size=\"14.00\">NP</text>\n</g>\n<!-- 0&#45;&gt;1 -->\n<g id=\"edge1\" class=\"edge\">\n<title>0&#45;&gt;1</title>\n<path fill=\"none\" stroke=\"black\" d=\"M255.69,-146.5C245.93,-136.73 232.88,-123.69 221.89,-112.7\"/>\n<polygon fill=\"black\" stroke=\"black\" points=\"224.23,-110.08 214.68,-105.49 219.28,-115.03 224.23,-110.08\"/>\n</g>\n<!-- 4 -->\n<g id=\"node5\" class=\"node\">\n<title>4</title>\n<ellipse fill=\"none\" stroke=\"black\" cx=\"400.19\" cy=\"-90\" rx=\"27\" ry=\"18\"/>\n<text text-anchor=\"middle\" x=\"400.19\" y=\"-86.3\" font-family=\"Times,serif\" font-size=\"14.00\">VP</text>\n</g>\n<!-- 0&#45;&gt;4 -->\n<g id=\"edge4\" class=\"edge\">\n<title>0&#45;&gt;4</title>\n<path fill=\"none\" stroke=\"black\" d=\"M290.51,-150.06C312.04,-138.47 346.24,-120.05 370.73,-106.86\"/>\n<polygon fill=\"black\" stroke=\"black\" points=\"372.45,-109.91 379.6,-102.09 369.13,-103.75 372.45,-109.91\"/>\n</g>\n<!-- 2 -->\n<g id=\"node3\" class=\"node\">\n<title>2</title>\n<ellipse fill=\"none\" stroke=\"black\" cx=\"57.19\" cy=\"-18\" rx=\"57.39\" ry=\"18\"/>\n<text text-anchor=\"middle\" x=\"57.19\" y=\"-14.3\" font-family=\"Times,serif\" font-size=\"14.00\">(&#39;Flying&#39;, &#39;JJ&#39;)</text>\n</g>\n<!-- 1&#45;&gt;2 -->\n<g id=\"edge2\" class=\"edge\">\n<title>1&#45;&gt;2</title>\n<path fill=\"none\" stroke=\"black\" d=\"M179.09,-78.67C157.27,-67.99 122.71,-51.07 95.95,-37.97\"/>\n<polygon fill=\"black\" stroke=\"black\" points=\"97.36,-34.77 86.84,-33.51 94.28,-41.05 97.36,-34.77\"/>\n</g>\n<!-- 3 -->\n<g id=\"node4\" class=\"node\">\n<title>3</title>\n<ellipse fill=\"none\" stroke=\"black\" cx=\"200.19\" cy=\"-18\" rx=\"67.69\" ry=\"18\"/>\n<text text-anchor=\"middle\" x=\"200.19\" y=\"-14.3\" font-family=\"Times,serif\" font-size=\"14.00\">(&#39;planes&#39;, &#39;NNS&#39;)</text>\n</g>\n<!-- 1&#45;&gt;3 -->\n<g id=\"edge3\" class=\"edge\">\n<title>1&#45;&gt;3</title>\n<path fill=\"none\" stroke=\"black\" d=\"M200.19,-71.7C200.19,-63.98 200.19,-54.71 200.19,-46.11\"/>\n<polygon fill=\"black\" stroke=\"black\" points=\"203.7,-46.1 200.19,-36.1 196.7,-46.1 203.7,-46.1\"/>\n</g>\n<!-- 5 -->\n<g id=\"node6\" class=\"node\">\n<title>5</title>\n<ellipse fill=\"none\" stroke=\"black\" cx=\"340.19\" cy=\"-18\" rx=\"53.89\" ry=\"18\"/>\n<text text-anchor=\"middle\" x=\"340.19\" y=\"-14.3\" font-family=\"Times,serif\" font-size=\"14.00\">(&#39;can&#39;, &#39;MD&#39;)</text>\n</g>\n<!-- 4&#45;&gt;5 -->\n<g id=\"edge5\" class=\"edge\">\n<title>4&#45;&gt;5</title>\n<path fill=\"none\" stroke=\"black\" d=\"M387.18,-73.81C379.56,-64.93 369.77,-53.5 361.1,-43.39\"/>\n<polygon fill=\"black\" stroke=\"black\" points=\"363.61,-40.94 354.45,-35.63 358.3,-45.5 363.61,-40.94\"/>\n</g>\n<!-- 6 -->\n<g id=\"node7\" class=\"node\">\n<title>6</title>\n<ellipse fill=\"none\" stroke=\"black\" cx=\"460.19\" cy=\"-18\" rx=\"48.19\" ry=\"18\"/>\n<text text-anchor=\"middle\" x=\"460.19\" y=\"-14.3\" font-family=\"Times,serif\" font-size=\"14.00\">(&#39;be&#39;, &#39;VB&#39;)</text>\n</g>\n<!-- 4&#45;&gt;6 -->\n<g id=\"edge6\" class=\"edge\">\n<title>4&#45;&gt;6</title>\n<path fill=\"none\" stroke=\"black\" d=\"M413.21,-73.81C420.83,-64.93 430.62,-53.5 439.29,-43.39\"/>\n<polygon fill=\"black\" stroke=\"black\" points=\"442.09,-45.5 445.94,-35.63 436.78,-40.94 442.09,-45.5\"/>\n</g>\n<!-- 7 -->\n<g id=\"node8\" class=\"node\">\n<title>7</title>\n<ellipse fill=\"none\" stroke=\"black\" cx=\"596.19\" cy=\"-18\" rx=\"70.39\" ry=\"18\"/>\n<text text-anchor=\"middle\" x=\"596.19\" y=\"-14.3\" font-family=\"Times,serif\" font-size=\"14.00\">(&#39;dangerous&#39;, &#39;JJ&#39;)</text>\n</g>\n<!-- 4&#45;&gt;7 -->\n<g id=\"edge7\" class=\"edge\">\n<title>4&#45;&gt;7</title>\n<path fill=\"none\" stroke=\"black\" d=\"M423.45,-80.7C453.89,-69.82 508.04,-50.49 547.61,-36.35\"/>\n<polygon fill=\"black\" stroke=\"black\" points=\"548.84,-39.63 557.09,-32.97 546.49,-33.04 548.84,-39.63\"/>\n</g>\n</g>\n</svg>\n",
            "text/plain": [
              "<graphviz.graphs.Digraph at 0x78cecbec7820>"
            ]
          },
          "metadata": {}
        }
      ]
    },
    {
      "cell_type": "code",
      "source": [],
      "metadata": {
        "id": "TKzvxtB8GWHi"
      },
      "execution_count": null,
      "outputs": []
    },
    {
      "cell_type": "code",
      "source": [],
      "metadata": {
        "id": "gYhK2rjGBkvC"
      },
      "execution_count": null,
      "outputs": []
    }
  ]
}