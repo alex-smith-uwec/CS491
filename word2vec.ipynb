{
  "nbformat": 4,
  "nbformat_minor": 0,
  "metadata": {
    "colab": {
      "provenance": [],
      "collapsed_sections": [
        "3hbso2-5laXO"
      ],
      "mount_file_id": "1AZk2HS77mMl-mZyKuzIvX4dicurVJ1-p",
      "authorship_tag": "ABX9TyN6anyzaOFV0tO161veDNOn",
      "include_colab_link": true
    },
    "kernelspec": {
      "name": "python3",
      "display_name": "Python 3"
    },
    "language_info": {
      "name": "python"
    }
  },
  "cells": [
    {
      "cell_type": "markdown",
      "metadata": {
        "id": "view-in-github",
        "colab_type": "text"
      },
      "source": [
        "<a href=\"https://colab.research.google.com/github/alex-smith-uwec/CS491/blob/main/word2vec.ipynb\" target=\"_parent\"><img src=\"https://colab.research.google.com/assets/colab-badge.svg\" alt=\"Open In Colab\"/></a>"
      ]
    },
    {
      "cell_type": "code",
      "source": [
        "from google.colab import drive\n",
        "drive.mount('/content/drive')"
      ],
      "metadata": {
        "colab": {
          "base_uri": "https://localhost:8080/"
        },
        "id": "mpRBWeZUE29k",
        "outputId": "2e4bcb5b-e06f-4954-9f9f-e2d986915987"
      },
      "execution_count": null,
      "outputs": [
        {
          "output_type": "stream",
          "name": "stdout",
          "text": [
            "Mounted at /content/drive\n"
          ]
        }
      ]
    },
    {
      "cell_type": "code",
      "execution_count": null,
      "metadata": {
        "colab": {
          "base_uri": "https://localhost:8080/"
        },
        "id": "V8RXZzP-D9wx",
        "outputId": "68becb41-e3b8-459a-8b22-71926872cfc5"
      },
      "outputs": [
        {
          "output_type": "stream",
          "name": "stderr",
          "text": [
            "[nltk_data] Downloading package punkt to /root/nltk_data...\n",
            "[nltk_data]   Package punkt is already up-to-date!\n",
            "[nltk_data] Downloading package stopwords to /root/nltk_data...\n",
            "[nltk_data]   Package stopwords is already up-to-date!\n"
          ]
        }
      ],
      "source": [
        "import os\n",
        "from gensim.models import Word2Vec\n",
        "from nltk.tokenize import sent_tokenize, word_tokenize\n",
        "from nltk.corpus import stopwords\n",
        "import string\n",
        "\n",
        "import nltk\n",
        "nltk.download('punkt')\n",
        "nltk.download('stopwords')\n",
        "stop_words = set(stopwords.words('english'))\n"
      ]
    },
    {
      "cell_type": "code",
      "source": [
        "my_path=\"/content/drive/MyDrive/CS491/Data/US_Inaugural_Addresses\""
      ],
      "metadata": {
        "id": "LbXs0kMoFN3T"
      },
      "execution_count": null,
      "outputs": []
    },
    {
      "cell_type": "code",
      "source": [
        "# Assuming all your text files are in the 'inauguration_speeches' directory\n",
        "directory = my_path\n",
        "all_files = os.listdir(directory)\n"
      ],
      "metadata": {
        "id": "VWgcurmdEhjt"
      },
      "execution_count": null,
      "outputs": []
    },
    {
      "cell_type": "code",
      "source": [
        "combined_text = \"\" # This will store all text combined from all files\n",
        "\n",
        "for filename in all_files:\n",
        "    filepath = os.path.join(directory, filename)\n",
        "    with open(filepath, 'r', encoding='utf-8') as file:\n",
        "        text = file.read()\n",
        "        combined_text += text + \" \" # Ensure there's space between texts\n",
        "\n",
        "# Use NLTK's sent_tokenize to split the combined text into sentences"
      ],
      "metadata": {
        "id": "er6fCoUX389d"
      },
      "execution_count": null,
      "outputs": []
    },
    {
      "cell_type": "code",
      "source": [
        "sentences = sent_tokenize(combined_text)\n"
      ],
      "metadata": {
        "id": "wnzwF-Mf37N2"
      },
      "execution_count": null,
      "outputs": []
    },
    {
      "cell_type": "code",
      "source": [
        "tokenized_sentences = []\n",
        "for sentence in sentences:\n",
        "    # Tokenize each sentence into words and apply lowercasing\n",
        "    words = word_tokenize(sentence.lower())\n",
        "    # Remove stopwords\n",
        "    words_filtered = [word for word in words if word not in stop_words and word.isalpha()]  # isalpha() helps remove punctuation\n",
        "    tokenized_sentences.append(words_filtered)\n"
      ],
      "metadata": {
        "id": "3eo0fBkRG1G_"
      },
      "execution_count": null,
      "outputs": []
    },
    {
      "cell_type": "code",
      "source": [
        "tokenized_sentences[50:52]"
      ],
      "metadata": {
        "colab": {
          "base_uri": "https://localhost:8080/"
        },
        "id": "9vpQjqAq4wYM",
        "outputId": "36757247-9c65-4416-cea2-30594ca1d7e6"
      },
      "execution_count": null,
      "outputs": [
        {
          "output_type": "execute_result",
          "data": {
            "text/plain": [
              "[['considerations',\n",
              "  'lead',\n",
              "  'adherence',\n",
              "  'permanent',\n",
              "  'court',\n",
              "  'international',\n",
              "  'justice'],\n",
              " ['great',\n",
              "  'principles',\n",
              "  'involved',\n",
              "  'great',\n",
              "  'movements',\n",
              "  'way',\n",
              "  'promise',\n",
              "  'much',\n",
              "  'welfare',\n",
              "  'humanity',\n",
              "  'reason',\n",
              "  'fact',\n",
              "  'many',\n",
              "  'nations',\n",
              "  'given',\n",
              "  'movements',\n",
              "  'actual',\n",
              "  'support',\n",
              "  'ought',\n",
              "  'withhold',\n",
              "  'sanction',\n",
              "  'small',\n",
              "  'inessential',\n",
              "  'difference',\n",
              "  'upon',\n",
              "  'ground',\n",
              "  'important',\n",
              "  'compelling',\n",
              "  'fundamental',\n",
              "  'reasons']]"
            ]
          },
          "metadata": {},
          "execution_count": 56
        }
      ]
    },
    {
      "cell_type": "code",
      "source": [
        "##How many CPU cores are availabe in Colab?\n",
        "!cat /proc/cpuinfo | grep processor | wc -l"
      ],
      "metadata": {
        "colab": {
          "base_uri": "https://localhost:8080/"
        },
        "id": "tAeEN69HKn9h",
        "outputId": "3c70a9dd-3f95-4444-9819-595fc3294b6c"
      },
      "execution_count": null,
      "outputs": [
        {
          "output_type": "stream",
          "name": "stdout",
          "text": [
            "2\n"
          ]
        }
      ]
    },
    {
      "cell_type": "code",
      "source": [
        "model = Word2Vec(tokenized_sentences, vector_size=200, window=5, min_count=10, workers=4, epochs=20)\n",
        "#Set min count up to about 10 to reduce number of words, which makes plotting work."
      ],
      "metadata": {
        "id": "ROj0a1dDETTL"
      },
      "execution_count": null,
      "outputs": []
    },
    {
      "cell_type": "code",
      "source": [
        "len(model.wv.index_to_key)"
      ],
      "metadata": {
        "colab": {
          "base_uri": "https://localhost:8080/"
        },
        "id": "4zOqAGuzMzSG",
        "outputId": "78d01cc3-85d1-4d4b-85f2-1817c2465e1d"
      },
      "execution_count": null,
      "outputs": [
        {
          "output_type": "execute_result",
          "data": {
            "text/plain": [
              "1400"
            ]
          },
          "metadata": {},
          "execution_count": 67
        }
      ]
    },
    {
      "cell_type": "code",
      "source": [
        "# After training, you can use the model to find similar words, etc.\n",
        "model.wv.most_similar('women',topn=10)"
      ],
      "metadata": {
        "colab": {
          "base_uri": "https://localhost:8080/"
        },
        "id": "IkGcgGtyG7pz",
        "outputId": "1c4cefab-d82f-4806-f45e-f39969cc47aa"
      },
      "execution_count": null,
      "outputs": [
        {
          "output_type": "execute_result",
          "data": {
            "text/plain": [
              "[('men', 0.9656737446784973),\n",
              " ('love', 0.9623857140541077),\n",
              " ('children', 0.9602592587471008),\n",
              " ('faith', 0.9500528573989868),\n",
              " ('man', 0.9449720978736877),\n",
              " ('lives', 0.9445874094963074),\n",
              " ('good', 0.9429126977920532),\n",
              " ('greatest', 0.9402933120727539),\n",
              " ('live', 0.9394935369491577),\n",
              " ('hearts', 0.9379210472106934)]"
            ]
          },
          "metadata": {},
          "execution_count": 68
        }
      ]
    },
    {
      "cell_type": "code",
      "source": [],
      "metadata": {
        "id": "Ml9DdgnT6KAc"
      },
      "execution_count": null,
      "outputs": []
    },
    {
      "cell_type": "code",
      "source": [
        "# Example words\n",
        "word1 = \"liberty\"\n",
        "word2 = \"justice\"\n",
        "word3=  \"peace\"\n",
        "\n",
        "# Get the vector for each word\n",
        "vector1 = model.wv[word1]\n",
        "vector2 = model.wv[word2]\n",
        "vector3=model.wv[word3]\n",
        "\n",
        "# Add the vectors\n",
        "linear_comb = vector1-vector2+2*vector3\n",
        "\n",
        "# You can now use the resulting vector to find similar words, for example\n",
        "# similar_words = model.wv.similar_by_vector(linear_comb,topn=2)\n",
        "\n",
        "similar_words = model.wv.similar_by_vector(linear_comb,topn=4)\n",
        "print(similar_words)"
      ],
      "metadata": {
        "colab": {
          "base_uri": "https://localhost:8080/"
        },
        "id": "y5C8hzOaHAJ_",
        "outputId": "4d15664b-6626-4150-b0e9-b4f29fd676bf"
      },
      "execution_count": null,
      "outputs": [
        {
          "output_type": "stream",
          "name": "stdout",
          "text": [
            "[('peace', 0.9650783538818359), ('world', 0.8604377508163452), ('freedom', 0.8415443301200867), ('prosperity', 0.8260446786880493)]\n"
          ]
        }
      ]
    },
    {
      "cell_type": "markdown",
      "source": [
        "# Plotting word embedding"
      ],
      "metadata": {
        "id": "3hbso2-5laXO"
      }
    },
    {
      "cell_type": "code",
      "source": [
        "# Extract a slice of word vectors, useful if we need to reduce for plotting\n",
        "words = list(model.wv.index_to_key[0:])  # Adjust the slice for the number of words you want\n",
        "word_vectors = [model.wv[word] for word in words]\n",
        "\n",
        "len(word_vectors)"
      ],
      "metadata": {
        "id": "EmCq5tpA0Hrp",
        "colab": {
          "base_uri": "https://localhost:8080/"
        },
        "outputId": "3e6e7cb8-f8f4-4654-d44a-382f6bb7ab03"
      },
      "execution_count": null,
      "outputs": [
        {
          "output_type": "execute_result",
          "data": {
            "text/plain": [
              "1400"
            ]
          },
          "metadata": {},
          "execution_count": 70
        }
      ]
    },
    {
      "cell_type": "code",
      "source": [
        "import numpy as np\n",
        "from sklearn.decomposition import PCA\n",
        "\n",
        "# Convert word vectors into a 2D array of shape (number_of_words, dimensions_of_vectors)\n",
        "word_vectors_matrix = np.array(word_vectors)\n",
        "\n",
        "# Initialize and fit PCA\n",
        "pca = PCA(n_components=2)\n",
        "word_vectors_2d = pca.fit_transform(word_vectors_matrix)\n"
      ],
      "metadata": {
        "id": "u5IvsHwpLAVK"
      },
      "execution_count": null,
      "outputs": []
    },
    {
      "cell_type": "code",
      "source": [
        "import matplotlib.pyplot as plt\n",
        "\n",
        "\n",
        "plt.figure(figsize=(10, 10))\n",
        "\n",
        "# Iterate over both words and vectors\n",
        "for vec, word in zip(word_vectors, words):\n",
        "    plt.scatter(vec[0], vec[1])\n",
        "    # Optionally, uncomment the next line to display the text labels\n",
        "    # plt.text(vec[0]+0.00, vec[1]+0.00, word, fontsize=9)\n",
        "\n",
        "# Set the limits to zoom in\n",
        "# plt.xlim(x_min, x_max)\n",
        "# plt.ylim(y_min, y_max)\n",
        "\n",
        "plt.show()\n"
      ],
      "metadata": {
        "colab": {
          "base_uri": "https://localhost:8080/",
          "height": 831
        },
        "id": "EEEr3qwMLBBi",
        "outputId": "b4a87d4d-e7d0-4d46-e825-20e756a74c04"
      },
      "execution_count": null,
      "outputs": [
        {
          "output_type": "display_data",
          "data": {
            "text/plain": [
              "<Figure size 1000x1000 with 1 Axes>"
            ],
            "image/png": "[encoded data removed]"
          },
          "metadata": {}
        }
      ]
    },
    {
      "cell_type": "code",
      "source": [],
      "metadata": {
        "id": "dO1WrfHNMFik"
      },
      "execution_count": null,
      "outputs": []
    },
    {
      "cell_type": "code",
      "source": [],
      "metadata": {
        "id": "lSw0pGdEl-Ub"
      },
      "execution_count": null,
      "outputs": []
    }
  ]
}