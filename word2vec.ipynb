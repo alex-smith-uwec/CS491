{
  "nbformat": 4,
  "nbformat_minor": 0,
  "metadata": {
    "colab": {
      "provenance": [],
      "mount_file_id": "1AZk2HS77mMl-mZyKuzIvX4dicurVJ1-p",
      "authorship_tag": "ABX9TyMrT0saZNrJ9xINaboc+6le",
      "include_colab_link": true
    },
    "kernelspec": {
      "name": "python3",
      "display_name": "Python 3"
    },
    "language_info": {
      "name": "python"
    }
  },
  "cells": [
    {
      "cell_type": "markdown",
      "metadata": {
        "id": "view-in-github",
        "colab_type": "text"
      },
      "source": [
        "<a href=\"https://colab.research.google.com/github/alex-smith-uwec/CS491/blob/main/word2vec.ipynb\" target=\"_parent\"><img src=\"https://colab.research.google.com/assets/colab-badge.svg\" alt=\"Open In Colab\"/></a>"
      ]
    },
    {
      "cell_type": "code",
      "source": [
        "from google.colab import drive\n",
        "drive.mount('/content/drive')"
      ],
      "metadata": {
        "colab": {
          "base_uri": "https://localhost:8080/"
        },
        "id": "mpRBWeZUE29k",
        "outputId": "f44bc652-c825-4713-980d-64c435883773"
      },
      "execution_count": 3,
      "outputs": [
        {
          "output_type": "stream",
          "name": "stdout",
          "text": [
            "Drive already mounted at /content/drive; to attempt to forcibly remount, call drive.mount(\"/content/drive\", force_remount=True).\n"
          ]
        }
      ]
    },
    {
      "cell_type": "code",
      "execution_count": 1,
      "metadata": {
        "colab": {
          "base_uri": "https://localhost:8080/"
        },
        "id": "V8RXZzP-D9wx",
        "outputId": "221868b6-ae33-47cf-8bb5-1be5c5e869a3"
      },
      "outputs": [
        {
          "output_type": "stream",
          "name": "stderr",
          "text": [
            "[nltk_data] Downloading package punkt to /root/nltk_data...\n",
            "[nltk_data]   Unzipping tokenizers/punkt.zip.\n",
            "[nltk_data] Downloading package stopwords to /root/nltk_data...\n",
            "[nltk_data]   Unzipping corpora/stopwords.zip.\n"
          ]
        },
        {
          "output_type": "execute_result",
          "data": {
            "text/plain": [
              "True"
            ]
          },
          "metadata": {},
          "execution_count": 1
        }
      ],
      "source": [
        "import os\n",
        "from gensim.models import Word2Vec\n",
        "from nltk.tokenize import word_tokenize\n",
        "from nltk.corpus import stopwords\n",
        "import string\n",
        "\n",
        "# Assuming nltk is set up with necessary datasets\n",
        "import nltk\n",
        "nltk.download('punkt')\n",
        "nltk.download('stopwords')\n",
        "\n"
      ]
    },
    {
      "cell_type": "code",
      "source": [
        "my_path=\"/content/drive/MyDrive/CS491/Data/US_Inaugural_Addresses\""
      ],
      "metadata": {
        "id": "LbXs0kMoFN3T"
      },
      "execution_count": 12,
      "outputs": []
    },
    {
      "cell_type": "code",
      "source": [
        "# Define a function to preprocess text\n",
        "def preprocess_text(text):\n",
        "    # Convert to lowercase\n",
        "    text = text.lower()\n",
        "    # Tokenize\n",
        "    tokens = word_tokenize(text)\n",
        "    # Remove punctuation and stop words\n",
        "    tokens = [word for word in tokens if word not in string.punctuation and word not in stopwords.words('english')]\n",
        "    return tokens\n",
        "\n"
      ],
      "metadata": {
        "id": "PREuZkRZETQ-"
      },
      "execution_count": 8,
      "outputs": []
    },
    {
      "cell_type": "code",
      "source": [
        "# Assuming all your text files are in the 'inauguration_speeches' directory\n",
        "directory = my_path\n",
        "all_files = os.listdir(directory)\n",
        "\n",
        "sentences = [] # This will store all sentences needed for training\n",
        "\n",
        "for filename in all_files:\n",
        "    filepath = os.path.join(directory, filename)\n",
        "    with open(filepath, 'r', encoding='utf-8') as file:\n",
        "        text = file.read()\n",
        "        # Preprocess and tokenize the text\n",
        "        tokens = preprocess_text(text)\n",
        "        sentences.append(tokens)"
      ],
      "metadata": {
        "id": "VWgcurmdEhjt"
      },
      "execution_count": 14,
      "outputs": []
    },
    {
      "cell_type": "code",
      "source": [
        "# sentences[5]"
      ],
      "metadata": {
        "id": "3eo0fBkRG1G_"
      },
      "execution_count": null,
      "outputs": []
    },
    {
      "cell_type": "code",
      "source": [
        "##How many CPU cores are availabe in Colab?\n",
        "!cat /proc/cpuinfo | grep processor | wc -l"
      ],
      "metadata": {
        "colab": {
          "base_uri": "https://localhost:8080/"
        },
        "id": "tAeEN69HKn9h",
        "outputId": "82720adc-af3d-4b14-c2c2-7203f25a6037"
      },
      "execution_count": 34,
      "outputs": [
        {
          "output_type": "stream",
          "name": "stdout",
          "text": [
            "2\n"
          ]
        }
      ]
    },
    {
      "cell_type": "code",
      "source": [
        "# Train a Word2Vec model\n",
        "model = Word2Vec(sentences, vector_size=100, window=5, min_count=1, workers=4)\n",
        "model.save(\"presidential_speeches_word2vec.model\")\n",
        "\n",
        "\n"
      ],
      "metadata": {
        "id": "ROj0a1dDETTL"
      },
      "execution_count": 18,
      "outputs": []
    },
    {
      "cell_type": "code",
      "source": [
        "len(model.wv.index_to_key)"
      ],
      "metadata": {
        "colab": {
          "base_uri": "https://localhost:8080/"
        },
        "id": "4zOqAGuzMzSG",
        "outputId": "9a0822d6-f5e9-40a2-e9d6-8a21703070c8"
      },
      "execution_count": 42,
      "outputs": [
        {
          "output_type": "execute_result",
          "data": {
            "text/plain": [
              "9569"
            ]
          },
          "metadata": {},
          "execution_count": 42
        }
      ]
    },
    {
      "cell_type": "code",
      "source": [
        "# After training, you can use the model to find similar words, etc.\n",
        "model.wv.most_similar('freedom',topn=2)"
      ],
      "metadata": {
        "colab": {
          "base_uri": "https://localhost:8080/"
        },
        "id": "IkGcgGtyG7pz",
        "outputId": "6d813fb0-2ac2-41df-c129-afcc2742551c"
      },
      "execution_count": 22,
      "outputs": [
        {
          "output_type": "execute_result",
          "data": {
            "text/plain": [
              "[('world', 0.9999240040779114), ('people', 0.9999042749404907)]"
            ]
          },
          "metadata": {},
          "execution_count": 22
        }
      ]
    },
    {
      "cell_type": "code",
      "source": [
        "# Example words\n",
        "word1 = \"women\"\n",
        "word2 = \"vote\"\n",
        "# word3=\"liberty\"\n",
        "\n",
        "# Get the vector for each word\n",
        "vector1 = model.wv[word1]\n",
        "vector2 = model.wv[word2]\n",
        "# vector3=model.wv[word3]\n",
        "\n",
        "# Add the vectors\n",
        "added_vector = vector1 + vector2#+vector3\n",
        "\n",
        "# You can now use the resulting vector to find similar words, for example\n",
        "similar_words = model.wv.similar_by_vector(added_vector,topn=5)\n",
        "\n",
        "print(similar_words)\n"
      ],
      "metadata": {
        "colab": {
          "base_uri": "https://localhost:8080/"
        },
        "id": "y5C8hzOaHAJ_",
        "outputId": "a6269f5a-3e61-4354-b891-d7bf54be4315"
      },
      "execution_count": 33,
      "outputs": [
        {
          "output_type": "stream",
          "name": "stdout",
          "text": [
            "[('women', 0.9995911121368408), ('great', 0.9993134140968323), ('political', 0.9992879629135132), ('without', 0.999281644821167), ('authority', 0.9992674589157104)]\n"
          ]
        }
      ]
    },
    {
      "cell_type": "code",
      "source": [
        "# Extract all word vectors, this example uses a subset for clarity\n",
        "words = list(model.wv.index_to_key[:1000])  # Adjust the slice for the number of words you want\n",
        "word_vectors = [model.wv[word] for word in words]\n"
      ],
      "metadata": {
        "id": "bPD0oChKH0L-"
      },
      "execution_count": 43,
      "outputs": []
    },
    {
      "cell_type": "code",
      "source": [
        "len(words)"
      ],
      "metadata": {
        "colab": {
          "base_uri": "https://localhost:8080/"
        },
        "id": "dKMRLg4VMeT2",
        "outputId": "b7bd8454-0834-429d-d096-a5cc472e5173"
      },
      "execution_count": 49,
      "outputs": [
        {
          "output_type": "execute_result",
          "data": {
            "text/plain": [
              "1000"
            ]
          },
          "metadata": {},
          "execution_count": 49
        }
      ]
    },
    {
      "cell_type": "code",
      "source": [
        "import numpy as np\n",
        "from sklearn.decomposition import PCA\n",
        "\n",
        "# Convert word vectors into a 2D array of shape (number_of_words, dimensions_of_vectors)\n",
        "word_vectors_matrix = np.array(word_vectors)\n",
        "\n",
        "# Initialize and fit PCA\n",
        "pca = PCA(n_components=2)\n",
        "word_vectors_2d = pca.fit_transform(word_vectors_matrix)\n"
      ],
      "metadata": {
        "id": "u5IvsHwpLAVK"
      },
      "execution_count": 50,
      "outputs": []
    },
    {
      "cell_type": "code",
      "source": [
        "import matplotlib.pyplot as plt\n",
        "\n",
        "plt.figure(figsize=(10, 10))\n",
        "\n",
        "# Calculate the median and the range\n",
        "med_x = np.median([vec[0] for vec in word_vectors_2d])\n",
        "med_y = np.median([vec[1] for vec in word_vectors_2d])\n",
        "min_x, max_x = min([vec[0] for vec in word_vectors_2d]), max([vec[0] for vec in word_vectors_2d])\n",
        "min_y, max_y = min([vec[1] for vec in word_vectors_2d]), max([vec[1] for vec in word_vectors_2d])\n",
        "\n",
        "# Calculate the max range to ensure all points are included\n",
        "range_x = max(med_x - min_x, max_x - med_x)\n",
        "range_y = max(med_y - min_y, max_y - med_y)\n",
        "\n",
        "# Dynamically set limits based on the range, adding a small margin\n",
        "margin = 0.1  # Adjust the margin size as needed\n",
        "plt.xlim(med_x - range_x - margin, med_x + range_x + margin)\n",
        "plt.ylim(med_y - range_y - margin, med_y + range_y + margin)\n",
        "\n",
        "for i, word in enumerate(words):\n",
        "    plt.scatter(word_vectors_2d[i, 0], word_vectors_2d[i, 1])\n",
        "    # plt.text(word_vectors_2d[i, 0]+0.03, word_vectors_2d[i, 1]+0.03, word, fontsize=9)\n",
        "plt.show()\n"
      ],
      "metadata": {
        "colab": {
          "base_uri": "https://localhost:8080/",
          "height": 829
        },
        "id": "EEEr3qwMLBBi",
        "outputId": "571c5068-9915-4383-ad14-b5958856eeec"
      },
      "execution_count": 54,
      "outputs": [
        {
          "output_type": "display_data",
          "data": {
            "text/plain": [
              "<Figure size 1000x1000 with 1 Axes>"
            ],
            "image/png": "[encoded data removed]"
          },
          "metadata": {}
        }
      ]
    },
    {
      "cell_type": "code",
      "source": [],
      "metadata": {
        "id": "dO1WrfHNMFik"
      },
      "execution_count": null,
      "outputs": []
    }
  ]
}