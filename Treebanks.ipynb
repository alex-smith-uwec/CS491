{
  "nbformat": 4,
  "nbformat_minor": 0,
  "metadata": {
    "colab": {
      "provenance": [],
      "authorship_tag": "ABX9TyOlS9Nl0nTPj18mSB+7LNwk",
      "include_colab_link": true
    },
    "kernelspec": {
      "name": "python3",
      "display_name": "Python 3"
    },
    "language_info": {
      "name": "python"
    }
  },
  "cells": [
    {
      "cell_type": "markdown",
      "metadata": {
        "id": "view-in-github",
        "colab_type": "text"
      },
      "source": [
        "<a href=\"https://colab.research.google.com/github/alex-smith-uwec/CS491/blob/main/Treebanks.ipynb\" target=\"_parent\"><img src=\"https://colab.research.google.com/assets/colab-badge.svg\" alt=\"Open In Colab\"/></a>"
      ]
    },
    {
      "cell_type": "code",
      "source": [
        "import nltk\n",
        "\n",
        "nltk.download('treebank') ##Penn treebank\n",
        "from nltk.corpus import treebank\n",
        "\n",
        "# nltk.download('sinica_treebank') ##Chinese treebank\n",
        "# from nltk.corpus import sinica_treebank\n",
        "\n",
        "# nltk.download('floresta')#Portugese treebank\n",
        "# from nltk.corpus import floresta"
      ],
      "metadata": {
        "colab": {
          "base_uri": "https://localhost:8080/"
        },
        "id": "TYc3fULJQhKb",
        "outputId": "6778d692-1c88-4e6a-abd7-015856bd7372"
      },
      "execution_count": 42,
      "outputs": [
        {
          "output_type": "stream",
          "name": "stderr",
          "text": [
            "[nltk_data] Downloading package treebank to /root/nltk_data...\n",
            "[nltk_data]   Package treebank is already up-to-date!\n"
          ]
        }
      ]
    },
    {
      "cell_type": "code",
      "source": [
        "# Access sentences from the treebank\n",
        "sentences = treebank.sents()\n",
        "\n",
        "# Example: Print the first few sentences\n",
        "for sentence in sentences[:3]:\n",
        "    print(sentence)\n",
        "\n",
        "# Access parsed sentences (as trees)\n",
        "parsed_sentences = treebank.parsed_sents()\n",
        "\n",
        "# Example: Print the parsed tree of the first sentence\n",
        "print(parsed_sentences[0])\n",
        "\n"
      ],
      "metadata": {
        "colab": {
          "base_uri": "https://localhost:8080/"
        },
        "id": "VUyzldulI4kl",
        "outputId": "08e231f3-7c31-4b3c-df98-3fbeee321d8a"
      },
      "execution_count": 43,
      "outputs": [
        {
          "output_type": "stream",
          "name": "stdout",
          "text": [
            "['Pierre', 'Vinken', ',', '61', 'years', 'old', ',', 'will', 'join', 'the', 'board', 'as', 'a', 'nonexecutive', 'director', 'Nov.', '29', '.']\n",
            "['Mr.', 'Vinken', 'is', 'chairman', 'of', 'Elsevier', 'N.V.', ',', 'the', 'Dutch', 'publishing', 'group', '.']\n",
            "['Rudolph', 'Agnew', ',', '55', 'years', 'old', 'and', 'former', 'chairman', 'of', 'Consolidated', 'Gold', 'Fields', 'PLC', ',', 'was', 'named', '*-1', 'a', 'nonexecutive', 'director', 'of', 'this', 'British', 'industrial', 'conglomerate', '.']\n",
            "(S\n",
            "  (NP-SBJ\n",
            "    (NP (NNP Pierre) (NNP Vinken))\n",
            "    (, ,)\n",
            "    (ADJP (NP (CD 61) (NNS years)) (JJ old))\n",
            "    (, ,))\n",
            "  (VP\n",
            "    (MD will)\n",
            "    (VP\n",
            "      (VB join)\n",
            "      (NP (DT the) (NN board))\n",
            "      (PP-CLR (IN as) (NP (DT a) (JJ nonexecutive) (NN director)))\n",
            "      (NP-TMP (NNP Nov.) (CD 29))))\n",
            "  (. .))\n"
          ]
        }
      ]
    },
    {
      "cell_type": "code",
      "source": [
        "parsed_sentence = parsed_sentences[0]\n",
        "parsed_sentence.pretty_print()"
      ],
      "metadata": {
        "colab": {
          "base_uri": "https://localhost:8080/"
        },
        "id": "aotgxGRTKswL",
        "outputId": "c23d1b76-e439-4977-a794-e1fd1f5bbfdb"
      },
      "execution_count": 44,
      "outputs": [
        {
          "output_type": "stream",
          "name": "stdout",
          "text": [
            "                                                     S                                                                         \n",
            "                         ____________________________|_______________________________________________________________________   \n",
            "                        |                                               VP                                                   | \n",
            "                        |                        _______________________|___                                                 |  \n",
            "                      NP-SBJ                    |                           VP                                               | \n",
            "         _______________|___________________    |     ______________________|______________________________________          |  \n",
            "        |          |              ADJP      |   |    |        |                PP-CLR                              |         | \n",
            "        |          |           ____|____    |   |    |        |          ________|_________                        |         |  \n",
            "        NP         |          NP        |   |   |    |        NP        |                  NP                    NP-TMP      | \n",
            "   _____|____      |     _____|____     |   |   |    |     ___|____     |    ______________|__________        _____|_____    |  \n",
            " NNP        NNP    ,    CD        NNS   JJ  ,   MD   VB   DT       NN   IN  DT             JJ         NN    NNP          CD  . \n",
            "  |          |     |    |          |    |   |   |    |    |        |    |   |              |          |      |           |   |  \n",
            "Pierre     Vinken  ,    61       years old  ,  will join the     board  as  a         nonexecutive director Nov.         29  . \n",
            "\n"
          ]
        }
      ]
    },
    {
      "cell_type": "code",
      "source": [
        "nltk.corpus.treebank.fileids()[:10]"
      ],
      "metadata": {
        "colab": {
          "base_uri": "https://localhost:8080/"
        },
        "id": "mirL_cniQlZb",
        "outputId": "ce0392ea-bd07-4a06-9ae9-834c0eff20ab"
      },
      "execution_count": 45,
      "outputs": [
        {
          "output_type": "execute_result",
          "data": {
            "text/plain": [
              "['wsj_0001.mrg',\n",
              " 'wsj_0002.mrg',\n",
              " 'wsj_0003.mrg',\n",
              " 'wsj_0004.mrg',\n",
              " 'wsj_0005.mrg',\n",
              " 'wsj_0006.mrg',\n",
              " 'wsj_0007.mrg',\n",
              " 'wsj_0008.mrg',\n",
              " 'wsj_0009.mrg',\n",
              " 'wsj_0010.mrg']"
            ]
          },
          "metadata": {},
          "execution_count": 45
        }
      ]
    },
    {
      "cell_type": "markdown",
      "source": [
        "[Lookl here for the full content of the wsj files](https://www.cs.cmu.edu/afs/cs/project/cmt-55/lti/Courses/722/Spring-08/Penn-tbank/MRG/WSJ/00/)"
      ],
      "metadata": {
        "id": "4oqXf4raSagJ"
      }
    },
    {
      "cell_type": "code",
      "source": [
        "treebank.parsed_sents('wsj_0001.mrg')"
      ],
      "metadata": {
        "colab": {
          "base_uri": "https://localhost:8080/"
        },
        "id": "LtxfhrWvTl6z",
        "outputId": "9906afb4-35ce-46ce-f237-16e000655930"
      },
      "execution_count": 46,
      "outputs": [
        {
          "output_type": "execute_result",
          "data": {
            "text/plain": [
              "[Tree('S', [Tree('NP-SBJ', [Tree('NP', [Tree('NNP', ['Pierre']), Tree('NNP', ['Vinken'])]), Tree(',', [',']), Tree('ADJP', [Tree('NP', [Tree('CD', ['61']), Tree('NNS', ['years'])]), Tree('JJ', ['old'])]), Tree(',', [','])]), Tree('VP', [Tree('MD', ['will']), Tree('VP', [Tree('VB', ['join']), Tree('NP', [Tree('DT', ['the']), Tree('NN', ['board'])]), Tree('PP-CLR', [Tree('IN', ['as']), Tree('NP', [Tree('DT', ['a']), Tree('JJ', ['nonexecutive']), Tree('NN', ['director'])])]), Tree('NP-TMP', [Tree('NNP', ['Nov.']), Tree('CD', ['29'])])])]), Tree('.', ['.'])]), Tree('S', [Tree('NP-SBJ', [Tree('NNP', ['Mr.']), Tree('NNP', ['Vinken'])]), Tree('VP', [Tree('VBZ', ['is']), Tree('NP-PRD', [Tree('NP', [Tree('NN', ['chairman'])]), Tree('PP', [Tree('IN', ['of']), Tree('NP', [Tree('NP', [Tree('NNP', ['Elsevier']), Tree('NNP', ['N.V.'])]), Tree(',', [',']), Tree('NP', [Tree('DT', ['the']), Tree('NNP', ['Dutch']), Tree('VBG', ['publishing']), Tree('NN', ['group'])])])])])]), Tree('.', ['.'])])]"
            ]
          },
          "metadata": {},
          "execution_count": 46
        }
      ]
    },
    {
      "cell_type": "code",
      "source": [
        "from nltk.probability import FreqDist\n",
        "from nltk.corpus import treebank\n",
        "fd = FreqDist()\n",
        "fd.items()"
      ],
      "metadata": {
        "colab": {
          "base_uri": "https://localhost:8080/"
        },
        "id": "TL3elbUWFwSe",
        "outputId": "efbab9dd-405d-4571-bb3e-2ec2884c33ec"
      },
      "execution_count": 47,
      "outputs": [
        {
          "output_type": "execute_result",
          "data": {
            "text/plain": [
              "dict_items([])"
            ]
          },
          "metadata": {},
          "execution_count": 47
        }
      ]
    },
    {
      "cell_type": "code",
      "source": [
        "words = treebank.words()\n",
        "words"
      ],
      "metadata": {
        "colab": {
          "base_uri": "https://localhost:8080/"
        },
        "id": "7I_M0VW5GPSN",
        "outputId": "57cf4e79-1498-4b87-ba90-fba1572e5dba"
      },
      "execution_count": 48,
      "outputs": [
        {
          "output_type": "execute_result",
          "data": {
            "text/plain": [
              "['Pierre', 'Vinken', ',', '61', 'years', 'old', ',', ...]"
            ]
          },
          "metadata": {},
          "execution_count": 48
        }
      ]
    },
    {
      "cell_type": "code",
      "source": [
        "len(words)"
      ],
      "metadata": {
        "colab": {
          "base_uri": "https://localhost:8080/"
        },
        "id": "8lwe6A2PLRI_",
        "outputId": "3c4be3bb-9ad8-4e48-cadd-02597d8a4a17"
      },
      "execution_count": 50,
      "outputs": [
        {
          "output_type": "execute_result",
          "data": {
            "text/plain": [
              "100676"
            ]
          },
          "metadata": {},
          "execution_count": 50
        }
      ]
    },
    {
      "cell_type": "code",
      "source": [
        "fd = nltk.FreqDist(words)"
      ],
      "metadata": {
        "id": "ekPgXROcFkEs"
      },
      "execution_count": 51,
      "outputs": []
    },
    {
      "cell_type": "code",
      "source": [
        "fd"
      ],
      "metadata": {
        "colab": {
          "base_uri": "https://localhost:8080/"
        },
        "id": "YsG4YGv1VC9M",
        "outputId": "15263bdd-c3b6-465d-bb42-7a06c82f165d"
      },
      "execution_count": 52,
      "outputs": [
        {
          "output_type": "execute_result",
          "data": {
            "text/plain": [
              "FreqDist({',': 4885, 'the': 4045, '.': 3828, 'of': 2319, 'to': 2164, 'a': 1878, 'in': 1572, 'and': 1511, '*-1': 1123, '0': 1099, ...})"
            ]
          },
          "metadata": {},
          "execution_count": 52
        }
      ]
    },
    {
      "cell_type": "code",
      "source": [
        "fd.most_common(10)"
      ],
      "metadata": {
        "colab": {
          "base_uri": "https://localhost:8080/"
        },
        "id": "LeySR_DEVQNI",
        "outputId": "4e2831b0-99c8-426d-ea1b-402045669e07"
      },
      "execution_count": 53,
      "outputs": [
        {
          "output_type": "execute_result",
          "data": {
            "text/plain": [
              "[(',', 4885),\n",
              " ('the', 4045),\n",
              " ('.', 3828),\n",
              " ('of', 2319),\n",
              " ('to', 2164),\n",
              " ('a', 1878),\n",
              " ('in', 1572),\n",
              " ('and', 1511),\n",
              " ('*-1', 1123),\n",
              " ('0', 1099)]"
            ]
          },
          "metadata": {},
          "execution_count": 53
        }
      ]
    },
    {
      "cell_type": "code",
      "source": [
        "fd.plot(30, cumulative=False)  # Plots the frequency of the top 30 words"
      ],
      "metadata": {
        "colab": {
          "base_uri": "https://localhost:8080/",
          "height": 489
        },
        "id": "yp785xBTVVs-",
        "outputId": "00c7c2bb-6d7f-445b-aef8-ee7d3fec1d83"
      },
      "execution_count": 15,
      "outputs": [
        {
          "output_type": "display_data",
          "data": {
            "text/plain": [
              "<Figure size 640x480 with 1 Axes>"
            ],
            "image/png": "[encoded data removed]"
          },
          "metadata": {}
        },
        {
          "output_type": "execute_result",
          "data": {
            "text/plain": [
              "<Axes: xlabel='Samples', ylabel='Counts'>"
            ]
          },
          "metadata": {},
          "execution_count": 15
        }
      ]
    },
    {
      "cell_type": "code",
      "source": [
        "nltk.download('sinica_treebank')\n",
        "from nltk.corpus import sinica_treebank"
      ],
      "metadata": {
        "colab": {
          "base_uri": "https://localhost:8080/"
        },
        "id": "8jEccBumVbtQ",
        "outputId": "61b78336-eb9e-4bd9-b162-5baf6c5b2860"
      },
      "execution_count": 16,
      "outputs": [
        {
          "output_type": "stream",
          "name": "stderr",
          "text": [
            "[nltk_data] Downloading package sinica_treebank to /root/nltk_data...\n",
            "[nltk_data]   Unzipping corpora/sinica_treebank.zip.\n"
          ]
        }
      ]
    },
    {
      "cell_type": "code",
      "source": [
        "print(sinica_treebank.sents())"
      ],
      "metadata": {
        "colab": {
          "base_uri": "https://localhost:8080/"
        },
        "id": "W1jgJTmxVfnt",
        "outputId": "6ed88e7a-7c95-4ca1-8b9b-d80ba43c8247"
      },
      "execution_count": 17,
      "outputs": [
        {
          "output_type": "stream",
          "name": "stdout",
          "text": [
            "[['一'], ['友情'], ['嘉珍', '和', '我', '住在', '同一條', '巷子'], ...]\n"
          ]
        }
      ]
    },
    {
      "cell_type": "code",
      "source": [
        "nltk.download('floresta')#Portugese treebank\n",
        "from nltk.corpus import floresta"
      ],
      "metadata": {
        "colab": {
          "base_uri": "https://localhost:8080/"
        },
        "id": "KgpeM_flHLT1",
        "outputId": "20ca81dd-d263-4297-bb29-ac67da54e7c1"
      },
      "execution_count": 54,
      "outputs": [
        {
          "output_type": "stream",
          "name": "stderr",
          "text": [
            "[nltk_data] Downloading package floresta to /root/nltk_data...\n",
            "[nltk_data]   Package floresta is already up-to-date!\n"
          ]
        }
      ]
    },
    {
      "cell_type": "code",
      "source": [],
      "metadata": {
        "id": "Y8TYT3zKIALw"
      },
      "execution_count": null,
      "outputs": []
    }
  ]
}