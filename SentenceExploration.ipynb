{
  "nbformat": 4,
  "nbformat_minor": 0,
  "metadata": {
    "colab": {
      "provenance": [],
      "collapsed_sections": [
        "Y72_AJLcEVXD",
        "5RJc2SV5TphH"
      ],
      "authorship_tag": "ABX9TyP3YteNl+pEufq6Zy8cqgtp",
      "include_colab_link": true
    },
    "kernelspec": {
      "name": "python3",
      "display_name": "Python 3"
    },
    "language_info": {
      "name": "python"
    }
  },
  "cells": [
    {
      "cell_type": "markdown",
      "metadata": {
        "id": "view-in-github",
        "colab_type": "text"
      },
      "source": [
        "<a href=\"https://colab.research.google.com/github/alex-smith-uwec/CS491/blob/main/SentenceExploration.ipynb\" target=\"_parent\"><img src=\"https://colab.research.google.com/assets/colab-badge.svg\" alt=\"Open In Colab\"/></a>"
      ]
    },
    {
      "cell_type": "code",
      "execution_count": 1,
      "metadata": {
        "id": "F_tiRMtv3eGF",
        "colab": {
          "base_uri": "https://localhost:8080/"
        },
        "outputId": "9d1d626d-2b9d-4f18-ab05-89ac56db7564"
      },
      "outputs": [
        {
          "output_type": "stream",
          "name": "stdout",
          "text": [
            "Mounted at /content/drive\n"
          ]
        }
      ],
      "source": [
        "from google.colab import drive\n",
        "drive.mount('/content/drive')"
      ]
    },
    {
      "cell_type": "code",
      "source": [
        "my_path=\"/content/drive/MyDrive/CS491/Data/\""
      ],
      "metadata": {
        "id": "8VES9q_sjwAl"
      },
      "execution_count": 2,
      "outputs": []
    },
    {
      "cell_type": "markdown",
      "source": [
        "Some pre-processing: download novel from Gutenberg, then remove preamble and postamble."
      ],
      "metadata": {
        "id": "XylRwQ0ZjHOy"
      }
    },
    {
      "cell_type": "code",
      "source": [
        "title = 'The Golden Bowl'\n",
        "tit='Bowl'\n",
        "author = 'Henry James'\n",
        "url = 'https://www.gutenberg.org/cache/epub/4264/pg4264.txt'\n",
        "path = my_path\n"
      ],
      "metadata": {
        "id": "rAOAFft7kC3I"
      },
      "execution_count": 3,
      "outputs": []
    },
    {
      "cell_type": "code",
      "source": [
        "import os"
      ],
      "metadata": {
        "id": "KabwcviFf9nk"
      },
      "execution_count": 4,
      "outputs": []
    },
    {
      "cell_type": "code",
      "source": [
        "# Check if the file is stored locally\n",
        "filename = my_path+ title\n",
        "if os.path.isfile(filename) and os.stat(filename).st_size != 0:\n",
        "        print(\"{title} file already exists\".format(title=title))\n",
        "        with open(filename, 'r') as f:\n",
        "            raw = f.read()\n",
        "\n",
        "else:\n",
        "    print(\"{title} file does not already exist. Grabbing from Project Gutenberg\".format(title=title))\n",
        "    response = request.urlopen(url)\n",
        "    raw = response.read().decode('utf-8-sig')\n",
        "    print(\"Saving {title} file\".format(title=title))\n",
        "    with open(filename, 'w') as outfile:\n",
        "        outfile.write(raw)"
      ],
      "metadata": {
        "colab": {
          "base_uri": "https://localhost:8080/"
        },
        "id": "7IkvtU03uiOe",
        "outputId": "fa913316-5003-4200-c01a-70d76a5a976d"
      },
      "execution_count": 5,
      "outputs": [
        {
          "output_type": "stream",
          "name": "stdout",
          "text": [
            "The Golden Bowl file already exists\n"
          ]
        }
      ]
    },
    {
      "cell_type": "markdown",
      "source": [
        "In the file browser to the left, open the book. The text should (might?) appear in a cell on the right. Delete preamble and postamble, then save."
      ],
      "metadata": {
        "id": "txadp8YuOovS"
      }
    },
    {
      "cell_type": "code",
      "source": [
        "# first, remove unwanted new line and tab characters from the text\n",
        "for char in [\"\\n\", \"\\r\", \"\\d\", \"\\t\"]:\n",
        "   raw = raw.replace(char, \" \")\n",
        "\n",
        "with open(filename, 'w') as outfile:\n",
        "    outfile.write(raw)"
      ],
      "metadata": {
        "id": "gO3zfEMgyqPM"
      },
      "execution_count": 6,
      "outputs": []
    },
    {
      "cell_type": "code",
      "source": [
        "print(f\"first characters are: {raw[:50]}\")\n",
        "print(f\"last characters are: {raw[-50:]}\")"
      ],
      "metadata": {
        "colab": {
          "base_uri": "https://localhost:8080/"
        },
        "id": "s_pjXDObVOop",
        "outputId": "ca4afb99-e0bd-4c87-ce37-7c032d81e29c"
      },
      "execution_count": 7,
      "outputs": [
        {
          "output_type": "stream",
          "name": "stdout",
          "text": [
            "first characters are:        The Prince had always liked his London, whe\n",
            "last characters are: d of them, she buried her own in his breast.      \n"
          ]
        }
      ]
    },
    {
      "cell_type": "markdown",
      "source": [
        "# Onwards to sentences"
      ],
      "metadata": {
        "id": "Y72_AJLcEVXD"
      }
    },
    {
      "cell_type": "code",
      "source": [
        "import nltk\n",
        "from nltk.tokenize import sent_tokenize\n",
        "nltk.download('punkt')"
      ],
      "metadata": {
        "colab": {
          "base_uri": "https://localhost:8080/"
        },
        "id": "SRn9q5SoggAn",
        "outputId": "178a6fce-be18-455b-f35c-62176e12e5d1"
      },
      "execution_count": 8,
      "outputs": [
        {
          "output_type": "stream",
          "name": "stderr",
          "text": [
            "[nltk_data] Downloading package punkt to /root/nltk_data...\n",
            "[nltk_data]   Unzipping tokenizers/punkt.zip.\n"
          ]
        },
        {
          "output_type": "execute_result",
          "data": {
            "text/plain": [
              "True"
            ]
          },
          "metadata": {},
          "execution_count": 8
        }
      ]
    },
    {
      "cell_type": "code",
      "source": [
        "with open(my_path+title, 'r') as file:\n",
        "    all_sentences=sent_tokenize(file.read())#.lower())"
      ],
      "metadata": {
        "id": "nuhwRADoEb6e"
      },
      "execution_count": 9,
      "outputs": []
    },
    {
      "cell_type": "code",
      "source": [
        "len(all_sentences)"
      ],
      "metadata": {
        "colab": {
          "base_uri": "https://localhost:8080/"
        },
        "id": "oFNRvYq4FVQL",
        "outputId": "feb94da9-f469-4633-f92e-ae6e1a5d4c60"
      },
      "execution_count": 10,
      "outputs": [
        {
          "output_type": "execute_result",
          "data": {
            "text/plain": [
              "6953"
            ]
          },
          "metadata": {},
          "execution_count": 10
        }
      ]
    },
    {
      "cell_type": "code",
      "source": [
        "import random"
      ],
      "metadata": {
        "id": "mNH-r71Fg7aV"
      },
      "execution_count": 11,
      "outputs": []
    },
    {
      "cell_type": "code",
      "source": [
        "random.choice(all_sentences)"
      ],
      "metadata": {
        "colab": {
          "base_uri": "https://localhost:8080/",
          "height": 36
        },
        "id": "mej92trBEcGa",
        "outputId": "40192ca3-8d61-4840-f8e9-925005dc6fca"
      },
      "execution_count": 13,
      "outputs": [
        {
          "output_type": "execute_result",
          "data": {
            "text/plain": [
              "'That hadn’t been at all my idea, but she acted before I understood.'"
            ],
            "application/vnd.google.colaboratory.intrinsic+json": {
              "type": "string"
            }
          },
          "metadata": {},
          "execution_count": 13
        }
      ]
    },
    {
      "cell_type": "code",
      "source": [
        "all_sentences[0:2]"
      ],
      "metadata": {
        "colab": {
          "base_uri": "https://localhost:8080/"
        },
        "id": "Ahw4J_1NFB5z",
        "outputId": "0e8834a2-6cef-4f9e-b8b2-f702073d7d0f"
      },
      "execution_count": 14,
      "outputs": [
        {
          "output_type": "execute_result",
          "data": {
            "text/plain": [
              "['       The Prince had always liked his London, when it had come to him; he was one of the modern Romans who find by the Thames a more convincing image of the truth of the ancient state than any they have left by the Tiber.',\n",
              " 'Brought up on the legend of the City to which the world paid tribute, he recognised in the present London much more than in contemporary Rome the real dimensions of such a case.']"
            ]
          },
          "metadata": {},
          "execution_count": 14
        }
      ]
    },
    {
      "cell_type": "code",
      "source": [
        "temp=random.choice(all_sentences)\n",
        "print(temp)"
      ],
      "metadata": {
        "id": "_ZqJ_adQFb8S",
        "colab": {
          "base_uri": "https://localhost:8080/"
        },
        "outputId": "9449c2de-b8b3-490f-85f8-0d87241dfebf"
      },
      "execution_count": 22,
      "outputs": [
        {
          "output_type": "stream",
          "name": "stdout",
          "text": [
            "But that’s exactly the ground of my question.\n"
          ]
        }
      ]
    },
    {
      "cell_type": "markdown",
      "source": [
        "# Tagging and parsing\n",
        "We experiment with average_perceptron_tagger, pos_tag, grammar, RegexpParser"
      ],
      "metadata": {
        "id": "5RJc2SV5TphH"
      }
    },
    {
      "cell_type": "code",
      "source": [
        "nltk.download('averaged_perceptron_tagger')"
      ],
      "metadata": {
        "colab": {
          "base_uri": "https://localhost:8080/"
        },
        "id": "dIjwRoRSj440",
        "outputId": "c21caaa8-d2fa-4319-b03d-51a7ce89a9b1"
      },
      "execution_count": 23,
      "outputs": [
        {
          "output_type": "stream",
          "name": "stderr",
          "text": [
            "[nltk_data] Downloading package averaged_perceptron_tagger to\n",
            "[nltk_data]     /root/nltk_data...\n",
            "[nltk_data]   Unzipping taggers/averaged_perceptron_tagger.zip.\n"
          ]
        },
        {
          "output_type": "execute_result",
          "data": {
            "text/plain": [
              "True"
            ]
          },
          "metadata": {},
          "execution_count": 23
        }
      ]
    },
    {
      "cell_type": "code",
      "source": [
        "# Menu of sentences to be tagged\n",
        "# sentence = temp #see above, from novel.\n",
        "# sentence=\"See Spot run.\"\n",
        "sentence=\"The quick brown fox jumped over the lazy dog.\"\n",
        "# sentence = \"At eight o'clock on Thursday morning Arthur didn't feel very good.\"\n",
        "# sentence='They can fish'#Interesting to see how this will get parsed!\n",
        "print(sentence)"
      ],
      "metadata": {
        "id": "4jnZ1pyEF3te",
        "colab": {
          "base_uri": "https://localhost:8080/"
        },
        "outputId": "7e7c6fb1-f9e8-4676-a528-556f3d779595"
      },
      "execution_count": 81,
      "outputs": [
        {
          "output_type": "stream",
          "name": "stdout",
          "text": [
            "The quick brown fox jumped over the lazy dog.\n"
          ]
        }
      ]
    },
    {
      "cell_type": "code",
      "source": [
        "# Tokenizing and tagging\n",
        "tokens = nltk.word_tokenize(sentence)\n",
        "tagged = nltk.pos_tag(tokens)\n",
        "\n",
        "tagged"
      ],
      "metadata": {
        "colab": {
          "base_uri": "https://localhost:8080/"
        },
        "id": "j0bajdFhElhd",
        "outputId": "b837041d-c85c-427d-db62-c222568b740f"
      },
      "execution_count": 83,
      "outputs": [
        {
          "output_type": "execute_result",
          "data": {
            "text/plain": [
              "[('The', 'DT'),\n",
              " ('quick', 'JJ'),\n",
              " ('brown', 'NN'),\n",
              " ('fox', 'NN'),\n",
              " ('jumped', 'VBD'),\n",
              " ('over', 'IN'),\n",
              " ('the', 'DT'),\n",
              " ('lazy', 'JJ'),\n",
              " ('dog', 'NN'),\n",
              " ('.', '.')]"
            ]
          },
          "metadata": {},
          "execution_count": 83
        }
      ]
    },
    {
      "cell_type": "markdown",
      "source": [
        "See [Penntree bank info](https://www.ling.upenn.edu/courses/Fall_2003/ling001/penn_treebank_pos.html) for part of speech tags.\n",
        "\n"
      ],
      "metadata": {
        "id": "1kJpRxehaUjs"
      }
    },
    {
      "cell_type": "code",
      "source": [
        "##This will show details about POS tags\n",
        "# nltk.download('tagsets')\n",
        "# nltk.help.upenn_tagset()"
      ],
      "metadata": {
        "id": "F1UaIi4oBXUF"
      },
      "execution_count": null,
      "outputs": []
    },
    {
      "cell_type": "code",
      "source": [
        "# Some possible grammars to create parse tree\n",
        "\n",
        "# grammar=\" \" #empty grammar\n",
        "# grammar = \"NP: {<JJ><NN>}\"\n",
        "# grammar = \"NP: {<DT>?<JJ>*<NN>}\"\n",
        "\n",
        "grammar = \"\"\"\n",
        "    NP: {<DT>?<JJ>*<NN>}                      # Noun Phrase\n",
        "    VP: {<VB.*><NP|PP>+}                      # Verb Phrase\n",
        "    PP: {<IN><NP>}                            # Prepositional Phrase\n",
        "    ADJP: {<RB>*<JJ>}                         # Adjective Phrase\n",
        "    CS: {<NP><VP><CC><NP><VP>}                # Compound Sentence\n",
        "    NER: {<NNP>+}                             # Named Entity Recognition\n",
        "\"\"\"\n"
      ],
      "metadata": {
        "id": "v4NgnejfBdko"
      },
      "execution_count": 84,
      "outputs": []
    },
    {
      "cell_type": "code",
      "source": [
        "# Create tree\n",
        "parser = nltk.RegexpParser(grammar)\n",
        "tree = parser.parse(tagged)\n",
        "print(tree)"
      ],
      "metadata": {
        "colab": {
          "base_uri": "https://localhost:8080/"
        },
        "id": "HRS4PAQwBgxg",
        "outputId": "0dcbca7e-5fce-47f5-a814-bf61ccc7ff0b"
      },
      "execution_count": 85,
      "outputs": [
        {
          "output_type": "stream",
          "name": "stdout",
          "text": [
            "(S\n",
            "  (NP The/DT quick/JJ brown/NN)\n",
            "  (NP fox/NN)\n",
            "  jumped/VBD\n",
            "  (PP over/IN (NP the/DT lazy/JJ dog/NN))\n",
            "  ./.)\n"
          ]
        }
      ]
    },
    {
      "cell_type": "code",
      "source": [],
      "metadata": {
        "id": "jT2yMFB4QId-"
      },
      "execution_count": 101,
      "outputs": []
    }
  ]
}