{
  "nbformat": 4,
  "nbformat_minor": 0,
  "metadata": {
    "colab": {
      "provenance": [],
      "authorship_tag": "ABX9TyPRQuQ3krc7MDurpV5VGYBB",
      "include_colab_link": true
    },
    "kernelspec": {
      "name": "python3",
      "display_name": "Python 3"
    },
    "language_info": {
      "name": "python"
    }
  },
  "cells": [
    {
      "cell_type": "markdown",
      "metadata": {
        "id": "view-in-github",
        "colab_type": "text"
      },
      "source": [
        "<a href=\"https://colab.research.google.com/github/alex-smith-uwec/CS491/blob/main/SentenceExploration.ipynb\" target=\"_parent\"><img src=\"https://colab.research.google.com/assets/colab-badge.svg\" alt=\"Open In Colab\"/></a>"
      ]
    },
    {
      "cell_type": "code",
      "execution_count": 1,
      "metadata": {
        "id": "F_tiRMtv3eGF",
        "colab": {
          "base_uri": "https://localhost:8080/"
        },
        "outputId": "058ba9fd-b19d-4125-e7dc-45a032dedaf5"
      },
      "outputs": [
        {
          "output_type": "stream",
          "name": "stdout",
          "text": [
            "Mounted at /content/drive\n"
          ]
        }
      ],
      "source": [
        "from google.colab import drive\n",
        "drive.mount('/content/drive')"
      ]
    },
    {
      "cell_type": "code",
      "source": [
        "my_path=\"/content/drive/MyDrive/CS491/Data/\""
      ],
      "metadata": {
        "id": "8VES9q_sjwAl"
      },
      "execution_count": 2,
      "outputs": []
    },
    {
      "cell_type": "markdown",
      "source": [
        "Some pre-processing: download novel from Gutenberg, then remove preamble and postamble."
      ],
      "metadata": {
        "id": "XylRwQ0ZjHOy"
      }
    },
    {
      "cell_type": "code",
      "source": [
        "title = 'The Golden Bowl'\n",
        "tit='Bowl'\n",
        "author = 'Henry James'\n",
        "url = 'https://www.gutenberg.org/cache/epub/4264/pg4264.txt'\n",
        "path = my_path\n"
      ],
      "metadata": {
        "id": "rAOAFft7kC3I"
      },
      "execution_count": 3,
      "outputs": []
    },
    {
      "cell_type": "code",
      "source": [
        "import os"
      ],
      "metadata": {
        "id": "KabwcviFf9nk"
      },
      "execution_count": 4,
      "outputs": []
    },
    {
      "cell_type": "code",
      "source": [
        "# Check if the file is stored locally\n",
        "filename = my_path+ title\n",
        "if os.path.isfile(filename) and os.stat(filename).st_size != 0:\n",
        "        print(\"{title} file already exists\".format(title=title))\n",
        "        with open(filename, 'r') as f:\n",
        "            raw = f.read()\n",
        "\n",
        "else:\n",
        "    print(\"{title} file does not already exist. Grabbing from Project Gutenberg\".format(title=title))\n",
        "    response = request.urlopen(url)\n",
        "    raw = response.read().decode('utf-8-sig')\n",
        "    print(\"Saving {title} file\".format(title=title))\n",
        "    with open(filename, 'w') as outfile:\n",
        "        outfile.write(raw)"
      ],
      "metadata": {
        "colab": {
          "base_uri": "https://localhost:8080/"
        },
        "id": "7IkvtU03uiOe",
        "outputId": "6603f9fd-f032-4f60-f4b7-c391561ca164"
      },
      "execution_count": 5,
      "outputs": [
        {
          "output_type": "stream",
          "name": "stdout",
          "text": [
            "The Golden Bowl file already exists\n"
          ]
        }
      ]
    },
    {
      "cell_type": "markdown",
      "source": [
        "In the file browser to the left, open the book. The text should (might?) appear in a cell on the right. Delete preamble and postamble, then save."
      ],
      "metadata": {
        "id": "txadp8YuOovS"
      }
    },
    {
      "cell_type": "code",
      "source": [
        "# first, remove unwanted new line and tab characters from the text\n",
        "for char in [\"\\n\", \"\\r\", \"\\d\", \"\\t\"]:\n",
        "   raw = raw.replace(char, \" \")\n",
        "\n",
        "with open(filename, 'w') as outfile:\n",
        "    outfile.write(raw)"
      ],
      "metadata": {
        "id": "gO3zfEMgyqPM"
      },
      "execution_count": 6,
      "outputs": []
    },
    {
      "cell_type": "code",
      "source": [
        "print(f\"first characters are: {raw[:50]}\")\n",
        "print(f\"last characters are: {raw[-50:]}\")"
      ],
      "metadata": {
        "colab": {
          "base_uri": "https://localhost:8080/"
        },
        "id": "s_pjXDObVOop",
        "outputId": "8d450dbb-dff0-471a-9cd7-b3d01aa63d18"
      },
      "execution_count": 8,
      "outputs": [
        {
          "output_type": "stream",
          "name": "stdout",
          "text": [
            "first characters are:        The Prince had always liked his London, whe\n",
            "last characters are: d of them, she buried her own in his breast.      \n"
          ]
        }
      ]
    },
    {
      "cell_type": "markdown",
      "source": [
        "# Onwards to sentences"
      ],
      "metadata": {
        "id": "Y72_AJLcEVXD"
      }
    },
    {
      "cell_type": "code",
      "source": [
        "import nltk\n",
        "from nltk.tokenize import sent_tokenize\n",
        "nltk.download('punkt')"
      ],
      "metadata": {
        "colab": {
          "base_uri": "https://localhost:8080/"
        },
        "id": "SRn9q5SoggAn",
        "outputId": "3ffbeeae-4109-46cb-9570-16a6d60feb11"
      },
      "execution_count": 9,
      "outputs": [
        {
          "output_type": "stream",
          "name": "stderr",
          "text": [
            "[nltk_data] Downloading package punkt to /root/nltk_data...\n",
            "[nltk_data]   Unzipping tokenizers/punkt.zip.\n"
          ]
        },
        {
          "output_type": "execute_result",
          "data": {
            "text/plain": [
              "True"
            ]
          },
          "metadata": {},
          "execution_count": 9
        }
      ]
    },
    {
      "cell_type": "code",
      "source": [
        "with open(my_path+title, 'r') as file:\n",
        "    all_sentences=sent_tokenize(file.read())#.lower())"
      ],
      "metadata": {
        "id": "nuhwRADoEb6e"
      },
      "execution_count": 10,
      "outputs": []
    },
    {
      "cell_type": "code",
      "source": [
        "len(all_sentences)"
      ],
      "metadata": {
        "colab": {
          "base_uri": "https://localhost:8080/"
        },
        "id": "oFNRvYq4FVQL",
        "outputId": "4aa97002-8312-4e60-a4c4-e2ca42ffcfa1"
      },
      "execution_count": 11,
      "outputs": [
        {
          "output_type": "execute_result",
          "data": {
            "text/plain": [
              "6953"
            ]
          },
          "metadata": {},
          "execution_count": 11
        }
      ]
    },
    {
      "cell_type": "code",
      "source": [
        "import random"
      ],
      "metadata": {
        "id": "mNH-r71Fg7aV"
      },
      "execution_count": 12,
      "outputs": []
    },
    {
      "cell_type": "code",
      "source": [
        "random.choice(all_sentences)"
      ],
      "metadata": {
        "colab": {
          "base_uri": "https://localhost:8080/",
          "height": 36
        },
        "id": "mej92trBEcGa",
        "outputId": "643b9727-dd1d-4fa7-d938-9dd65b17c91f"
      },
      "execution_count": 14,
      "outputs": [
        {
          "output_type": "execute_result",
          "data": {
            "text/plain": [
              "'There was a particular reason, which he hadn’t mentioned, and which had made him consider and repent.'"
            ],
            "application/vnd.google.colaboratory.intrinsic+json": {
              "type": "string"
            }
          },
          "metadata": {},
          "execution_count": 14
        }
      ]
    },
    {
      "cell_type": "code",
      "source": [
        "all_sentences[0:2]"
      ],
      "metadata": {
        "colab": {
          "base_uri": "https://localhost:8080/"
        },
        "id": "Ahw4J_1NFB5z",
        "outputId": "34bf9bc9-90ec-4294-88ac-a560dc077a8b"
      },
      "execution_count": 15,
      "outputs": [
        {
          "output_type": "execute_result",
          "data": {
            "text/plain": [
              "['       The Prince had always liked his London, when it had come to him; he was one of the modern Romans who find by the Thames a more convincing image of the truth of the ancient state than any they have left by the Tiber.',\n",
              " 'Brought up on the legend of the City to which the world paid tribute, he recognised in the present London much more than in contemporary Rome the real dimensions of such a case.']"
            ]
          },
          "metadata": {},
          "execution_count": 15
        }
      ]
    },
    {
      "cell_type": "code",
      "source": [
        "temp=random.choice(all_sentences)\n",
        "print(temp)"
      ],
      "metadata": {
        "id": "_ZqJ_adQFb8S",
        "colab": {
          "base_uri": "https://localhost:8080/"
        },
        "outputId": "cc279ced-85bf-4db1-bf8a-44b69ab55d82"
      },
      "execution_count": 67,
      "outputs": [
        {
          "output_type": "stream",
          "name": "stdout",
          "text": [
            "This, for him, is what it was to have married Charlotte.\n"
          ]
        }
      ]
    },
    {
      "cell_type": "markdown",
      "source": [
        "# Tagging and parsing\n",
        "We experiment with average_perceptron_tagger, pos_tag, grammar, RegexpParser"
      ],
      "metadata": {
        "id": "5RJc2SV5TphH"
      }
    },
    {
      "cell_type": "code",
      "source": [
        "nltk.download('averaged_perceptron_tagger')"
      ],
      "metadata": {
        "colab": {
          "base_uri": "https://localhost:8080/"
        },
        "id": "dIjwRoRSj440",
        "outputId": "ad46cca4-368d-4961-ea83-c7876bb7b762"
      },
      "execution_count": 68,
      "outputs": [
        {
          "output_type": "stream",
          "name": "stderr",
          "text": [
            "[nltk_data] Downloading package averaged_perceptron_tagger to\n",
            "[nltk_data]     /root/nltk_data...\n",
            "[nltk_data]   Package averaged_perceptron_tagger is already up-to-\n",
            "[nltk_data]       date!\n"
          ]
        },
        {
          "output_type": "execute_result",
          "data": {
            "text/plain": [
              "True"
            ]
          },
          "metadata": {},
          "execution_count": 68
        }
      ]
    },
    {
      "cell_type": "code",
      "source": [
        "# Menu of sentences to be tagged\n",
        "# sentence = temp #see above, from novel.\n",
        "# sentence=\"See Spot run.\"\n",
        "sentence=\"The quick brown fox jumped over the lazy dog.\"\n",
        "# sentence = \"At eight o'clock on Thursday morning Arthur didn't feel very good.\"\n",
        "# sentence='They can fish'#Interesting to see how this will get parsed!\n",
        "print(sentence)"
      ],
      "metadata": {
        "id": "4jnZ1pyEF3te",
        "colab": {
          "base_uri": "https://localhost:8080/"
        },
        "outputId": "6626254d-4e40-4ffb-db7e-f1c04cbff4ee"
      },
      "execution_count": 75,
      "outputs": [
        {
          "output_type": "stream",
          "name": "stdout",
          "text": [
            "The quick brown fox jumped over the lazy dog.\n"
          ]
        }
      ]
    },
    {
      "cell_type": "code",
      "source": [
        "# Tokenizing and tagging\n",
        "tokens = nltk.word_tokenize(sentence)\n",
        "tagged = nltk.pos_tag(tokens)\n",
        "\n",
        "tagged"
      ],
      "metadata": {
        "colab": {
          "base_uri": "https://localhost:8080/"
        },
        "id": "j0bajdFhElhd",
        "outputId": "808dcc75-2f0f-428f-a396-0a434d59929c"
      },
      "execution_count": 76,
      "outputs": [
        {
          "output_type": "execute_result",
          "data": {
            "text/plain": [
              "[('The', 'DT'),\n",
              " ('quick', 'JJ'),\n",
              " ('brown', 'NN'),\n",
              " ('fox', 'NN'),\n",
              " ('jumped', 'VBD'),\n",
              " ('over', 'IN'),\n",
              " ('the', 'DT'),\n",
              " ('lazy', 'JJ'),\n",
              " ('dog', 'NN'),\n",
              " ('.', '.')]"
            ]
          },
          "metadata": {},
          "execution_count": 76
        }
      ]
    },
    {
      "cell_type": "markdown",
      "source": [
        "See [Penntree bank info](https://www.ling.upenn.edu/courses/Fall_2003/ling001/penn_treebank_pos.html) for part of speech tags.\n",
        "\n"
      ],
      "metadata": {
        "id": "1kJpRxehaUjs"
      }
    },
    {
      "cell_type": "code",
      "source": [
        "##This will show details about POS tags\n",
        "# nltk.download('tagsets')\n",
        "# nltk.help.upenn_tagset()"
      ],
      "metadata": {
        "id": "F1UaIi4oBXUF"
      },
      "execution_count": null,
      "outputs": []
    },
    {
      "cell_type": "code",
      "source": [
        "# Some possible grammars to create parse tree\n",
        "\n",
        "# grammar=\" \" #empty grammar\n",
        "# grammar = \"NP: {<JJ><NN>}\"\n",
        "# grammar = \"NP: {<DT>?<JJ>*<NN>}\"\n",
        "\n",
        "grammar = \"\"\"\n",
        "    NP: {<DT>?<JJ>*<NN>}                      # Noun Phrase\n",
        "    VP: {<VB.*><NP|PP>+}                      # Verb Phrase\n",
        "    PP: {<IN><NP>}                            # Prepositional Phrase\n",
        "    ADJP: {<RB>*<JJ>}                         # Adjective Phrase\n",
        "    CS: {<NP><VP><CC><NP><VP>}                # Compound Sentence\n",
        "    NER: {<NNP>+}                             # Named Entity Recognition\n",
        "\"\"\"\n"
      ],
      "metadata": {
        "id": "v4NgnejfBdko"
      },
      "execution_count": 77,
      "outputs": []
    },
    {
      "cell_type": "code",
      "source": [
        "# Create tree\n",
        "parser = nltk.RegexpParser(grammar)\n",
        "tree = parser.parse(tagged)\n",
        "print(tree)"
      ],
      "metadata": {
        "colab": {
          "base_uri": "https://localhost:8080/"
        },
        "id": "HRS4PAQwBgxg",
        "outputId": "f7735661-5c95-4c55-ffc9-125e88855232"
      },
      "execution_count": 78,
      "outputs": [
        {
          "output_type": "stream",
          "name": "stdout",
          "text": [
            "(S\n",
            "  (NP The/DT quick/JJ brown/NN)\n",
            "  (NP fox/NN)\n",
            "  jumped/VBD\n",
            "  (PP over/IN (NP the/DT lazy/JJ dog/NN))\n",
            "  ./.)\n"
          ]
        }
      ]
    },
    {
      "cell_type": "code",
      "source": [
        "import graphviz\n",
        "\n",
        "# Function to convert NLTK tree to graphviz source\n",
        "def to_graphviz(tree):\n",
        "    dot = graphviz.Digraph(comment='Parse Tree')\n",
        "\n",
        "    def add_nodes_edges(tree, dot, parent_index=None, index=0):\n",
        "        node_index = index\n",
        "        if isinstance(tree, nltk.Tree):\n",
        "            node_label = tree.label()\n",
        "            dot.node(str(node_index), node_label)\n",
        "            if parent_index is not None:\n",
        "                dot.edge(str(parent_index), str(node_index))\n",
        "            for child in tree:\n",
        "                index += 1\n",
        "                index = add_nodes_edges(child, dot, node_index, index)\n",
        "        else:\n",
        "            # Leaf node\n",
        "            dot.node(str(index), str(tree))\n",
        "            if parent_index is not None:\n",
        "                dot.edge(str(parent_index), str(index))\n",
        "        return index\n",
        "\n",
        "    add_nodes_edges(tree, dot)\n",
        "    return dot\n",
        "\n",
        "\n",
        "# Convert tree to graphviz source and display\n",
        "dot_source = to_graphviz(tree)\n",
        "display(dot_source)\n",
        ""
      ],
      "metadata": {
        "colab": {
          "base_uri": "https://localhost:8080/",
          "height": 368
        },
        "id": "lTqJedP6LZtQ",
        "outputId": "ff1473da-2487-4630-b2e1-bbba93626c22"
      },
      "execution_count": 79,
      "outputs": [
        {
          "output_type": "display_data",
          "data": {
            "image/svg+xml": "<?xml version=\"1.0\" encoding=\"UTF-8\" standalone=\"no\"?>\n<!DOCTYPE svg PUBLIC \"-//W3C//DTD SVG 1.1//EN\"\n \"http://www.w3.org/Graphics/SVG/1.1/DTD/svg11.dtd\">\n<!-- Generated by graphviz version 2.43.0 (0)\n -->\n<!-- Title: %3 Pages: 1 -->\n<svg width=\"871pt\" height=\"260pt\"\n viewBox=\"0.00 0.00 870.94 260.00\" xmlns=\"http://www.w3.org/2000/svg\" xmlns:xlink=\"http://www.w3.org/1999/xlink\">\n<g id=\"graph0\" class=\"graph\" transform=\"scale(1 1) rotate(0) translate(4 256)\">\n<title>%3</title>\n<polygon fill=\"white\" stroke=\"transparent\" points=\"-4,4 -4,-256 866.94,-256 866.94,4 -4,4\"/>\n<!-- 0 -->\n<g id=\"node1\" class=\"node\">\n<title>0</title>\n<ellipse fill=\"none\" stroke=\"black\" cx=\"514.65\" cy=\"-234\" rx=\"27\" ry=\"18\"/>\n<text text-anchor=\"middle\" x=\"514.65\" y=\"-230.3\" font-family=\"Times,serif\" font-size=\"14.00\">S</text>\n</g>\n<!-- 1 -->\n<g id=\"node2\" class=\"node\">\n<title>1</title>\n<ellipse fill=\"none\" stroke=\"black\" cx=\"271.65\" cy=\"-162\" rx=\"27\" ry=\"18\"/>\n<text text-anchor=\"middle\" x=\"271.65\" y=\"-158.3\" font-family=\"Times,serif\" font-size=\"14.00\">NP</text>\n</g>\n<!-- 0&#45;&gt;1 -->\n<g id=\"edge1\" class=\"edge\">\n<title>0&#45;&gt;1</title>\n<path fill=\"none\" stroke=\"black\" d=\"M490.01,-225.9C446.32,-213.32 355.23,-187.08 305.62,-172.79\"/>\n<polygon fill=\"black\" stroke=\"black\" points=\"306.56,-169.42 295.99,-170.01 304.63,-176.14 306.56,-169.42\"/>\n</g>\n<!-- 5 -->\n<g id=\"node6\" class=\"node\">\n<title>5</title>\n<ellipse fill=\"none\" stroke=\"black\" cx=\"396.65\" cy=\"-162\" rx=\"27\" ry=\"18\"/>\n<text text-anchor=\"middle\" x=\"396.65\" y=\"-158.3\" font-family=\"Times,serif\" font-size=\"14.00\">NP</text>\n</g>\n<!-- 0&#45;&gt;5 -->\n<g id=\"edge5\" class=\"edge\">\n<title>0&#45;&gt;5</title>\n<path fill=\"none\" stroke=\"black\" d=\"M495.16,-221.44C476.03,-210.09 446.64,-192.66 424.94,-179.78\"/>\n<polygon fill=\"black\" stroke=\"black\" points=\"426.55,-176.67 416.16,-174.58 422.97,-182.69 426.55,-176.67\"/>\n</g>\n<!-- 7 -->\n<g id=\"node8\" class=\"node\">\n<title>7</title>\n<ellipse fill=\"none\" stroke=\"black\" cx=\"514.65\" cy=\"-162\" rx=\"72.59\" ry=\"18\"/>\n<text text-anchor=\"middle\" x=\"514.65\" y=\"-158.3\" font-family=\"Times,serif\" font-size=\"14.00\">(&#39;jumped&#39;, &#39;VBD&#39;)</text>\n</g>\n<!-- 0&#45;&gt;7 -->\n<g id=\"edge7\" class=\"edge\">\n<title>0&#45;&gt;7</title>\n<path fill=\"none\" stroke=\"black\" d=\"M514.65,-215.7C514.65,-207.98 514.65,-198.71 514.65,-190.11\"/>\n<polygon fill=\"black\" stroke=\"black\" points=\"518.15,-190.1 514.65,-180.1 511.15,-190.1 518.15,-190.1\"/>\n</g>\n<!-- 8 -->\n<g id=\"node9\" class=\"node\">\n<title>8</title>\n<ellipse fill=\"none\" stroke=\"black\" cx=\"632.65\" cy=\"-162\" rx=\"27\" ry=\"18\"/>\n<text text-anchor=\"middle\" x=\"632.65\" y=\"-158.3\" font-family=\"Times,serif\" font-size=\"14.00\">PP</text>\n</g>\n<!-- 0&#45;&gt;8 -->\n<g id=\"edge8\" class=\"edge\">\n<title>0&#45;&gt;8</title>\n<path fill=\"none\" stroke=\"black\" d=\"M534.13,-221.44C553.26,-210.09 582.65,-192.66 604.35,-179.78\"/>\n<polygon fill=\"black\" stroke=\"black\" points=\"606.32,-182.69 613.13,-174.58 602.74,-176.67 606.32,-182.69\"/>\n</g>\n<!-- 14 -->\n<g id=\"node15\" class=\"node\">\n<title>14</title>\n<ellipse fill=\"none\" stroke=\"black\" cx=\"709.65\" cy=\"-162\" rx=\"32.49\" ry=\"18\"/>\n<text text-anchor=\"middle\" x=\"709.65\" y=\"-158.3\" font-family=\"Times,serif\" font-size=\"14.00\">(&#39;.&#39;, &#39;.&#39;)</text>\n</g>\n<!-- 0&#45;&gt;14 -->\n<g id=\"edge14\" class=\"edge\">\n<title>0&#45;&gt;14</title>\n<path fill=\"none\" stroke=\"black\" d=\"M538.55,-225.28C568.97,-215.34 623.04,-197.29 668.65,-180 670.75,-179.2 672.91,-178.36 675.09,-177.5\"/>\n<polygon fill=\"black\" stroke=\"black\" points=\"676.62,-180.66 684.59,-173.68 674.01,-174.17 676.62,-180.66\"/>\n</g>\n<!-- 2 -->\n<g id=\"node3\" class=\"node\">\n<title>2</title>\n<ellipse fill=\"none\" stroke=\"black\" cx=\"52.65\" cy=\"-90\" rx=\"52.79\" ry=\"18\"/>\n<text text-anchor=\"middle\" x=\"52.65\" y=\"-86.3\" font-family=\"Times,serif\" font-size=\"14.00\">(&#39;The&#39;, &#39;DT&#39;)</text>\n</g>\n<!-- 1&#45;&gt;2 -->\n<g id=\"edge2\" class=\"edge\">\n<title>1&#45;&gt;2</title>\n<path fill=\"none\" stroke=\"black\" d=\"M247.79,-153.38C212.37,-142.05 145.14,-120.57 99.62,-106.01\"/>\n<polygon fill=\"black\" stroke=\"black\" points=\"100.56,-102.64 89.97,-102.93 98.42,-109.31 100.56,-102.64\"/>\n</g>\n<!-- 3 -->\n<g id=\"node4\" class=\"node\">\n<title>3</title>\n<ellipse fill=\"none\" stroke=\"black\" cx=\"177.65\" cy=\"-90\" rx=\"53.89\" ry=\"18\"/>\n<text text-anchor=\"middle\" x=\"177.65\" y=\"-86.3\" font-family=\"Times,serif\" font-size=\"14.00\">(&#39;quick&#39;, &#39;JJ&#39;)</text>\n</g>\n<!-- 1&#45;&gt;3 -->\n<g id=\"edge3\" class=\"edge\">\n<title>1&#45;&gt;3</title>\n<path fill=\"none\" stroke=\"black\" d=\"M253.96,-147.83C240.77,-138.01 222.45,-124.36 207.06,-112.91\"/>\n<polygon fill=\"black\" stroke=\"black\" points=\"208.98,-109.97 198.87,-106.8 204.8,-115.58 208.98,-109.97\"/>\n</g>\n<!-- 4 -->\n<g id=\"node5\" class=\"node\">\n<title>4</title>\n<ellipse fill=\"none\" stroke=\"black\" cx=\"311.65\" cy=\"-90\" rx=\"62.29\" ry=\"18\"/>\n<text text-anchor=\"middle\" x=\"311.65\" y=\"-86.3\" font-family=\"Times,serif\" font-size=\"14.00\">(&#39;brown&#39;, &#39;NN&#39;)</text>\n</g>\n<!-- 1&#45;&gt;4 -->\n<g id=\"edge4\" class=\"edge\">\n<title>1&#45;&gt;4</title>\n<path fill=\"none\" stroke=\"black\" d=\"M280.92,-144.76C285.63,-136.53 291.46,-126.32 296.78,-117.02\"/>\n<polygon fill=\"black\" stroke=\"black\" points=\"299.94,-118.54 301.86,-108.12 293.86,-115.07 299.94,-118.54\"/>\n</g>\n<!-- 6 -->\n<g id=\"node7\" class=\"node\">\n<title>6</title>\n<ellipse fill=\"none\" stroke=\"black\" cx=\"443.65\" cy=\"-90\" rx=\"51.99\" ry=\"18\"/>\n<text text-anchor=\"middle\" x=\"443.65\" y=\"-86.3\" font-family=\"Times,serif\" font-size=\"14.00\">(&#39;fox&#39;, &#39;NN&#39;)</text>\n</g>\n<!-- 5&#45;&gt;6 -->\n<g id=\"edge6\" class=\"edge\">\n<title>5&#45;&gt;6</title>\n<path fill=\"none\" stroke=\"black\" d=\"M407.31,-145.12C413.03,-136.59 420.22,-125.89 426.69,-116.25\"/>\n<polygon fill=\"black\" stroke=\"black\" points=\"429.7,-118.05 432.37,-107.8 423.89,-114.15 429.7,-118.05\"/>\n</g>\n<!-- 9 -->\n<g id=\"node10\" class=\"node\">\n<title>9</title>\n<ellipse fill=\"none\" stroke=\"black\" cx=\"592.65\" cy=\"-90\" rx=\"51.99\" ry=\"18\"/>\n<text text-anchor=\"middle\" x=\"592.65\" y=\"-86.3\" font-family=\"Times,serif\" font-size=\"14.00\">(&#39;over&#39;, &#39;IN&#39;)</text>\n</g>\n<!-- 8&#45;&gt;9 -->\n<g id=\"edge9\" class=\"edge\">\n<title>8&#45;&gt;9</title>\n<path fill=\"none\" stroke=\"black\" d=\"M623.37,-144.76C618.66,-136.53 612.83,-126.32 607.51,-117.02\"/>\n<polygon fill=\"black\" stroke=\"black\" points=\"610.43,-115.07 602.43,-108.12 604.35,-118.54 610.43,-115.07\"/>\n</g>\n<!-- 10 -->\n<g id=\"node11\" class=\"node\">\n<title>10</title>\n<ellipse fill=\"none\" stroke=\"black\" cx=\"689.65\" cy=\"-90\" rx=\"27\" ry=\"18\"/>\n<text text-anchor=\"middle\" x=\"689.65\" y=\"-86.3\" font-family=\"Times,serif\" font-size=\"14.00\">NP</text>\n</g>\n<!-- 8&#45;&gt;10 -->\n<g id=\"edge10\" class=\"edge\">\n<title>8&#45;&gt;10</title>\n<path fill=\"none\" stroke=\"black\" d=\"M645.01,-145.81C652.56,-136.55 662.35,-124.52 670.84,-114.09\"/>\n<polygon fill=\"black\" stroke=\"black\" points=\"673.7,-116.12 677.3,-106.16 668.27,-111.7 673.7,-116.12\"/>\n</g>\n<!-- 11 -->\n<g id=\"node12\" class=\"node\">\n<title>11</title>\n<ellipse fill=\"none\" stroke=\"black\" cx=\"572.65\" cy=\"-18\" rx=\"50.09\" ry=\"18\"/>\n<text text-anchor=\"middle\" x=\"572.65\" y=\"-14.3\" font-family=\"Times,serif\" font-size=\"14.00\">(&#39;the&#39;, &#39;DT&#39;)</text>\n</g>\n<!-- 10&#45;&gt;11 -->\n<g id=\"edge11\" class=\"edge\">\n<title>10&#45;&gt;11</title>\n<path fill=\"none\" stroke=\"black\" d=\"M670.06,-77.28C652.72,-66.91 627.03,-51.54 606.39,-39.19\"/>\n<polygon fill=\"black\" stroke=\"black\" points=\"607.98,-36.06 597.6,-33.93 604.38,-42.07 607.98,-36.06\"/>\n</g>\n<!-- 12 -->\n<g id=\"node13\" class=\"node\">\n<title>12</title>\n<ellipse fill=\"none\" stroke=\"black\" cx=\"689.65\" cy=\"-18\" rx=\"48.99\" ry=\"18\"/>\n<text text-anchor=\"middle\" x=\"689.65\" y=\"-14.3\" font-family=\"Times,serif\" font-size=\"14.00\">(&#39;lazy&#39;, &#39;JJ&#39;)</text>\n</g>\n<!-- 10&#45;&gt;12 -->\n<g id=\"edge12\" class=\"edge\">\n<title>10&#45;&gt;12</title>\n<path fill=\"none\" stroke=\"black\" d=\"M689.65,-71.7C689.65,-63.98 689.65,-54.71 689.65,-46.11\"/>\n<polygon fill=\"black\" stroke=\"black\" points=\"693.15,-46.1 689.65,-36.1 686.15,-46.1 693.15,-46.1\"/>\n</g>\n<!-- 13 -->\n<g id=\"node14\" class=\"node\">\n<title>13</title>\n<ellipse fill=\"none\" stroke=\"black\" cx=\"809.65\" cy=\"-18\" rx=\"53.09\" ry=\"18\"/>\n<text text-anchor=\"middle\" x=\"809.65\" y=\"-14.3\" font-family=\"Times,serif\" font-size=\"14.00\">(&#39;dog&#39;, &#39;NN&#39;)</text>\n</g>\n<!-- 10&#45;&gt;13 -->\n<g id=\"edge13\" class=\"edge\">\n<title>10&#45;&gt;13</title>\n<path fill=\"none\" stroke=\"black\" d=\"M709.46,-77.44C727.28,-67.04 753.86,-51.54 775.17,-39.11\"/>\n<polygon fill=\"black\" stroke=\"black\" points=\"777.06,-42.06 783.93,-34 773.53,-36.01 777.06,-42.06\"/>\n</g>\n</g>\n</svg>\n",
            "text/plain": [
              "<graphviz.graphs.Digraph at 0x78c038feac50>"
            ]
          },
          "metadata": {}
        }
      ]
    }
  ]
}