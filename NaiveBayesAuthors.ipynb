{
  "nbformat": 4,
  "nbformat_minor": 0,
  "metadata": {
    "colab": {
      "provenance": [],
      "mount_file_id": "1TRdrFWSPYV81DHtw0eqtUbWUCmeIRN6z",
      "authorship_tag": "ABX9TyOb5xx08PQUQ+S00yzLAD4Q",
      "include_colab_link": true
    },
    "kernelspec": {
      "name": "python3",
      "display_name": "Python 3"
    },
    "language_info": {
      "name": "python"
    }
  },
  "cells": [
    {
      "cell_type": "markdown",
      "metadata": {
        "id": "view-in-github",
        "colab_type": "text"
      },
      "source": [
        "<a href=\"https://colab.research.google.com/github/alex-smith-uwec/CS491/blob/main/NaiveBayesAuthors.ipynb\" target=\"_parent\"><img src=\"https://colab.research.google.com/assets/colab-badge.svg\" alt=\"Open In Colab\"/></a>"
      ]
    },
    {
      "cell_type": "markdown",
      "source": [
        "Using sklearn for naive Bayes classifer. Take three authors (James, Wharton, Austen). For each sample from three of their novels.\n"
      ],
      "metadata": {
        "id": "EixrwjbpwkVm"
      }
    },
    {
      "cell_type": "code",
      "source": [],
      "metadata": {
        "id": "P4byw7zbblHy"
      },
      "execution_count": null,
      "outputs": []
    },
    {
      "cell_type": "code",
      "execution_count": null,
      "metadata": {
        "id": "O_GsAPlYaLqJ"
      },
      "outputs": [],
      "source": [
        "import numpy as np\n",
        "from sklearn.feature_extraction.text import CountVectorizer\n",
        "from sklearn.model_selection import train_test_split\n",
        "from sklearn.naive_bayes import MultinomialNB\n",
        "from sklearn.metrics import classification_report, confusion_matrix\n"
      ]
    },
    {
      "cell_type": "markdown",
      "source": [],
      "metadata": {
        "id": "DFriT9hibQUF"
      }
    },
    {
      "cell_type": "code",
      "source": [
        "my_path = '/content/drive/MyDrive/CS491/Data/'"
      ],
      "metadata": {
        "id": "FoS8QNd3bOCL"
      },
      "execution_count": null,
      "outputs": []
    },
    {
      "cell_type": "markdown",
      "source": [
        "# Prepare texts"
      ],
      "metadata": {
        "id": "-Kkg0PvwbT85"
      }
    },
    {
      "cell_type": "code",
      "source": [
        "import random\n",
        "\n",
        "def extract_random_words(file_path, num_words=20000):\n",
        "    \"\"\"\n",
        "    Extracts a random sequence of `num_words` consecutive words from a text file.\n",
        "\n",
        "    :param file_path: Path to the text file.\n",
        "    :param num_words: Number of consecutive words to extract.\n",
        "    :return: A string containing the extracted words.\n",
        "    \"\"\"\n",
        "    # Open the file in read-only mode\n",
        "    with open(file_path, 'r') as file:\n",
        "        # Read the contents of the file\n",
        "        text = file.read()\n",
        "\n",
        "    # Split the text into words\n",
        "    words = text.split()\n",
        "\n",
        "    # Check if there are enough words in the file\n",
        "    if len(words) < num_words:\n",
        "        raise ValueError(f\"The text file does not contain enough words (requires at least {num_words}).\")\n",
        "\n",
        "    # Choose a random start index for the sequence\n",
        "    start_index = random.randint(0, len(words) - num_words)\n",
        "\n",
        "    # Extract the sequence of words\n",
        "    random_words = words[start_index:start_index + num_words]\n",
        "\n",
        "    # Join the words back into a string\n",
        "    return ' '.join(random_words)\n",
        "\n"
      ],
      "metadata": {
        "id": "JI4EEtjfbOOe"
      },
      "execution_count": null,
      "outputs": []
    },
    {
      "cell_type": "code",
      "source": [
        "author_name = 'Austen'\n",
        "novels = ['Emma', 'Pride and Prejudice', 'Sense and Sensibility']\n",
        "\n",
        "# Dictionary to store the snippets\n",
        "snippets = {}\n",
        "\n",
        "# Extract snippets from each novel\n",
        "for novel in novels:\n",
        "    try:\n",
        "        file_path = my_path + novel\n",
        "        snippets[novel] = extract_random_words(file_path)\n",
        "\n",
        "    except ValueError as e:\n",
        "        print(f\"Error in {novel}: {e}\")\n",
        "    except FileNotFoundError:\n",
        "        print(f\"File not found: {file_path}\")\n",
        "\n",
        "# Concatenate the snippets\n",
        "sample_variable_name = f\"{author_name}_sample\"\n",
        "globals()[sample_variable_name] = \" \".join(snippets.values())\n",
        "\n",
        "\n"
      ],
      "metadata": {
        "id": "9OzUWSrsbOUK"
      },
      "execution_count": null,
      "outputs": []
    },
    {
      "cell_type": "code",
      "source": [
        "author_name = 'James'\n",
        "novels = ['The Americans', 'The Golden Bowl','Daisy Miller']\n",
        "\n",
        "# Dictionary to store the snippets\n",
        "snippets = {}\n",
        "\n",
        "# Extract snippets from each novel\n",
        "for novel in novels:\n",
        "    try:\n",
        "        file_path = my_path + novel\n",
        "        snippets[novel] = extract_random_words(file_path)\n",
        "\n",
        "    except ValueError as e:\n",
        "        print(f\"Error in {novel}: {e}\")\n",
        "    except FileNotFoundError:\n",
        "        print(f\"File not found: {file_path}\")\n",
        "\n",
        "# Concatenate the snippets\n",
        "sample_variable_name = f\"{author_name}_sample\"\n",
        "globals()[sample_variable_name] = \" \".join(snippets.values())"
      ],
      "metadata": {
        "id": "1ONXJXHqho1D"
      },
      "execution_count": null,
      "outputs": []
    },
    {
      "cell_type": "code",
      "source": [
        "author_name = 'Wharton'\n",
        "novels = ['Summer', 'Age of Innocence','Daisy Miller','House of Mirth']\n",
        "\n",
        "# Dictionary to store the snippets\n",
        "snippets = {}\n",
        "\n",
        "# Extract snippets from each novel\n",
        "for novel in novels:\n",
        "    try:\n",
        "        file_path = my_path + novel\n",
        "        snippets[novel] = extract_random_words(file_path)\n",
        "\n",
        "    except ValueError as e:\n",
        "        print(f\"Error in {novel}: {e}\")\n",
        "    except FileNotFoundError:\n",
        "        print(f\"File not found: {file_path}\")\n",
        "\n",
        "# Concatenate the snippets\n",
        "sample_variable_name = f\"{author_name}_sample\"\n",
        "globals()[sample_variable_name] = \" \".join(snippets.values())"
      ],
      "metadata": {
        "id": "Wys9pziz3tu1"
      },
      "execution_count": null,
      "outputs": []
    },
    {
      "cell_type": "code",
      "source": [
        "Austen_sample"
      ],
      "metadata": {
        "id": "jNY36Ve2e2ew"
      },
      "execution_count": null,
      "outputs": []
    },
    {
      "cell_type": "code",
      "source": [
        "James_sample"
      ],
      "metadata": {
        "id": "9Llqgs3ofbe8"
      },
      "execution_count": null,
      "outputs": []
    },
    {
      "cell_type": "code",
      "source": [
        "Wharton_sample"
      ],
      "metadata": {
        "id": "TINL8ElD4KDo"
      },
      "execution_count": null,
      "outputs": []
    },
    {
      "cell_type": "code",
      "source": [
        "from nltk.corpus import stopwords\n",
        "import nltk\n",
        "nltk.download('stopwords')\n",
        "stop_words = stopwords.words('english')\n",
        "\n",
        "nltk.download('punkt')\n",
        "\n",
        "nltk.download('wordnet')\n",
        "from nltk.stem import WordNetLemmatizer\n",
        "\n",
        "from nltk.tokenize import sent_tokenize, word_tokenize\n",
        "\n",
        "import string"
      ],
      "metadata": {
        "colab": {
          "base_uri": "https://localhost:8080/"
        },
        "id": "xh1dFecU4Qcg",
        "outputId": "883d3262-410a-4ef5-8955-edf91a4ecde4"
      },
      "execution_count": null,
      "outputs": [
        {
          "output_type": "stream",
          "name": "stderr",
          "text": [
            "[nltk_data] Downloading package stopwords to /root/nltk_data...\n",
            "[nltk_data]   Package stopwords is already up-to-date!\n",
            "[nltk_data] Downloading package punkt to /root/nltk_data...\n",
            "[nltk_data]   Package punkt is already up-to-date!\n",
            "[nltk_data] Downloading package wordnet to /root/nltk_data...\n",
            "[nltk_data]   Package wordnet is already up-to-date!\n"
          ]
        }
      ]
    },
    {
      "cell_type": "code",
      "source": [
        "def preprocess_text(doc):\n",
        "    # Tokenize the text into words\n",
        "    tokens = word_tokenize(doc.lower())\n",
        "\n",
        "    # Remove punctuation and numbers\n",
        "    table = str.maketrans('', '', string.punctuation + string.digits)\n",
        "    tokens = [word.translate(table) for word in tokens]\n",
        "\n",
        "    # Remove stopwords\n",
        "    stop_words = set(stopwords.words('english'))\n",
        "    tokens = [word for word in tokens if word not in stop_words]\n",
        "\n",
        "    # Lemmatize the words\n",
        "    # lemmatizer = WordNetLemmatizer()\n",
        "    # tokens = [lemmatizer.lemmatize(word) for word in tokens]\n",
        "\n",
        "    # Remove short words\n",
        "    tokens = [word for word in tokens if len(word) > 3]\n",
        "\n",
        "    return tokens\n",
        "\n"
      ],
      "metadata": {
        "id": "d05Q1qXxfbkD"
      },
      "execution_count": null,
      "outputs": []
    },
    {
      "cell_type": "code",
      "source": [
        "texts = [James_sample, Austen_sample, Wharton_sample]\n",
        "authors = [\"James\", \"Austen\", \"Wharton\"]\n"
      ],
      "metadata": {
        "id": "IEpfG-8wanaG"
      },
      "execution_count": null,
      "outputs": []
    },
    {
      "cell_type": "code",
      "source": [
        "processed_texts = [preprocess_text(text) for text in texts]\n",
        "processed_texts = [\" \".join(tokens) for tokens in processed_texts]"
      ],
      "metadata": {
        "id": "lrJL0_ce6Noy"
      },
      "execution_count": null,
      "outputs": []
    },
    {
      "cell_type": "code",
      "source": [
        "def split_text_into_segments(text, segment_length):\n",
        "    return [text[i:i+segment_length] for i in range(0, len(text), segment_length)]\n",
        "\n",
        "# Assuming each processed_texts[i] is a ~30,000-word text for an author\n",
        "segment_length = 1000  # for example, 1000 words per segment\n",
        "segmented_texts = [split_text_into_segments(text, segment_length) for text in processed_texts]\n",
        "\n",
        "# Flatten the list of lists, keeping track of the authors\n",
        "final_texts = []\n",
        "final_labels = []\n",
        "authors = ['James', 'Austen', 'Wharton']  # corresponding authors\n",
        "for author, segments in zip(authors, segmented_texts):\n",
        "    final_texts.extend(segments)\n",
        "    final_labels.extend([author] * len(segments))\n"
      ],
      "metadata": {
        "id": "BIxnS65DKa9y"
      },
      "execution_count": null,
      "outputs": []
    },
    {
      "cell_type": "code",
      "source": [
        "len(final_texts[2])"
      ],
      "metadata": {
        "colab": {
          "base_uri": "https://localhost:8080/"
        },
        "id": "K48s-et5LbNl",
        "outputId": "8ab5efc4-5f2b-42c8-fbad-8c6df86ab37f"
      },
      "execution_count": null,
      "outputs": [
        {
          "output_type": "execute_result",
          "data": {
            "text/plain": [
              "1000"
            ]
          },
          "metadata": {},
          "execution_count": 150
        }
      ]
    },
    {
      "cell_type": "code",
      "source": [],
      "metadata": {
        "id": "s_usl-QnLbIH"
      },
      "execution_count": null,
      "outputs": []
    },
    {
      "cell_type": "markdown",
      "source": [
        "# Now analyze"
      ],
      "metadata": {
        "id": "R70W1uyFbZrd"
      }
    },
    {
      "cell_type": "code",
      "source": [
        "vectorizer = CountVectorizer()\n",
        "X = vectorizer.fit_transform(final_texts)\n"
      ],
      "metadata": {
        "id": "dbIrnE39ao5Z"
      },
      "execution_count": null,
      "outputs": []
    },
    {
      "cell_type": "code",
      "source": [
        "X_train, X_test, y_train, y_test = train_test_split(X, final_labels, test_size=0.2, random_state=42)\n"
      ],
      "metadata": {
        "id": "p3SzatztavHh"
      },
      "execution_count": null,
      "outputs": []
    },
    {
      "cell_type": "code",
      "source": [
        "X"
      ],
      "metadata": {
        "colab": {
          "base_uri": "https://localhost:8080/"
        },
        "id": "lA8VdE5pB0Mk",
        "outputId": "06190d85-ff50-498b-c405-1c37b66ffd20"
      },
      "execution_count": null,
      "outputs": [
        {
          "output_type": "execute_result",
          "data": {
            "text/plain": [
              "<634x11815 sparse matrix of type '<class 'numpy.int64'>'\n",
              "\twith 72501 stored elements in Compressed Sparse Row format>"
            ]
          },
          "metadata": {},
          "execution_count": 184
        }
      ]
    },
    {
      "cell_type": "code",
      "source": [],
      "metadata": {
        "id": "_OHsXUepB0F5"
      },
      "execution_count": null,
      "outputs": []
    },
    {
      "cell_type": "code",
      "source": [
        "clf = MultinomialNB()\n",
        "clf.fit(X_train, y_train)\n"
      ],
      "metadata": {
        "id": "4tjiC8Xwavvc",
        "colab": {
          "base_uri": "https://localhost:8080/",
          "height": 76
        },
        "outputId": "4d5ab46c-4985-4eda-84fd-1382c28491a6"
      },
      "execution_count": null,
      "outputs": [
        {
          "output_type": "execute_result",
          "data": {
            "text/plain": [
              "MultinomialNB()"
            ],
            "text/html": [
              "<style>#sk-container-id-6 {color: black;background-color: white;}#sk-container-id-6 pre{padding: 0;}#sk-container-id-6 div.sk-toggleable {background-color: white;}#sk-container-id-6 label.sk-toggleable__label {cursor: pointer;display: block;width: 100%;margin-bottom: 0;padding: 0.3em;box-sizing: border-box;text-align: center;}#sk-container-id-6 label.sk-toggleable__label-arrow:before {content: \"▸\";float: left;margin-right: 0.25em;color: #696969;}#sk-container-id-6 label.sk-toggleable__label-arrow:hover:before {color: black;}#sk-container-id-6 div.sk-estimator:hover label.sk-toggleable__label-arrow:before {color: black;}#sk-container-id-6 div.sk-toggleable__content {max-height: 0;max-width: 0;overflow: hidden;text-align: left;background-color: #f0f8ff;}#sk-container-id-6 div.sk-toggleable__content pre {margin: 0.2em;color: black;border-radius: 0.25em;background-color: #f0f8ff;}#sk-container-id-6 input.sk-toggleable__control:checked~div.sk-toggleable__content {max-height: 200px;max-width: 100%;overflow: auto;}#sk-container-id-6 input.sk-toggleable__control:checked~label.sk-toggleable__label-arrow:before {content: \"▾\";}#sk-container-id-6 div.sk-estimator input.sk-toggleable__control:checked~label.sk-toggleable__label {background-color: #d4ebff;}#sk-container-id-6 div.sk-label input.sk-toggleable__control:checked~label.sk-toggleable__label {background-color: #d4ebff;}#sk-container-id-6 input.sk-hidden--visually {border: 0;clip: rect(1px 1px 1px 1px);clip: rect(1px, 1px, 1px, 1px);height: 1px;margin: -1px;overflow: hidden;padding: 0;position: absolute;width: 1px;}#sk-container-id-6 div.sk-estimator {font-family: monospace;background-color: #f0f8ff;border: 1px dotted black;border-radius: 0.25em;box-sizing: border-box;margin-bottom: 0.5em;}#sk-container-id-6 div.sk-estimator:hover {background-color: #d4ebff;}#sk-container-id-6 div.sk-parallel-item::after {content: \"\";width: 100%;border-bottom: 1px solid gray;flex-grow: 1;}#sk-container-id-6 div.sk-label:hover label.sk-toggleable__label {background-color: #d4ebff;}#sk-container-id-6 div.sk-serial::before {content: \"\";position: absolute;border-left: 1px solid gray;box-sizing: border-box;top: 0;bottom: 0;left: 50%;z-index: 0;}#sk-container-id-6 div.sk-serial {display: flex;flex-direction: column;align-items: center;background-color: white;padding-right: 0.2em;padding-left: 0.2em;position: relative;}#sk-container-id-6 div.sk-item {position: relative;z-index: 1;}#sk-container-id-6 div.sk-parallel {display: flex;align-items: stretch;justify-content: center;background-color: white;position: relative;}#sk-container-id-6 div.sk-item::before, #sk-container-id-6 div.sk-parallel-item::before {content: \"\";position: absolute;border-left: 1px solid gray;box-sizing: border-box;top: 0;bottom: 0;left: 50%;z-index: -1;}#sk-container-id-6 div.sk-parallel-item {display: flex;flex-direction: column;z-index: 1;position: relative;background-color: white;}#sk-container-id-6 div.sk-parallel-item:first-child::after {align-self: flex-end;width: 50%;}#sk-container-id-6 div.sk-parallel-item:last-child::after {align-self: flex-start;width: 50%;}#sk-container-id-6 div.sk-parallel-item:only-child::after {width: 0;}#sk-container-id-6 div.sk-dashed-wrapped {border: 1px dashed gray;margin: 0 0.4em 0.5em 0.4em;box-sizing: border-box;padding-bottom: 0.4em;background-color: white;}#sk-container-id-6 div.sk-label label {font-family: monospace;font-weight: bold;display: inline-block;line-height: 1.2em;}#sk-container-id-6 div.sk-label-container {text-align: center;}#sk-container-id-6 div.sk-container {/* jupyter's `normalize.less` sets `[hidden] { display: none; }` but bootstrap.min.css set `[hidden] { display: none !important; }` so we also need the `!important` here to be able to override the default hidden behavior on the sphinx rendered scikit-learn.org. See: https://github.com/scikit-learn/scikit-learn/issues/21755 */display: inline-block !important;position: relative;}#sk-container-id-6 div.sk-text-repr-fallback {display: none;}</style><div id=\"sk-container-id-6\" class=\"sk-top-container\"><div class=\"sk-text-repr-fallback\"><pre>MultinomialNB()</pre><b>In a Jupyter environment, please rerun this cell to show the HTML representation or trust the notebook. <br />On GitHub, the HTML representation is unable to render, please try loading this page with nbviewer.org.</b></div><div class=\"sk-container\" hidden><div class=\"sk-item\"><div class=\"sk-estimator sk-toggleable\"><input class=\"sk-toggleable__control sk-hidden--visually\" id=\"sk-estimator-id-6\" type=\"checkbox\" checked><label for=\"sk-estimator-id-6\" class=\"sk-toggleable__label sk-toggleable__label-arrow\">MultinomialNB</label><div class=\"sk-toggleable__content\"><pre>MultinomialNB()</pre></div></div></div></div></div>"
            ]
          },
          "metadata": {},
          "execution_count": 154
        }
      ]
    },
    {
      "cell_type": "code",
      "source": [
        "from sklearn.metrics import accuracy_score, classification_report\n",
        "# Predict on the test data\n",
        "y_pred = clf.predict(X_test)\n",
        "\n",
        "# Calculate accuracy\n",
        "accuracy = accuracy_score(y_test, y_pred)\n",
        "print(f\"Accuracy: {accuracy}\")\n",
        "\n",
        "# Detailed performance analysis\n",
        "print(classification_report(y_test, y_pred))\n"
      ],
      "metadata": {
        "id": "T3jyJFYGbDX7",
        "colab": {
          "base_uri": "https://localhost:8080/"
        },
        "outputId": "a698a705-6b5a-4419-8a40-e783202e945f"
      },
      "execution_count": null,
      "outputs": [
        {
          "output_type": "stream",
          "name": "stdout",
          "text": [
            "Accuracy: 0.8582677165354331\n",
            "              precision    recall  f1-score   support\n",
            "\n",
            "      Austen       1.00      1.00      1.00        40\n",
            "       James       0.74      0.82      0.78        38\n",
            "     Wharton       0.84      0.78      0.81        49\n",
            "\n",
            "    accuracy                           0.86       127\n",
            "   macro avg       0.86      0.86      0.86       127\n",
            "weighted avg       0.86      0.86      0.86       127\n",
            "\n"
          ]
        }
      ]
    },
    {
      "cell_type": "code",
      "source": [
        "from sklearn.metrics import confusion_matrix\n",
        "import seaborn as sns\n",
        "import matplotlib.pyplot as plt\n",
        "\n",
        "# Assuming y_test are your true labels and y_pred are the predictions made by the model\n",
        "cm = confusion_matrix(y_test, y_pred, labels=['Austen', 'James', 'Wharton'])\n",
        "\n",
        "# Plotting the confusion matrix\n",
        "plt.figure(figsize=(8, 6))\n",
        "sns.heatmap(cm, annot=True, fmt='g', cmap='Blues', xticklabels=['Austen', 'James', 'Wharton'], yticklabels=['Austen', 'James', 'Wharton'])\n",
        "plt.xlabel('Predicted')\n",
        "plt.ylabel('Actual')\n",
        "plt.title('Confusion Matrix')\n",
        "plt.show()\n"
      ],
      "metadata": {
        "colab": {
          "base_uri": "https://localhost:8080/",
          "height": 564
        },
        "id": "thlP4StqTLij",
        "outputId": "a49f4072-1c1a-4882-fc20-03524b6c17a7"
      },
      "execution_count": null,
      "outputs": [
        {
          "output_type": "display_data",
          "data": {
            "text/plain": [
              "<Figure size 800x600 with 2 Axes>"
            ],
            "image/png": "[encoded data removed]"
          },
          "metadata": {}
        }
      ]
    },
    {
      "cell_type": "code",
      "source": [
        "#sample from Henry James, Turn of the Screw\n",
        "sample=\"I turned and saw that Flora, whom, ten minutes before, I had established in the schoolroom with a sheet of white paper, a pencil, and a copy of nice “round O’s,” now presented herself to view at the open door. She expressed in her little way an extraordinary detachment from disagreeable duties, looking to me, however, with a great childish light that seemed to offer it as a mere result of the affection she had conceived for my person, which had rendered necessary that she should follow me. I needed nothing more than this to feel the full force of Mrs. Grose’s comparison, and, catching my pupil in my arms, covered her with kisses in which there was a sob of atonement.\"\n",
        "\n",
        "\n",
        "# Preprocess the sample text\n",
        "preprocessed_sample = preprocess_text(sample)\n",
        "\n",
        "# Join the tokens back into a single string\n",
        "processed_sample = \" \".join(preprocessed_sample)\n",
        "\n",
        "# Now processed_sample is ready to be vectorized\n"
      ],
      "metadata": {
        "id": "qeNXq0zhR7PA"
      },
      "execution_count": null,
      "outputs": []
    },
    {
      "cell_type": "code",
      "source": [
        "processed_sample"
      ],
      "metadata": {
        "colab": {
          "base_uri": "https://localhost:8080/",
          "height": 53
        },
        "id": "nssq20WsUsCQ",
        "outputId": "dc01df80-454e-4cac-f523-a62d339ff466"
      },
      "execution_count": null,
      "outputs": [
        {
          "output_type": "execute_result",
          "data": {
            "text/plain": [
              "'turned flora minutes established schoolroom sheet white paper pencil copy nice round presented view open door expressed little extraordinary detachment disagreeable duties looking however great childish light seemed offer mere result affection conceived person rendered necessary follow needed nothing feel full force grose comparison catching pupil arms covered kisses atonement'"
            ],
            "application/vnd.google.colaboratory.intrinsic+json": {
              "type": "string"
            }
          },
          "metadata": {},
          "execution_count": 182
        }
      ]
    },
    {
      "cell_type": "code",
      "source": [
        "test_vector = vectorizer.transform([processed_sample])\n",
        "predicted_author = clf.predict(test_vector)\n",
        "print(predicted_author)\n"
      ],
      "metadata": {
        "id": "1NuaNzxDbIAs",
        "colab": {
          "base_uri": "https://localhost:8080/"
        },
        "outputId": "b60c441d-0c0e-412a-d79d-b40d68139032"
      },
      "execution_count": null,
      "outputs": [
        {
          "output_type": "stream",
          "name": "stdout",
          "text": [
            "['James']\n"
          ]
        }
      ]
    },
    {
      "cell_type": "markdown",
      "source": [],
      "metadata": {
        "id": "GWQy34n_wifK"
      }
    },
    {
      "cell_type": "code",
      "source": [],
      "metadata": {
        "id": "CyCg9jWZtAnP"
      },
      "execution_count": null,
      "outputs": []
    }
  ]
}