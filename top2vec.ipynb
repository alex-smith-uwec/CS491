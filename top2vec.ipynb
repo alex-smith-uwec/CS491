{
  "nbformat": 4,
  "nbformat_minor": 0,
  "metadata": {
    "colab": {
      "provenance": [],
      "collapsed_sections": [
        "3hbso2-5laXO"
      ],
      "mount_file_id": "1AZk2HS77mMl-mZyKuzIvX4dicurVJ1-p",
      "authorship_tag": "ABX9TyNUd8uljFkvnvrPuvyzXcMZ",
      "include_colab_link": true
    },
    "kernelspec": {
      "name": "python3",
      "display_name": "Python 3"
    },
    "language_info": {
      "name": "python"
    }
  },
  "cells": [
    {
      "cell_type": "markdown",
      "metadata": {
        "id": "view-in-github",
        "colab_type": "text"
      },
      "source": [
        "<a href=\"https://colab.research.google.com/github/alex-smith-uwec/CS491/blob/main/top2vec.ipynb\" target=\"_parent\"><img src=\"https://colab.research.google.com/assets/colab-badge.svg\" alt=\"Open In Colab\"/></a>"
      ]
    },
    {
      "cell_type": "code",
      "source": [
        "from google.colab import drive\n",
        "drive.mount('/content/drive')"
      ],
      "metadata": {
        "colab": {
          "base_uri": "https://localhost:8080/"
        },
        "id": "mpRBWeZUE29k",
        "outputId": "78430d5c-9cc3-4ea2-8566-c863215da481"
      },
      "execution_count": 4,
      "outputs": [
        {
          "output_type": "stream",
          "name": "stdout",
          "text": [
            "Mounted at /content/drive\n"
          ]
        }
      ]
    },
    {
      "cell_type": "code",
      "source": [
        "my_path=\"/content/drive/MyDrive/CS491/Data/US_Inaugural_Addresses\""
      ],
      "metadata": {
        "id": "LbXs0kMoFN3T"
      },
      "execution_count": 5,
      "outputs": []
    },
    {
      "cell_type": "code",
      "source": [
        "import os\n",
        "documents = []\n",
        "\n",
        "for file in os.listdir(my_path):\n",
        "    if file.endswith(\".txt\"):\n",
        "        file_path = os.path.join(my_path, file)\n",
        "        with open(file_path, 'r', encoding='utf-8') as f:\n",
        "            content = f.read()\n",
        "            documents.append(content)  # Add the raw content to the documents list\n"
      ],
      "metadata": {
        "id": "7XeqE48FQdNC"
      },
      "execution_count": 6,
      "outputs": []
    },
    {
      "cell_type": "code",
      "source": [
        "!pip install Top2Vec -q"
      ],
      "metadata": {
        "colab": {
          "base_uri": "https://localhost:8080/"
        },
        "id": "3zjXwbBdQ1xn",
        "outputId": "e580f66b-f4ea-44f3-e153-6852158885fb"
      },
      "execution_count": 7,
      "outputs": [
        {
          "output_type": "stream",
          "name": "stdout",
          "text": [
            "\u001b[2K     \u001b[90m━━━━━━━━━━━━━━━━━━━━━━━━━━━━━━━━━━━━━━━━\u001b[0m \u001b[32m90.9/90.9 kB\u001b[0m \u001b[31m1.7 MB/s\u001b[0m eta \u001b[36m0:00:00\u001b[0m\n",
            "\u001b[?25h  Preparing metadata (setup.py) ... \u001b[?25l\u001b[?25hdone\n",
            "\u001b[2K     \u001b[90m━━━━━━━━━━━━━━━━━━━━━━━━━━━━━━━━━━━━━━━━\u001b[0m \u001b[32m5.2/5.2 MB\u001b[0m \u001b[31m25.8 MB/s\u001b[0m eta \u001b[36m0:00:00\u001b[0m\n",
            "\u001b[?25h  Installing build dependencies ... \u001b[?25l\u001b[?25hdone\n",
            "  Getting requirements to build wheel ... \u001b[?25l\u001b[?25hdone\n",
            "  Preparing metadata (pyproject.toml) ... \u001b[?25l\u001b[?25hdone\n",
            "\u001b[2K     \u001b[90m━━━━━━━━━━━━━━━━━━━━━━━━━━━━━━━━━━━━━━━━\u001b[0m \u001b[32m55.8/55.8 kB\u001b[0m \u001b[31m6.2 MB/s\u001b[0m eta \u001b[36m0:00:00\u001b[0m\n",
            "\u001b[?25h  Building wheel for hdbscan (pyproject.toml) ... \u001b[?25l\u001b[?25hdone\n",
            "  Building wheel for umap-learn (setup.py) ... \u001b[?25l\u001b[?25hdone\n"
          ]
        }
      ]
    },
    {
      "cell_type": "code",
      "source": [
        "from top2vec import Top2Vec\n",
        "\n",
        "# Assuming 'documents' is a list of text documents you wish to model\n",
        "model = Top2Vec(documents, embedding_model='doc2vec', workers=2)\n",
        "# model = Top2Vec(documents, embedding_model='universal-sentence-encoder', workers=2, use_embedding_model_tokenizer=True)\n",
        "\n",
        "\n",
        "# Now you can use the model to find topics, get topic sizes, etc.\n",
        "topics = model.get_topics()\n"
      ],
      "metadata": {
        "id": "-H1b565aNpRK",
        "colab": {
          "base_uri": "https://localhost:8080/"
        },
        "outputId": "1e9fc4f4-bff2-4dca-d000-ce099a6fb16f"
      },
      "execution_count": 8,
      "outputs": [
        {
          "output_type": "stream",
          "name": "stderr",
          "text": [
            "2024-03-17 13:12:51,340 - top2vec - INFO - Pre-processing documents for training\n",
            "INFO:top2vec:Pre-processing documents for training\n",
            "2024-03-17 13:12:52,085 - top2vec - INFO - Creating joint document/word embedding\n",
            "INFO:top2vec:Creating joint document/word embedding\n",
            "2024-03-17 13:12:59,032 - top2vec - INFO - Creating lower dimension embedding of documents\n",
            "INFO:top2vec:Creating lower dimension embedding of documents\n",
            "2024-03-17 13:13:09,080 - top2vec - INFO - Finding dense areas of documents\n",
            "INFO:top2vec:Finding dense areas of documents\n",
            "2024-03-17 13:13:09,090 - top2vec - INFO - Finding topics\n",
            "INFO:top2vec:Finding topics\n"
          ]
        }
      ]
    },
    {
      "cell_type": "code",
      "source": [
        "topics"
      ],
      "metadata": {
        "colab": {
          "base_uri": "https://localhost:8080/"
        },
        "id": "wD-dfbBbRogV",
        "outputId": "838ab3e4-1e64-4cdd-fda9-b68c78c08ec2"
      },
      "execution_count": 9,
      "outputs": [
        {
          "output_type": "execute_result",
          "data": {
            "text/plain": [
              "(array([['foreign', 'rights', 'present', 'administration', 'influence',\n",
              "         'however', 'may', 'duties', 'interest', 'powers', 'countrymen',\n",
              "         'which', 'duty', 'interests', 'general', 'civil', 'necessary',\n",
              "         'subject', 'support', 'state', 'principle', 'any', 'important',\n",
              "         'executive', 'governments', 'being', 'should', 'domestic',\n",
              "         'public', 'states', 'policy', 'proper', 'part', 'constitutional',\n",
              "         'congress', 'best', 'might', 'political', 'confidence', 'course',\n",
              "         'the', 'by', 'constitution', 'some', 'since', 'ought', 'could',\n",
              "         'within', 'citizens', 'such'],\n",
              "        ['know', 'strong', 'life', 'live', 'today', 'america', 'together',\n",
              "         'opportunity', 'old', 'because', 'we', 'future', 'lives', 'way',\n",
              "         'god', 'work', 'come', 'ourselves', 'need', 'help', 'things',\n",
              "         'children', 'strength', 'better', 'new', 'nation', 'through',\n",
              "         'americans', 'before', 'day', 'believe', 'democracy', 'do',\n",
              "         'where', 'hope', 'again', 'what', 'here', 'us', 'history', 'men',\n",
              "         'like', 'see', 'let', 'earth', 'freedom', 'world', 'done',\n",
              "         'stand', 'another']], dtype='<U14'),\n",
              " array([[0.9313469 , 0.91067517, 0.9089741 , 0.89741224, 0.88845366,\n",
              "         0.88034326, 0.88008165, 0.8764037 , 0.8746251 , 0.8738826 ,\n",
              "         0.87111896, 0.870796  , 0.8707085 , 0.85961837, 0.8583416 ,\n",
              "         0.85777974, 0.8555518 , 0.8550557 , 0.85384315, 0.85183066,\n",
              "         0.85058856, 0.8503493 , 0.84887147, 0.8461163 , 0.8438156 ,\n",
              "         0.8422529 , 0.83299947, 0.8315049 , 0.8311606 , 0.82658255,\n",
              "         0.8256583 , 0.824267  , 0.82027   , 0.81674194, 0.8163791 ,\n",
              "         0.807139  , 0.8057566 , 0.80508137, 0.8047357 , 0.80350703,\n",
              "         0.803134  , 0.8030847 , 0.79884434, 0.7974495 , 0.7949891 ,\n",
              "         0.79449594, 0.7942531 , 0.79322374, 0.7911177 , 0.79010004],\n",
              "        [0.94976926, 0.9288221 , 0.9191297 , 0.9116039 , 0.9094743 ,\n",
              "         0.8927298 , 0.8920554 , 0.89173234, 0.89152724, 0.89132714,\n",
              "         0.8856219 , 0.88525385, 0.8850285 , 0.88307625, 0.87952644,\n",
              "         0.878413  , 0.87320745, 0.86846256, 0.86820805, 0.8601691 ,\n",
              "         0.85638225, 0.8426871 , 0.8425094 , 0.836155  , 0.83458173,\n",
              "         0.8325877 , 0.83237976, 0.8284534 , 0.8281273 , 0.8270006 ,\n",
              "         0.82696575, 0.82552654, 0.82428294, 0.8221677 , 0.82166386,\n",
              "         0.8164565 , 0.8150219 , 0.81486696, 0.81190264, 0.8115087 ,\n",
              "         0.80516416, 0.80491364, 0.804665  , 0.80348694, 0.79395425,\n",
              "         0.7936327 , 0.7928497 , 0.7911157 , 0.790324  , 0.788153  ]],\n",
              "       dtype=float32),\n",
              " array([0, 1]))"
            ]
          },
          "metadata": {},
          "execution_count": 9
        }
      ]
    },
    {
      "cell_type": "code",
      "source": [
        "len(topics)"
      ],
      "metadata": {
        "id": "0BAHA5rFtEGJ",
        "colab": {
          "base_uri": "https://localhost:8080/"
        },
        "outputId": "b4f81cdf-a83b-46e4-ff83-d4edf063aa4b"
      },
      "execution_count": 10,
      "outputs": [
        {
          "output_type": "execute_result",
          "data": {
            "text/plain": [
              "3"
            ]
          },
          "metadata": {},
          "execution_count": 10
        }
      ]
    },
    {
      "cell_type": "code",
      "source": [
        "topics[0][0]"
      ],
      "metadata": {
        "id": "y7-3WH85ZZzR",
        "colab": {
          "base_uri": "https://localhost:8080/"
        },
        "outputId": "6bd2132e-fcb3-44cb-a88c-49e92f18e990"
      },
      "execution_count": 11,
      "outputs": [
        {
          "output_type": "execute_result",
          "data": {
            "text/plain": [
              "array(['foreign', 'rights', 'present', 'administration', 'influence',\n",
              "       'however', 'may', 'duties', 'interest', 'powers', 'countrymen',\n",
              "       'which', 'duty', 'interests', 'general', 'civil', 'necessary',\n",
              "       'subject', 'support', 'state', 'principle', 'any', 'important',\n",
              "       'executive', 'governments', 'being', 'should', 'domestic',\n",
              "       'public', 'states', 'policy', 'proper', 'part', 'constitutional',\n",
              "       'congress', 'best', 'might', 'political', 'confidence', 'course',\n",
              "       'the', 'by', 'constitution', 'some', 'since', 'ought', 'could',\n",
              "       'within', 'citizens', 'such'], dtype='<U14')"
            ]
          },
          "metadata": {},
          "execution_count": 11
        }
      ]
    },
    {
      "cell_type": "code",
      "source": [
        "topics[0][1]"
      ],
      "metadata": {
        "id": "TktAV3F4Vb7j",
        "outputId": "666dc181-2677-4bb8-9d83-67ff6588bdf7",
        "colab": {
          "base_uri": "https://localhost:8080/"
        }
      },
      "execution_count": 12,
      "outputs": [
        {
          "output_type": "execute_result",
          "data": {
            "text/plain": [
              "array(['know', 'strong', 'life', 'live', 'today', 'america', 'together',\n",
              "       'opportunity', 'old', 'because', 'we', 'future', 'lives', 'way',\n",
              "       'god', 'work', 'come', 'ourselves', 'need', 'help', 'things',\n",
              "       'children', 'strength', 'better', 'new', 'nation', 'through',\n",
              "       'americans', 'before', 'day', 'believe', 'democracy', 'do',\n",
              "       'where', 'hope', 'again', 'what', 'here', 'us', 'history', 'men',\n",
              "       'like', 'see', 'let', 'earth', 'freedom', 'world', 'done', 'stand',\n",
              "       'another'], dtype='<U14')"
            ]
          },
          "metadata": {},
          "execution_count": 12
        }
      ]
    },
    {
      "cell_type": "code",
      "source": [
        "# Assuming 'model' is your trained Top2Vec model and 'keywords' is a list of keywords.\n",
        "keywords = [\"war\", \"liberty\"]\n",
        "documents, document_score, document_ids = model.search_documents_by_keywords(keywords=keywords, num_docs=10)\n",
        "\n",
        "# This will return the top 10 most similar documents to the provided keywords,\n",
        "# their similarity scores, and their IDs within the model.\n"
      ],
      "metadata": {
        "id": "OIeVCfbfXcQs"
      },
      "execution_count": 13,
      "outputs": []
    },
    {
      "cell_type": "code",
      "source": [
        "# Print the results\n",
        "for i in range(len(documents)):\n",
        "    print(f\"Document ID: {document_ids[i]}\")\n",
        "    print(f\"Similarity Score: {document_score[i]}\")\n",
        "    print(f\"Document Content: {documents[i][:20]}...\")  # Print the first 200 characters to get an idea of the document content\n",
        "    print(\"---\")"
      ],
      "metadata": {
        "id": "dkFAaLbkXkw0",
        "outputId": "ae596180-a583-409b-c084-c8e6d2bdce53",
        "colab": {
          "base_uri": "https://localhost:8080/"
        }
      },
      "execution_count": 14,
      "outputs": [
        {
          "output_type": "stream",
          "name": "stdout",
          "text": [
            "Document ID: 45\n",
            "Similarity Score: 0.7773751020431519\n",
            "Document Content: Abraham Lincoln\t1865...\n",
            "---\n",
            "Document ID: 40\n",
            "Similarity Score: 0.7054733633995056\n",
            "Document Content: George Washington\t17...\n",
            "---\n",
            "Document ID: 11\n",
            "Similarity Score: 0.654454231262207\n",
            "Document Content: James A. Garfield\t18...\n",
            "---\n",
            "Document ID: 28\n",
            "Similarity Score: 0.6405376195907593\n",
            "Document Content: James Madison\t1813-0...\n",
            "---\n",
            "Document ID: 56\n",
            "Similarity Score: 0.6266799569129944\n",
            "Document Content: Franklin D. Roosevel...\n",
            "---\n",
            "Document ID: 6\n",
            "Similarity Score: 0.6258646845817566\n",
            "Document Content: Andrew Jackson\t1833-...\n",
            "---\n",
            "Document ID: 9\n",
            "Similarity Score: 0.6185228824615479\n",
            "Document Content: William McKinley\t3/4...\n",
            "---\n",
            "Document ID: 32\n",
            "Similarity Score: 0.61479651927948\n",
            "Document Content: Theodore Roosevelt\t3...\n",
            "---\n",
            "Document ID: 22\n",
            "Similarity Score: 0.6112414002418518\n",
            "Document Content: John Adams\t1797-03-0...\n",
            "---\n",
            "Document ID: 4\n",
            "Similarity Score: 0.5786358714103699\n",
            "Document Content: James Buchanan\t1857-...\n",
            "---\n"
          ]
        }
      ]
    },
    {
      "cell_type": "code",
      "source": [
        "import numpy as np\n",
        "import matplotlib.pyplot as plt\n",
        "import umap.umap_ as umap  # UMAP for dimensionality reduction\n",
        "\n",
        "# Assuming 'model' is your trained Top2Vec model\n",
        "\n",
        "# Retrieve document embeddings from the Top2Vec model\n",
        "document_embeddings = model.document_vectors\n",
        "\n",
        "# Reduce the dimensionality of embeddings to 2D for visualization\n",
        "umap_embeddings = umap.UMAP(n_neighbors=15, n_components=2, metric='cosine').fit_transform(document_embeddings)\n",
        "\n",
        "# Plot the UMAP embeddings\n",
        "plt.figure(figsize=(12, 8))\n",
        "plt.scatter(umap_embeddings[:, 0], umap_embeddings[:, 1], alpha=0.5)\n",
        "plt.title('UMAP projection of Document Embeddings', fontsize=18)\n",
        "plt.xlabel('UMAP dimension 1')\n",
        "plt.ylabel('UMAP dimension 2')\n",
        "plt.show()\n"
      ],
      "metadata": {
        "id": "6JBUIT4CVpBE",
        "outputId": "dcdf84c1-e829-48b5-db12-1b1704b87b1b",
        "colab": {
          "base_uri": "https://localhost:8080/",
          "height": 722
        }
      },
      "execution_count": 15,
      "outputs": [
        {
          "output_type": "display_data",
          "data": {
            "text/plain": [
              "<Figure size 1200x800 with 1 Axes>"
            ],
            "image/png": "[encoded data removed]"
          },
          "metadata": {}
        }
      ]
    },
    {
      "cell_type": "code",
      "source": [],
      "metadata": {
        "id": "fngXrGPUWUOK"
      },
      "execution_count": null,
      "outputs": []
    }
  ]
}