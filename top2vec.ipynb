{
  "nbformat": 4,
  "nbformat_minor": 0,
  "metadata": {
    "colab": {
      "provenance": [],
      "collapsed_sections": [
        "3hbso2-5laXO"
      ],
      "mount_file_id": "1AZk2HS77mMl-mZyKuzIvX4dicurVJ1-p",
      "authorship_tag": "ABX9TyMJKAw89ShfpU4UEoX5DtnP",
      "include_colab_link": true
    },
    "kernelspec": {
      "name": "python3",
      "display_name": "Python 3"
    },
    "language_info": {
      "name": "python"
    }
  },
  "cells": [
    {
      "cell_type": "markdown",
      "metadata": {
        "id": "view-in-github",
        "colab_type": "text"
      },
      "source": [
        "<a href=\"https://colab.research.google.com/github/alex-smith-uwec/CS491/blob/main/top2vec.ipynb\" target=\"_parent\"><img src=\"https://colab.research.google.com/assets/colab-badge.svg\" alt=\"Open In Colab\"/></a>"
      ]
    },
    {
      "cell_type": "code",
      "source": [
        "from google.colab import drive\n",
        "drive.mount('/content/drive')"
      ],
      "metadata": {
        "colab": {
          "base_uri": "https://localhost:8080/"
        },
        "id": "mpRBWeZUE29k",
        "outputId": "8d401cda-928f-4f17-92a0-b3001dc1424a"
      },
      "execution_count": 2,
      "outputs": [
        {
          "output_type": "stream",
          "name": "stdout",
          "text": [
            "Mounted at /content/drive\n"
          ]
        }
      ]
    },
    {
      "cell_type": "code",
      "source": [
        "my_path=\"/content/drive/MyDrive/CS491/Data/US_Inaugural_Addresses\""
      ],
      "metadata": {
        "id": "LbXs0kMoFN3T"
      },
      "execution_count": 3,
      "outputs": []
    },
    {
      "cell_type": "code",
      "source": [
        "import os\n",
        "import string\n",
        "from gensim.models.doc2vec import Doc2Vec, TaggedDocument\n",
        "from nltk.tokenize import word_tokenize\n",
        "from nltk.corpus import stopwords\n",
        "import nltk\n",
        "nltk.download('punkt')\n",
        "\n",
        "nltk.download('stopwords')\n",
        "\n",
        "stop_words = set(stopwords.words('english'))\n",
        "\n",
        "def preprocess_text(text):\n",
        "    # Tokenize text\n",
        "    tokens = word_tokenize(text)\n",
        "    # Convert to lower case\n",
        "    tokens = [word.lower() for word in tokens]\n",
        "    # Remove punctuation from each word\n",
        "    table = str.maketrans('', '', string.punctuation)\n",
        "    stripped = [word.translate(table) for word in tokens]\n",
        "    # Remove remaining tokens that are not alphabetic\n",
        "    words = [word for word in stripped if word.isalpha()]\n",
        "    # Filter out stop words\n",
        "    words = [word for word in words if not word in stop_words]\n",
        "    return words\n"
      ],
      "metadata": {
        "id": "DUdcz9W277Ih",
        "outputId": "13d0af11-b85d-43ed-c91b-79e623b34bcb",
        "colab": {
          "base_uri": "https://localhost:8080/"
        }
      },
      "execution_count": 4,
      "outputs": [
        {
          "output_type": "stream",
          "name": "stderr",
          "text": [
            "[nltk_data] Downloading package punkt to /root/nltk_data...\n",
            "[nltk_data]   Unzipping tokenizers/punkt.zip.\n",
            "[nltk_data] Downloading package stopwords to /root/nltk_data...\n",
            "[nltk_data]   Unzipping corpora/stopwords.zip.\n"
          ]
        }
      ]
    },
    {
      "cell_type": "code",
      "source": [
        "documents = []\n",
        "\n",
        "for file in os.listdir(my_path):\n",
        "    if file.endswith(\".txt\"):\n",
        "        file_path = os.path.join(my_path, file)\n",
        "        with open(file_path, 'r', encoding='utf-8') as f:\n",
        "            content = f.read()\n",
        "            documents.append(content)  # Add the raw content to the documents list\n"
      ],
      "metadata": {
        "id": "7XeqE48FQdNC"
      },
      "execution_count": 5,
      "outputs": []
    },
    {
      "cell_type": "code",
      "source": [
        "!pip install Top2Vec -q"
      ],
      "metadata": {
        "id": "3zjXwbBdQ1xn",
        "outputId": "1fbb8b1d-4568-4b29-c993-5fa6d2188d3c",
        "colab": {
          "base_uri": "https://localhost:8080/"
        }
      },
      "execution_count": 8,
      "outputs": [
        {
          "output_type": "stream",
          "name": "stdout",
          "text": [
            "\u001b[2K     \u001b[90m━━━━━━━━━━━━━━━━━━━━━━━━━━━━━━━━━━━━━━━━\u001b[0m \u001b[32m90.9/90.9 kB\u001b[0m \u001b[31m4.8 MB/s\u001b[0m eta \u001b[36m0:00:00\u001b[0m\n",
            "\u001b[?25h  Preparing metadata (setup.py) ... \u001b[?25l\u001b[?25hdone\n",
            "\u001b[2K     \u001b[90m━━━━━━━━━━━━━━━━━━━━━━━━━━━━━━━━━━━━━━━━\u001b[0m \u001b[32m5.2/5.2 MB\u001b[0m \u001b[31m42.9 MB/s\u001b[0m eta \u001b[36m0:00:00\u001b[0m\n",
            "\u001b[?25h  Installing build dependencies ... \u001b[?25l\u001b[?25hdone\n",
            "  Getting requirements to build wheel ... \u001b[?25l\u001b[?25hdone\n",
            "  Preparing metadata (pyproject.toml) ... \u001b[?25l\u001b[?25hdone\n",
            "\u001b[2K     \u001b[90m━━━━━━━━━━━━━━━━━━━━━━━━━━━━━━━━━━━━━━━━\u001b[0m \u001b[32m55.8/55.8 kB\u001b[0m \u001b[31m5.9 MB/s\u001b[0m eta \u001b[36m0:00:00\u001b[0m\n",
            "\u001b[?25h  Building wheel for hdbscan (pyproject.toml) ... \u001b[?25l\u001b[?25hdone\n",
            "  Building wheel for umap-learn (setup.py) ... \u001b[?25l\u001b[?25hdone\n"
          ]
        }
      ]
    },
    {
      "cell_type": "code",
      "source": [
        "from top2vec import Top2Vec\n",
        "\n",
        "# Assuming 'documents' is a list of text documents you wish to model\n",
        "model = Top2Vec(documents, embedding_model='doc2vec', workers=2)\n",
        "\n",
        "# Now you can use the model to find topics, get topic sizes, etc.\n",
        "topics = model.get_topics()\n"
      ],
      "metadata": {
        "id": "-H1b565aNpRK",
        "outputId": "0f2a07e2-445e-4da7-dca5-ea34bde476b0",
        "colab": {
          "base_uri": "https://localhost:8080/"
        }
      },
      "execution_count": 11,
      "outputs": [
        {
          "output_type": "stream",
          "name": "stderr",
          "text": [
            "2024-03-16 17:18:40,902 - top2vec - INFO - Pre-processing documents for training\n",
            "INFO:top2vec:Pre-processing documents for training\n",
            "2024-03-16 17:18:41,507 - top2vec - INFO - Creating joint document/word embedding\n",
            "INFO:top2vec:Creating joint document/word embedding\n",
            "2024-03-16 17:18:45,810 - top2vec - INFO - Creating lower dimension embedding of documents\n",
            "INFO:top2vec:Creating lower dimension embedding of documents\n",
            "2024-03-16 17:18:56,845 - top2vec - INFO - Finding dense areas of documents\n",
            "INFO:top2vec:Finding dense areas of documents\n",
            "2024-03-16 17:18:56,855 - top2vec - INFO - Finding topics\n",
            "INFO:top2vec:Finding topics\n"
          ]
        }
      ]
    },
    {
      "cell_type": "code",
      "source": [
        "topics"
      ],
      "metadata": {
        "id": "wD-dfbBbRogV",
        "outputId": "9103d358-d837-44ab-9239-31f6b512b1c6",
        "colab": {
          "base_uri": "https://localhost:8080/"
        }
      },
      "execution_count": 13,
      "outputs": [
        {
          "output_type": "execute_result",
          "data": {
            "text/plain": [
              "(array([['foreign', 'duties', 'subject', 'experience', 'public', 'which',\n",
              "         'duty', 'principle', 'interest', 'important', 'within',\n",
              "         'interests', 'should', 'may', 'however', 'proper', 'citizens',\n",
              "         'domestic', 'influence', 'general', 'present', 'under',\n",
              "         'necessary', 'support', 'administration', 'such', 'secure',\n",
              "         'course', 'state', 'trust', 'most', 'constitutional',\n",
              "         'countrymen', 'purposes', 'much', 'congress', 'protection',\n",
              "         'ought', 'be', 'commerce', 'far', 'whose', 'whole',\n",
              "         'institutions', 'might', 'am', 'executive', 'any', 'from', 'the'],\n",
              "        ['lives', 'live', 'know', 'today', 'america', 'together', 'work',\n",
              "         'new', 'we', 'old', 'americans', 'again', 'history', 'earth',\n",
              "         'world', 'strength', 'strong', 'ourselves', 'democracy',\n",
              "         'nation', 'help', 'because', 'always', 'children', 'come',\n",
              "         'need', 'god', 'change', 'way', 'opportunity', 'see', 'us',\n",
              "         'where', 'day', 'freedom', 'better', 'century', 'land', 'what',\n",
              "         'out', 'like', 'stand', 'let', 'find', 'now', 'are', 'each',\n",
              "         'responsibility', 'human', 'faith']], dtype='<U14'),\n",
              " array([[0.92620176, 0.9123418 , 0.9072422 , 0.90372133, 0.90294343,\n",
              "         0.8953574 , 0.88990134, 0.8851982 , 0.88429046, 0.88002414,\n",
              "         0.87882686, 0.87608594, 0.87414   , 0.8722794 , 0.86905223,\n",
              "         0.86879283, 0.86859757, 0.8653163 , 0.86474526, 0.8620655 ,\n",
              "         0.85850656, 0.85838455, 0.85465395, 0.8483456 , 0.84753126,\n",
              "         0.845695  , 0.84323305, 0.8414022 , 0.8402816 , 0.83925563,\n",
              "         0.83901966, 0.83781   , 0.8376827 , 0.83690786, 0.83279365,\n",
              "         0.8320729 , 0.83183306, 0.828191  , 0.82782406, 0.82612866,\n",
              "         0.8244263 , 0.8222633 , 0.82115906, 0.81974304, 0.81941867,\n",
              "         0.81710637, 0.81689745, 0.81633216, 0.8135984 , 0.8131812 ],\n",
              "        [0.94740313, 0.942842  , 0.92995524, 0.92923516, 0.9263558 ,\n",
              "         0.9193299 , 0.9164484 , 0.90877944, 0.9061936 , 0.89599836,\n",
              "         0.89239377, 0.8910995 , 0.89024043, 0.8897146 , 0.8850823 ,\n",
              "         0.88491595, 0.8809052 , 0.8805892 , 0.87479734, 0.86906916,\n",
              "         0.8672274 , 0.86419505, 0.85570496, 0.8548542 , 0.8543293 ,\n",
              "         0.8526627 , 0.85066515, 0.85025203, 0.8461413 , 0.845178  ,\n",
              "         0.842551  , 0.8388113 , 0.8379409 , 0.8349078 , 0.8326497 ,\n",
              "         0.8317791 , 0.8303404 , 0.8300994 , 0.8300573 , 0.82732373,\n",
              "         0.8174263 , 0.81562865, 0.81338614, 0.8122825 , 0.81214714,\n",
              "         0.8102456 , 0.8070268 , 0.8065559 , 0.80149835, 0.79961264]],\n",
              "       dtype=float32),\n",
              " array([0, 1]))"
            ]
          },
          "metadata": {},
          "execution_count": 13
        }
      ]
    },
    {
      "cell_type": "code",
      "source": [],
      "metadata": {
        "id": "0BAHA5rFtEGJ"
      },
      "execution_count": null,
      "outputs": []
    },
    {
      "cell_type": "code",
      "source": [],
      "metadata": {
        "id": "y7-3WH85ZZzR"
      },
      "execution_count": null,
      "outputs": []
    }
  ]
}