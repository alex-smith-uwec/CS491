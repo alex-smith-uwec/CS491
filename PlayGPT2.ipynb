{
  "nbformat": 4,
  "nbformat_minor": 0,
  "metadata": {
    "colab": {
      "provenance": [],
      "authorship_tag": "ABX9TyPx1n3ymHFYOhhpwe9636Ic",
      "include_colab_link": true
    },
    "kernelspec": {
      "name": "python3",
      "display_name": "Python 3"
    },
    "language_info": {
      "name": "python"
    }
  },
  "cells": [
    {
      "cell_type": "markdown",
      "metadata": {
        "id": "view-in-github",
        "colab_type": "text"
      },
      "source": [
        "<a href=\"https://colab.research.google.com/github/alex-smith-uwec/CS491/blob/main/PlayGPT2.ipynb\" target=\"_parent\"><img src=\"https://colab.research.google.com/assets/colab-badge.svg\" alt=\"Open In Colab\"/></a>"
      ]
    },
    {
      "cell_type": "code",
      "source": [
        "!pip install transformers"
      ],
      "metadata": {
        "id": "tF5aJs0IUUCm"
      },
      "execution_count": null,
      "outputs": []
    },
    {
      "cell_type": "code",
      "source": [
        "from transformers import pipeline, set_seed"
      ],
      "metadata": {
        "id": "dn0Zz8Qha3QH"
      },
      "execution_count": 4,
      "outputs": []
    },
    {
      "cell_type": "code",
      "source": [
        "# generator = pipeline('text-generation', model='nealtao/gpt2-chinese-scifi')\n",
        "generator = pipeline('text-generation', model='gpt2')\n",
        "\n",
        "set_seed(42)"
      ],
      "metadata": {
        "id": "9oGHj4hTa_F6"
      },
      "execution_count": 19,
      "outputs": []
    },
    {
      "cell_type": "code",
      "source": [
        "#  generator(\"你好,\", max_length=30, num_return_sequences=5)"
      ],
      "metadata": {
        "id": "VnU-sa2pbVwz",
        "colab": {
          "base_uri": "https://localhost:8080/"
        },
        "outputId": "4e8bf91b-b32f-4a11-eb6b-5759e4771b7f"
      },
      "execution_count": 13,
      "outputs": [
        {
          "output_type": "stream",
          "name": "stderr",
          "text": [
            "Setting `pad_token_id` to `eos_token_id`:50256 for open-end generation.\n"
          ]
        },
        {
          "output_type": "execute_result",
          "data": {
            "text/plain": [
              "[{'generated_text': '你好, 我 想 和 你 讲 话 。 我 希 望 你 能 和 我 讲 话 在 我 的 世 界 里 ， 她'},\n",
              " {'generated_text': '你好, 但 是 为 什 么 我 会 这 样 打 断 你 呢 。 他 对 着 地 板 笑 了 笑 ， 把 胳 膊'},\n",
              " {'generated_text': '你好, 一 个 人 在 这 儿 ， 不 过 这 次 我 和 你 一 起 出 去 。 他 走 进 你 的 房 间 ，'},\n",
              " {'generated_text': '你好, 我 知 道 ， 先 前 一 个 好 男 人 已 经 给 了 我 安 全 感 的 事 。 但 是 现 在 已'},\n",
              " {'generated_text': '你好, 哈 蒙 德 ・ 弗 洛 伊 德 就 是 这 样 。 我 们 很 快 就 见 面 了 ， 他 是 个 人 ，'}]"
            ]
          },
          "metadata": {},
          "execution_count": 13
        }
      ]
    },
    {
      "cell_type": "code",
      "source": [
        "generator(\"My green cards\", max_length=10, num_return_sequences=5)"
      ],
      "metadata": {
        "colab": {
          "base_uri": "https://localhost:8080/"
        },
        "id": "86WP0GVdu7Li",
        "outputId": "28918734-51ba-4248-f0fa-85b384b3cc9a"
      },
      "execution_count": 20,
      "outputs": [
        {
          "output_type": "stream",
          "name": "stderr",
          "text": [
            "Setting `pad_token_id` to `eos_token_id`:50256 for open-end generation.\n"
          ]
        },
        {
          "output_type": "execute_result",
          "data": {
            "text/plain": [
              "[{'generated_text': 'My green cards are only one way you can deal'},\n",
              " {'generated_text': 'My green cards may be good or bad and sometimes'},\n",
              " {'generated_text': 'My green cards are green! Green! Green!'},\n",
              " {'generated_text': 'My green cards, and my red cards.\\n'},\n",
              " {'generated_text': 'My green cards were so obvious to most in the'}]"
            ]
          },
          "metadata": {},
          "execution_count": 20
        }
      ]
    },
    {
      "cell_type": "code",
      "source": [],
      "metadata": {
        "id": "FUwAk7ZUu7lA"
      },
      "execution_count": null,
      "outputs": []
    }
  ]
}