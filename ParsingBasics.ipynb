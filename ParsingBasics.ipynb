{
  "nbformat": 4,
  "nbformat_minor": 0,
  "metadata": {
    "colab": {
      "provenance": [],
      "collapsed_sections": [
        "t5WbWUmcB1A_",
        "8ZHXr_x28KMF",
        "wSC1oXA19Mda"
      ],
      "authorship_tag": "ABX9TyOOpKdpwBj91ex0hpcLHbmA",
      "include_colab_link": true
    },
    "kernelspec": {
      "name": "python3",
      "display_name": "Python 3"
    },
    "language_info": {
      "name": "python"
    }
  },
  "cells": [
    {
      "cell_type": "markdown",
      "metadata": {
        "id": "view-in-github",
        "colab_type": "text"
      },
      "source": [
        "<a href=\"https://colab.research.google.com/github/alex-smith-uwec/CS491/blob/main/ParsingBasics.ipynb\" target=\"_parent\"><img src=\"https://colab.research.google.com/assets/colab-badge.svg\" alt=\"Open In Colab\"/></a>"
      ]
    },
    {
      "cell_type": "markdown",
      "source": [
        "# Initialize things"
      ],
      "metadata": {
        "id": "t5WbWUmcB1A_"
      }
    },
    {
      "cell_type": "code",
      "execution_count": 1,
      "metadata": {
        "colab": {
          "base_uri": "https://localhost:8080/"
        },
        "id": "4FyUaGuo4MsF",
        "outputId": "14501a5e-cdd1-4f18-b00f-120f634335a0"
      },
      "outputs": [
        {
          "output_type": "stream",
          "name": "stderr",
          "text": [
            "[nltk_data] Downloading package punkt to /root/nltk_data...\n",
            "[nltk_data]   Unzipping tokenizers/punkt.zip.\n"
          ]
        }
      ],
      "source": [
        "import nltk\n",
        "from nltk.tokenize import sent_tokenize\n",
        "nltk.download('punkt')\n",
        "\n",
        "import graphviz"
      ]
    },
    {
      "cell_type": "code",
      "source": [
        "nltk.download('averaged_perceptron_tagger')"
      ],
      "metadata": {
        "colab": {
          "base_uri": "https://localhost:8080/"
        },
        "id": "6YM5N09l4QOg",
        "outputId": "adc23202-3836-4a2a-ef60-7654c9347cc9"
      },
      "execution_count": 2,
      "outputs": [
        {
          "output_type": "stream",
          "name": "stderr",
          "text": [
            "[nltk_data] Downloading package averaged_perceptron_tagger to\n",
            "[nltk_data]     /root/nltk_data...\n",
            "[nltk_data]   Unzipping taggers/averaged_perceptron_tagger.zip.\n"
          ]
        },
        {
          "output_type": "execute_result",
          "data": {
            "text/plain": [
              "True"
            ]
          },
          "metadata": {},
          "execution_count": 2
        }
      ]
    },
    {
      "cell_type": "code",
      "source": [
        "# Function to convert NLTK tree to graphviz source\n",
        "def to_graphviz(tree):\n",
        "    dot = graphviz.Digraph(comment='Parse Tree')\n",
        "\n",
        "    def add_nodes_edges(tree, dot, parent_index=None, index=0):\n",
        "        node_index = index\n",
        "        if isinstance(tree, nltk.Tree):\n",
        "            node_label = tree.label()\n",
        "            dot.node(str(node_index), node_label)\n",
        "            if parent_index is not None:\n",
        "                dot.edge(str(parent_index), str(node_index))\n",
        "            for child in tree:\n",
        "                index += 1\n",
        "                index = add_nodes_edges(child, dot, node_index, index)\n",
        "        else:\n",
        "            # Leaf node\n",
        "            dot.node(str(index), str(tree))\n",
        "            if parent_index is not None:\n",
        "                dot.edge(str(parent_index), str(index))\n",
        "        return index\n",
        "\n",
        "    add_nodes_edges(tree, dot)\n",
        "    return dot\n",
        "\n",
        "\n",
        "# Convert tree to graphviz source and display\n",
        "\n"
      ],
      "metadata": {
        "id": "hsXp8ZgC5-vf"
      },
      "execution_count": 3,
      "outputs": []
    },
    {
      "cell_type": "markdown",
      "source": [
        "# sentences and grammars: chunking\n"
      ],
      "metadata": {
        "id": "OfRYU89CB8-u"
      }
    },
    {
      "cell_type": "code",
      "source": [
        "# Some possible grammars to create parse tree\n",
        "# grammar=\" \" #empty grammar\n",
        "# grammar = \"NP: {<JJ><NN>}\"\n",
        "# grammar = \"NP: {<DT>?<JJ>*<NN>}\"\n",
        "\n",
        "grammar = \"\"\"\n",
        "    NP: {<DT>?<JJ>*<NN>}                      # Noun Phrase\n",
        "    VP: {<VB.*><NP|PP>+}                      # Verb Phrase\n",
        "    PP: {<IN><NP>}                            # Prepositional Phrase\n",
        "    ADJP: {<RB>*<JJ>}                         # Adjective Phrase\n",
        "    CS: {<NP><VP><CC><NP><VP>}                # Compound Sentence\n",
        "    NER: {<NNP>+}                             # Named Entity Recognition\n",
        "\"\"\"\n",
        "\n",
        "parser = nltk.RegexpParser(grammar)"
      ],
      "metadata": {
        "id": "DusXhKnN5P8W"
      },
      "execution_count": 9,
      "outputs": []
    },
    {
      "cell_type": "code",
      "source": [
        "# Menu of sentences to be tagged #\n",
        "sentence=\"See Spot run.\"\n",
        "# sentence=\"The quick brown fox jumped over the lazy dog.\"\n",
        " #sentence = \"At eight o'clock on Thursday morning Arthur didn't feel very good.\"\n",
        "# sentence='They can fish.'\n",
        "# sentence='Flying planes can be dangerous'\n",
        "print(sentence)"
      ],
      "metadata": {
        "colab": {
          "base_uri": "https://localhost:8080/"
        },
        "id": "47yaMnLL4iDg",
        "outputId": "7016f328-e6f0-4650-aa5a-9032a83c3114"
      },
      "execution_count": 33,
      "outputs": [
        {
          "output_type": "stream",
          "name": "stdout",
          "text": [
            "See Spot run.\n"
          ]
        }
      ]
    },
    {
      "cell_type": "code",
      "source": [
        "#  Tokenizing and tagging\n",
        "tokens = nltk.word_tokenize(sentence)\n",
        "tagged = nltk.pos_tag(tokens)\n",
        "print(f'tokens are {tokens}')\n",
        "print(f'POS tags are {tagged}')"
      ],
      "metadata": {
        "colab": {
          "base_uri": "https://localhost:8080/"
        },
        "id": "j0qrh3ui5AKw",
        "outputId": "42f5f814-8b82-4241-bcdd-725921e0a3f2"
      },
      "execution_count": 34,
      "outputs": [
        {
          "output_type": "stream",
          "name": "stdout",
          "text": [
            "tokens are ['See', 'Spot', 'run', '.']\n",
            "POS tags are [('See', 'VB'), ('Spot', 'NNP'), ('run', 'VB'), ('.', '.')]\n"
          ]
        }
      ]
    },
    {
      "cell_type": "code",
      "source": [
        "# Create tree\n",
        "tree = parser.parse(tagged)\n",
        "print(tree)"
      ],
      "metadata": {
        "colab": {
          "base_uri": "https://localhost:8080/"
        },
        "id": "ZffIRqiE56Yw",
        "outputId": "8a87a514-2047-4809-de6b-962926edf506"
      },
      "execution_count": 35,
      "outputs": [
        {
          "output_type": "stream",
          "name": "stdout",
          "text": [
            "(S See/VB (NER Spot/NNP) run/VB ./.)\n"
          ]
        }
      ]
    },
    {
      "cell_type": "code",
      "source": [
        "dot_source = to_graphviz(tree)\n",
        "display(dot_source)"
      ],
      "metadata": {
        "colab": {
          "base_uri": "https://localhost:8080/",
          "height": 389
        },
        "id": "pHIIyL9dDYyF",
        "outputId": "d1393217-0861-4b13-d09f-ce3c06dfac51"
      },
      "execution_count": 30,
      "outputs": [
        {
          "output_type": "display_data",
          "data": {
            "image/svg+xml": "<?xml version=\"1.0\" encoding=\"UTF-8\" standalone=\"no\"?>\n<!DOCTYPE svg PUBLIC \"-//W3C//DTD SVG 1.1//EN\"\n \"http://www.w3.org/Graphics/SVG/1.1/DTD/svg11.dtd\">\n<!-- Generated by graphviz version 2.43.0 (0)\n -->\n<!-- Title: %3 Pages: 1 -->\n<svg width=\"871pt\" height=\"260pt\"\n viewBox=\"0.00 0.00 870.94 260.00\" xmlns=\"http://www.w3.org/2000/svg\" xmlns:xlink=\"http://www.w3.org/1999/xlink\">\n<g id=\"graph0\" class=\"graph\" transform=\"scale(1 1) rotate(0) translate(4 256)\">\n<title>%3</title>\n<polygon fill=\"white\" stroke=\"transparent\" points=\"-4,4 -4,-256 866.94,-256 866.94,4 -4,4\"/>\n<!-- 0 -->\n<g id=\"node1\" class=\"node\">\n<title>0</title>\n<ellipse fill=\"none\" stroke=\"black\" cx=\"514.65\" cy=\"-234\" rx=\"27\" ry=\"18\"/>\n<text text-anchor=\"middle\" x=\"514.65\" y=\"-230.3\" font-family=\"Times,serif\" font-size=\"14.00\">S</text>\n</g>\n<!-- 1 -->\n<g id=\"node2\" class=\"node\">\n<title>1</title>\n<ellipse fill=\"none\" stroke=\"black\" cx=\"271.65\" cy=\"-162\" rx=\"27\" ry=\"18\"/>\n<text text-anchor=\"middle\" x=\"271.65\" y=\"-158.3\" font-family=\"Times,serif\" font-size=\"14.00\">NP</text>\n</g>\n<!-- 0&#45;&gt;1 -->\n<g id=\"edge1\" class=\"edge\">\n<title>0&#45;&gt;1</title>\n<path fill=\"none\" stroke=\"black\" d=\"M490.01,-225.9C446.32,-213.32 355.23,-187.08 305.62,-172.79\"/>\n<polygon fill=\"black\" stroke=\"black\" points=\"306.56,-169.42 295.99,-170.01 304.63,-176.14 306.56,-169.42\"/>\n</g>\n<!-- 5 -->\n<g id=\"node6\" class=\"node\">\n<title>5</title>\n<ellipse fill=\"none\" stroke=\"black\" cx=\"396.65\" cy=\"-162\" rx=\"27\" ry=\"18\"/>\n<text text-anchor=\"middle\" x=\"396.65\" y=\"-158.3\" font-family=\"Times,serif\" font-size=\"14.00\">NP</text>\n</g>\n<!-- 0&#45;&gt;5 -->\n<g id=\"edge5\" class=\"edge\">\n<title>0&#45;&gt;5</title>\n<path fill=\"none\" stroke=\"black\" d=\"M495.16,-221.44C476.03,-210.09 446.64,-192.66 424.94,-179.78\"/>\n<polygon fill=\"black\" stroke=\"black\" points=\"426.55,-176.67 416.16,-174.58 422.97,-182.69 426.55,-176.67\"/>\n</g>\n<!-- 7 -->\n<g id=\"node8\" class=\"node\">\n<title>7</title>\n<ellipse fill=\"none\" stroke=\"black\" cx=\"514.65\" cy=\"-162\" rx=\"72.59\" ry=\"18\"/>\n<text text-anchor=\"middle\" x=\"514.65\" y=\"-158.3\" font-family=\"Times,serif\" font-size=\"14.00\">(&#39;jumped&#39;, &#39;VBD&#39;)</text>\n</g>\n<!-- 0&#45;&gt;7 -->\n<g id=\"edge7\" class=\"edge\">\n<title>0&#45;&gt;7</title>\n<path fill=\"none\" stroke=\"black\" d=\"M514.65,-215.7C514.65,-207.98 514.65,-198.71 514.65,-190.11\"/>\n<polygon fill=\"black\" stroke=\"black\" points=\"518.15,-190.1 514.65,-180.1 511.15,-190.1 518.15,-190.1\"/>\n</g>\n<!-- 8 -->\n<g id=\"node9\" class=\"node\">\n<title>8</title>\n<ellipse fill=\"none\" stroke=\"black\" cx=\"632.65\" cy=\"-162\" rx=\"27\" ry=\"18\"/>\n<text text-anchor=\"middle\" x=\"632.65\" y=\"-158.3\" font-family=\"Times,serif\" font-size=\"14.00\">PP</text>\n</g>\n<!-- 0&#45;&gt;8 -->\n<g id=\"edge8\" class=\"edge\">\n<title>0&#45;&gt;8</title>\n<path fill=\"none\" stroke=\"black\" d=\"M534.13,-221.44C553.26,-210.09 582.65,-192.66 604.35,-179.78\"/>\n<polygon fill=\"black\" stroke=\"black\" points=\"606.32,-182.69 613.13,-174.58 602.74,-176.67 606.32,-182.69\"/>\n</g>\n<!-- 14 -->\n<g id=\"node15\" class=\"node\">\n<title>14</title>\n<ellipse fill=\"none\" stroke=\"black\" cx=\"709.65\" cy=\"-162\" rx=\"32.49\" ry=\"18\"/>\n<text text-anchor=\"middle\" x=\"709.65\" y=\"-158.3\" font-family=\"Times,serif\" font-size=\"14.00\">(&#39;.&#39;, &#39;.&#39;)</text>\n</g>\n<!-- 0&#45;&gt;14 -->\n<g id=\"edge14\" class=\"edge\">\n<title>0&#45;&gt;14</title>\n<path fill=\"none\" stroke=\"black\" d=\"M538.55,-225.28C568.97,-215.34 623.04,-197.29 668.65,-180 670.75,-179.2 672.91,-178.36 675.09,-177.5\"/>\n<polygon fill=\"black\" stroke=\"black\" points=\"676.62,-180.66 684.59,-173.68 674.01,-174.17 676.62,-180.66\"/>\n</g>\n<!-- 2 -->\n<g id=\"node3\" class=\"node\">\n<title>2</title>\n<ellipse fill=\"none\" stroke=\"black\" cx=\"52.65\" cy=\"-90\" rx=\"52.79\" ry=\"18\"/>\n<text text-anchor=\"middle\" x=\"52.65\" y=\"-86.3\" font-family=\"Times,serif\" font-size=\"14.00\">(&#39;The&#39;, &#39;DT&#39;)</text>\n</g>\n<!-- 1&#45;&gt;2 -->\n<g id=\"edge2\" class=\"edge\">\n<title>1&#45;&gt;2</title>\n<path fill=\"none\" stroke=\"black\" d=\"M247.79,-153.38C212.37,-142.05 145.14,-120.57 99.62,-106.01\"/>\n<polygon fill=\"black\" stroke=\"black\" points=\"100.56,-102.64 89.97,-102.93 98.42,-109.31 100.56,-102.64\"/>\n</g>\n<!-- 3 -->\n<g id=\"node4\" class=\"node\">\n<title>3</title>\n<ellipse fill=\"none\" stroke=\"black\" cx=\"177.65\" cy=\"-90\" rx=\"53.89\" ry=\"18\"/>\n<text text-anchor=\"middle\" x=\"177.65\" y=\"-86.3\" font-family=\"Times,serif\" font-size=\"14.00\">(&#39;quick&#39;, &#39;JJ&#39;)</text>\n</g>\n<!-- 1&#45;&gt;3 -->\n<g id=\"edge3\" class=\"edge\">\n<title>1&#45;&gt;3</title>\n<path fill=\"none\" stroke=\"black\" d=\"M253.96,-147.83C240.77,-138.01 222.45,-124.36 207.06,-112.91\"/>\n<polygon fill=\"black\" stroke=\"black\" points=\"208.98,-109.97 198.87,-106.8 204.8,-115.58 208.98,-109.97\"/>\n</g>\n<!-- 4 -->\n<g id=\"node5\" class=\"node\">\n<title>4</title>\n<ellipse fill=\"none\" stroke=\"black\" cx=\"311.65\" cy=\"-90\" rx=\"62.29\" ry=\"18\"/>\n<text text-anchor=\"middle\" x=\"311.65\" y=\"-86.3\" font-family=\"Times,serif\" font-size=\"14.00\">(&#39;brown&#39;, &#39;NN&#39;)</text>\n</g>\n<!-- 1&#45;&gt;4 -->\n<g id=\"edge4\" class=\"edge\">\n<title>1&#45;&gt;4</title>\n<path fill=\"none\" stroke=\"black\" d=\"M280.92,-144.76C285.63,-136.53 291.46,-126.32 296.78,-117.02\"/>\n<polygon fill=\"black\" stroke=\"black\" points=\"299.94,-118.54 301.86,-108.12 293.86,-115.07 299.94,-118.54\"/>\n</g>\n<!-- 6 -->\n<g id=\"node7\" class=\"node\">\n<title>6</title>\n<ellipse fill=\"none\" stroke=\"black\" cx=\"443.65\" cy=\"-90\" rx=\"51.99\" ry=\"18\"/>\n<text text-anchor=\"middle\" x=\"443.65\" y=\"-86.3\" font-family=\"Times,serif\" font-size=\"14.00\">(&#39;fox&#39;, &#39;NN&#39;)</text>\n</g>\n<!-- 5&#45;&gt;6 -->\n<g id=\"edge6\" class=\"edge\">\n<title>5&#45;&gt;6</title>\n<path fill=\"none\" stroke=\"black\" d=\"M407.31,-145.12C413.03,-136.59 420.22,-125.89 426.69,-116.25\"/>\n<polygon fill=\"black\" stroke=\"black\" points=\"429.7,-118.05 432.37,-107.8 423.89,-114.15 429.7,-118.05\"/>\n</g>\n<!-- 9 -->\n<g id=\"node10\" class=\"node\">\n<title>9</title>\n<ellipse fill=\"none\" stroke=\"black\" cx=\"592.65\" cy=\"-90\" rx=\"51.99\" ry=\"18\"/>\n<text text-anchor=\"middle\" x=\"592.65\" y=\"-86.3\" font-family=\"Times,serif\" font-size=\"14.00\">(&#39;over&#39;, &#39;IN&#39;)</text>\n</g>\n<!-- 8&#45;&gt;9 -->\n<g id=\"edge9\" class=\"edge\">\n<title>8&#45;&gt;9</title>\n<path fill=\"none\" stroke=\"black\" d=\"M623.37,-144.76C618.66,-136.53 612.83,-126.32 607.51,-117.02\"/>\n<polygon fill=\"black\" stroke=\"black\" points=\"610.43,-115.07 602.43,-108.12 604.35,-118.54 610.43,-115.07\"/>\n</g>\n<!-- 10 -->\n<g id=\"node11\" class=\"node\">\n<title>10</title>\n<ellipse fill=\"none\" stroke=\"black\" cx=\"689.65\" cy=\"-90\" rx=\"27\" ry=\"18\"/>\n<text text-anchor=\"middle\" x=\"689.65\" y=\"-86.3\" font-family=\"Times,serif\" font-size=\"14.00\">NP</text>\n</g>\n<!-- 8&#45;&gt;10 -->\n<g id=\"edge10\" class=\"edge\">\n<title>8&#45;&gt;10</title>\n<path fill=\"none\" stroke=\"black\" d=\"M645.01,-145.81C652.56,-136.55 662.35,-124.52 670.84,-114.09\"/>\n<polygon fill=\"black\" stroke=\"black\" points=\"673.7,-116.12 677.3,-106.16 668.27,-111.7 673.7,-116.12\"/>\n</g>\n<!-- 11 -->\n<g id=\"node12\" class=\"node\">\n<title>11</title>\n<ellipse fill=\"none\" stroke=\"black\" cx=\"572.65\" cy=\"-18\" rx=\"50.09\" ry=\"18\"/>\n<text text-anchor=\"middle\" x=\"572.65\" y=\"-14.3\" font-family=\"Times,serif\" font-size=\"14.00\">(&#39;the&#39;, &#39;DT&#39;)</text>\n</g>\n<!-- 10&#45;&gt;11 -->\n<g id=\"edge11\" class=\"edge\">\n<title>10&#45;&gt;11</title>\n<path fill=\"none\" stroke=\"black\" d=\"M670.06,-77.28C652.72,-66.91 627.03,-51.54 606.39,-39.19\"/>\n<polygon fill=\"black\" stroke=\"black\" points=\"607.98,-36.06 597.6,-33.93 604.38,-42.07 607.98,-36.06\"/>\n</g>\n<!-- 12 -->\n<g id=\"node13\" class=\"node\">\n<title>12</title>\n<ellipse fill=\"none\" stroke=\"black\" cx=\"689.65\" cy=\"-18\" rx=\"48.99\" ry=\"18\"/>\n<text text-anchor=\"middle\" x=\"689.65\" y=\"-14.3\" font-family=\"Times,serif\" font-size=\"14.00\">(&#39;lazy&#39;, &#39;JJ&#39;)</text>\n</g>\n<!-- 10&#45;&gt;12 -->\n<g id=\"edge12\" class=\"edge\">\n<title>10&#45;&gt;12</title>\n<path fill=\"none\" stroke=\"black\" d=\"M689.65,-71.7C689.65,-63.98 689.65,-54.71 689.65,-46.11\"/>\n<polygon fill=\"black\" stroke=\"black\" points=\"693.15,-46.1 689.65,-36.1 686.15,-46.1 693.15,-46.1\"/>\n</g>\n<!-- 13 -->\n<g id=\"node14\" class=\"node\">\n<title>13</title>\n<ellipse fill=\"none\" stroke=\"black\" cx=\"809.65\" cy=\"-18\" rx=\"53.09\" ry=\"18\"/>\n<text text-anchor=\"middle\" x=\"809.65\" y=\"-14.3\" font-family=\"Times,serif\" font-size=\"14.00\">(&#39;dog&#39;, &#39;NN&#39;)</text>\n</g>\n<!-- 10&#45;&gt;13 -->\n<g id=\"edge13\" class=\"edge\">\n<title>10&#45;&gt;13</title>\n<path fill=\"none\" stroke=\"black\" d=\"M709.46,-77.44C727.28,-67.04 753.86,-51.54 775.17,-39.11\"/>\n<polygon fill=\"black\" stroke=\"black\" points=\"777.06,-42.06 783.93,-34 773.53,-36.01 777.06,-42.06\"/>\n</g>\n</g>\n</svg>\n",
            "text/plain": [
              "<graphviz.graphs.Digraph at 0x79cac2eb9300>"
            ]
          },
          "metadata": {}
        }
      ]
    },
    {
      "cell_type": "markdown",
      "source": [
        "# Adjusting \"The quick brown fox jumped over the lazy dog.\"\n",
        "\n",
        "The tagger incorrectly identifies \"brown\" as a noun."
      ],
      "metadata": {
        "id": "8ZHXr_x28KMF"
      }
    },
    {
      "cell_type": "code",
      "source": [
        "# prompt: replace ('brown', 'NN') with  ('brown', 'JJ\") in tagged\n",
        "for i, (word, tag) in enumerate(tagged):\n",
        "  if word == 'brown' and tag == 'NN':\n",
        "    tagged[i] = ('brown', 'JJ')\n",
        "\n",
        "print(tagged)\n"
      ],
      "metadata": {
        "colab": {
          "base_uri": "https://localhost:8080/"
        },
        "id": "grZbwcOo7b_a",
        "outputId": "43980b16-09a7-465b-eeb4-cf02dcdaa776"
      },
      "execution_count": 13,
      "outputs": [
        {
          "output_type": "stream",
          "name": "stdout",
          "text": [
            "[('The', 'DT'), ('quick', 'JJ'), ('brown', 'JJ'), ('fox', 'NN'), ('jumped', 'VBD'), ('over', 'IN'), ('the', 'DT'), ('lazy', 'JJ'), ('dog', 'NN'), ('.', '.')]\n"
          ]
        }
      ]
    },
    {
      "cell_type": "code",
      "source": [
        "tree = parser.parse(tagged)\n",
        "print(tree)"
      ],
      "metadata": {
        "colab": {
          "base_uri": "https://localhost:8080/"
        },
        "id": "npxVt8xMA0Bl",
        "outputId": "ad26916b-b91d-453c-8679-70e06b320628"
      },
      "execution_count": 15,
      "outputs": [
        {
          "output_type": "stream",
          "name": "stdout",
          "text": [
            "(S\n",
            "  (NP The/DT quick/JJ brown/JJ fox/NN)\n",
            "  jumped/VBD\n",
            "  (PP over/IN (NP the/DT lazy/JJ dog/NN))\n",
            "  ./.)\n"
          ]
        }
      ]
    },
    {
      "cell_type": "code",
      "source": [
        "dot_source = to_graphviz(tree)\n",
        "display(dot_source)"
      ],
      "metadata": {
        "id": "yWfow4IwAYgh"
      },
      "execution_count": null,
      "outputs": []
    },
    {
      "cell_type": "markdown",
      "source": [
        "# Adjusting \"They can fish.\""
      ],
      "metadata": {
        "id": "wSC1oXA19Mda"
      }
    },
    {
      "cell_type": "code",
      "source": [
        "# prompt: In tagged replace the POS for \"can\" to be a verb and the POS for \"fish\" to be a noun\n",
        "\n",
        "for i, (word, tag) in enumerate(tagged):\n",
        "  if word == 'can' and tag == 'MD':\n",
        "    tagged[i] = ('can', 'VB')\n",
        "  if word == 'fish' and tag == 'VB':\n",
        "    tagged[i] = ('fish', 'NN')\n",
        "\n",
        "print(tagged)\n"
      ],
      "metadata": {
        "colab": {
          "base_uri": "https://localhost:8080/"
        },
        "id": "YReAf0S59Rz6",
        "outputId": "3a9755db-b508-4205-bbd4-eec01af1b022"
      },
      "execution_count": 20,
      "outputs": [
        {
          "output_type": "stream",
          "name": "stdout",
          "text": [
            "[('They', 'PRP'), ('can', 'VB'), ('fish', 'NN'), ('.', '.')]\n"
          ]
        }
      ]
    },
    {
      "cell_type": "code",
      "source": [
        "#  Create tree\n",
        "tree = parser.parse(tagged)\n",
        "print(tree)"
      ],
      "metadata": {
        "colab": {
          "base_uri": "https://localhost:8080/"
        },
        "id": "XKqZYFYg_Iok",
        "outputId": "5d6bdc75-18ad-4e72-cf0f-0a15e8d52ad2"
      },
      "execution_count": 21,
      "outputs": [
        {
          "output_type": "stream",
          "name": "stdout",
          "text": [
            "(S They/PRP (VP can/VB (NP fish/NN)) ./.)\n"
          ]
        }
      ]
    },
    {
      "cell_type": "code",
      "source": [
        "dot_source = to_graphviz(tree)\n",
        "display(dot_source)"
      ],
      "metadata": {
        "colab": {
          "base_uri": "https://localhost:8080/",
          "height": 389
        },
        "id": "zNhlGcBXC6Wd",
        "outputId": "40156945-3247-489e-87ac-ce9b4cbe99ae"
      },
      "execution_count": 22,
      "outputs": [
        {
          "output_type": "display_data",
          "data": {
            "image/svg+xml": "<?xml version=\"1.0\" encoding=\"UTF-8\" standalone=\"no\"?>\n<!DOCTYPE svg PUBLIC \"-//W3C//DTD SVG 1.1//EN\"\n \"http://www.w3.org/Graphics/SVG/1.1/DTD/svg11.dtd\">\n<!-- Generated by graphviz version 2.43.0 (0)\n -->\n<!-- Title: %3 Pages: 1 -->\n<svg width=\"285pt\" height=\"260pt\"\n viewBox=\"0.00 0.00 284.59 260.00\" xmlns=\"http://www.w3.org/2000/svg\" xmlns:xlink=\"http://www.w3.org/1999/xlink\">\n<g id=\"graph0\" class=\"graph\" transform=\"scale(1 1) rotate(0) translate(4 256)\">\n<title>%3</title>\n<polygon fill=\"white\" stroke=\"transparent\" points=\"-4,4 -4,-256 280.59,-256 280.59,4 -4,4\"/>\n<!-- 0 -->\n<g id=\"node1\" class=\"node\">\n<title>0</title>\n<ellipse fill=\"none\" stroke=\"black\" cx=\"167.09\" cy=\"-234\" rx=\"27\" ry=\"18\"/>\n<text text-anchor=\"middle\" x=\"167.09\" y=\"-230.3\" font-family=\"Times,serif\" font-size=\"14.00\">S</text>\n</g>\n<!-- 1 -->\n<g id=\"node2\" class=\"node\">\n<title>1</title>\n<ellipse fill=\"none\" stroke=\"black\" cx=\"61.09\" cy=\"-162\" rx=\"61.19\" ry=\"18\"/>\n<text text-anchor=\"middle\" x=\"61.09\" y=\"-158.3\" font-family=\"Times,serif\" font-size=\"14.00\">(&#39;They&#39;, &#39;PRP&#39;)</text>\n</g>\n<!-- 0&#45;&gt;1 -->\n<g id=\"edge1\" class=\"edge\">\n<title>0&#45;&gt;1</title>\n<path fill=\"none\" stroke=\"black\" d=\"M148.63,-220.81C133.44,-210.78 111.55,-196.32 93.45,-184.37\"/>\n<polygon fill=\"black\" stroke=\"black\" points=\"95.2,-181.33 84.92,-178.74 91.34,-187.17 95.2,-181.33\"/>\n</g>\n<!-- 2 -->\n<g id=\"node3\" class=\"node\">\n<title>2</title>\n<ellipse fill=\"none\" stroke=\"black\" cx=\"167.09\" cy=\"-162\" rx=\"27\" ry=\"18\"/>\n<text text-anchor=\"middle\" x=\"167.09\" y=\"-158.3\" font-family=\"Times,serif\" font-size=\"14.00\">VP</text>\n</g>\n<!-- 0&#45;&gt;2 -->\n<g id=\"edge2\" class=\"edge\">\n<title>0&#45;&gt;2</title>\n<path fill=\"none\" stroke=\"black\" d=\"M167.09,-215.7C167.09,-207.98 167.09,-198.71 167.09,-190.11\"/>\n<polygon fill=\"black\" stroke=\"black\" points=\"170.59,-190.1 167.09,-180.1 163.59,-190.1 170.59,-190.1\"/>\n</g>\n<!-- 6 -->\n<g id=\"node7\" class=\"node\">\n<title>6</title>\n<ellipse fill=\"none\" stroke=\"black\" cx=\"244.09\" cy=\"-162\" rx=\"32.49\" ry=\"18\"/>\n<text text-anchor=\"middle\" x=\"244.09\" y=\"-158.3\" font-family=\"Times,serif\" font-size=\"14.00\">(&#39;.&#39;, &#39;.&#39;)</text>\n</g>\n<!-- 0&#45;&gt;6 -->\n<g id=\"edge6\" class=\"edge\">\n<title>0&#45;&gt;6</title>\n<path fill=\"none\" stroke=\"black\" d=\"M182.68,-218.83C193.42,-209.07 207.9,-195.9 220.11,-184.8\"/>\n<polygon fill=\"black\" stroke=\"black\" points=\"222.69,-187.19 227.74,-177.87 217.98,-182.01 222.69,-187.19\"/>\n</g>\n<!-- 3 -->\n<g id=\"node4\" class=\"node\">\n<title>3</title>\n<ellipse fill=\"none\" stroke=\"black\" cx=\"119.09\" cy=\"-90\" rx=\"51.99\" ry=\"18\"/>\n<text text-anchor=\"middle\" x=\"119.09\" y=\"-86.3\" font-family=\"Times,serif\" font-size=\"14.00\">(&#39;can&#39;, &#39;VB&#39;)</text>\n</g>\n<!-- 2&#45;&gt;3 -->\n<g id=\"edge3\" class=\"edge\">\n<title>2&#45;&gt;3</title>\n<path fill=\"none\" stroke=\"black\" d=\"M156.2,-145.12C150.36,-136.59 143.02,-125.89 136.41,-116.25\"/>\n<polygon fill=\"black\" stroke=\"black\" points=\"139.15,-114.07 130.61,-107.8 133.38,-118.02 139.15,-114.07\"/>\n</g>\n<!-- 4 -->\n<g id=\"node5\" class=\"node\">\n<title>4</title>\n<ellipse fill=\"none\" stroke=\"black\" cx=\"216.09\" cy=\"-90\" rx=\"27\" ry=\"18\"/>\n<text text-anchor=\"middle\" x=\"216.09\" y=\"-86.3\" font-family=\"Times,serif\" font-size=\"14.00\">NP</text>\n</g>\n<!-- 2&#45;&gt;4 -->\n<g id=\"edge4\" class=\"edge\">\n<title>2&#45;&gt;4</title>\n<path fill=\"none\" stroke=\"black\" d=\"M177.97,-145.46C184.25,-136.49 192.28,-125.02 199.35,-114.92\"/>\n<polygon fill=\"black\" stroke=\"black\" points=\"202.38,-116.69 205.25,-106.49 196.65,-112.68 202.38,-116.69\"/>\n</g>\n<!-- 5 -->\n<g id=\"node6\" class=\"node\">\n<title>5</title>\n<ellipse fill=\"none\" stroke=\"black\" cx=\"216.09\" cy=\"-18\" rx=\"53.09\" ry=\"18\"/>\n<text text-anchor=\"middle\" x=\"216.09\" y=\"-14.3\" font-family=\"Times,serif\" font-size=\"14.00\">(&#39;fish&#39;, &#39;NN&#39;)</text>\n</g>\n<!-- 4&#45;&gt;5 -->\n<g id=\"edge5\" class=\"edge\">\n<title>4&#45;&gt;5</title>\n<path fill=\"none\" stroke=\"black\" d=\"M216.09,-71.7C216.09,-63.98 216.09,-54.71 216.09,-46.11\"/>\n<polygon fill=\"black\" stroke=\"black\" points=\"219.59,-46.1 216.09,-36.1 212.59,-46.1 219.59,-46.1\"/>\n</g>\n</g>\n</svg>\n",
            "text/plain": [
              "<graphviz.graphs.Digraph at 0x79cac2eb91e0>"
            ]
          },
          "metadata": {}
        }
      ]
    }
  ]
}