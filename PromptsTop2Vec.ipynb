{
  "nbformat": 4,
  "nbformat_minor": 0,
  "metadata": {
    "colab": {
      "provenance": [],
      "mount_file_id": "1AZk2HS77mMl-mZyKuzIvX4dicurVJ1-p",
      "authorship_tag": "ABX9TyOC/JILZ6oXEFUu3M2D+ODl",
      "include_colab_link": true
    },
    "kernelspec": {
      "name": "python3",
      "display_name": "Python 3"
    },
    "language_info": {
      "name": "python"
    }
  },
  "cells": [
    {
      "cell_type": "markdown",
      "metadata": {
        "id": "view-in-github",
        "colab_type": "text"
      },
      "source": [
        "<a href=\"https://colab.research.google.com/github/alex-smith-uwec/CS491/blob/main/PromptsTop2Vec.ipynb\" target=\"_parent\"><img src=\"https://colab.research.google.com/assets/colab-badge.svg\" alt=\"Open In Colab\"/></a>"
      ]
    },
    {
      "cell_type": "code",
      "source": [
        "from google.colab import drive\n",
        "drive.mount('/content/drive')\n"
      ],
      "metadata": {
        "id": "9lSHCUhhaBRG"
      },
      "execution_count": null,
      "outputs": []
    },
    {
      "cell_type": "code",
      "source": [
        "my_path=\"/content/drive/MyDrive/CS491/Data/\""
      ],
      "metadata": {
        "id": "Ik4qH1kDlI_J"
      },
      "execution_count": null,
      "outputs": []
    },
    {
      "cell_type": "markdown",
      "source": [
        "# Load dataset from Hugging Face 🤗"
      ],
      "metadata": {
        "id": "GOwS8FZUy3SI"
      }
    },
    {
      "cell_type": "code",
      "source": [
        "!pip install datasets -q"
      ],
      "metadata": {
        "id": "WnJoG-E6dL8I"
      },
      "execution_count": null,
      "outputs": []
    },
    {
      "cell_type": "code",
      "source": [
        "from datasets import load_dataset\n",
        "\n",
        "# Load the dataset\n",
        "dataset = load_dataset(\"DIBT/10k_prompts_ranked\")\n",
        "\n",
        "docs = dataset['train']['prompt']\n",
        "\n"
      ],
      "metadata": {
        "id": "QOq5Y3aHcywz"
      },
      "execution_count": null,
      "outputs": []
    },
    {
      "cell_type": "code",
      "source": [
        "import random\n",
        "print(f'number of prompts in dataset: {len(docs)}\\n')\n",
        "r=random.randint(0, len(docs)-1)\n",
        "print(f'A random entry:\\n {docs[r]}')"
      ],
      "metadata": {
        "id": "0XPmy3T07B2L"
      },
      "execution_count": null,
      "outputs": []
    },
    {
      "cell_type": "markdown",
      "source": [
        "# Train Top2Vec model. Also save and load."
      ],
      "metadata": {
        "id": "CgPBQHE32f8-"
      }
    },
    {
      "cell_type": "code",
      "source": [
        "!pip install top2vec -q"
      ],
      "metadata": {
        "id": "3zjXwbBdQ1xn"
      },
      "execution_count": null,
      "outputs": []
    },
    {
      "cell_type": "markdown",
      "source": [
        "If you have arleady trained a model and saved it, then you can load it with the following prompt and skip the training.\n",
        "\n",
        "❌\n",
        " **Of course the first time through you should skip the next command!**"
      ],
      "metadata": {
        "id": "aD3oiPhp2rbI"
      }
    },
    {
      "cell_type": "code",
      "source": [
        "# Load model\n",
        "import pickle\n",
        "\n",
        "with open(my_path+'prompt_deep_model.pkl', 'rb') as f:\n",
        "    model = pickle.load(f)"
      ],
      "metadata": {
        "id": "PkljM2i40E1x"
      },
      "execution_count": null,
      "outputs": []
    },
    {
      "cell_type": "markdown",
      "source": [
        "The next cell is the work horse, where the model is trained. ⛽: ⏰ It might take some time, so be patient."
      ],
      "metadata": {
        "id": "Kkonizt97r1J"
      }
    },
    {
      "cell_type": "code",
      "source": [
        "##If model is already trained and saved (see section below) then this can be skipped!!\n",
        "from top2vec import Top2Vec\n",
        "\n",
        "# Assuming 'docs' is a list of text documents you wish to model\n",
        "model = Top2Vec(docs, embedding_model='doc2vec', speed='deep-learn')\n",
        "#fast-learn, learn, deep-learn\n"
      ],
      "metadata": {
        "id": "-H1b565aNpRK"
      },
      "execution_count": null,
      "outputs": []
    },
    {
      "cell_type": "markdown",
      "source": [
        "After waiting for the model to be trained, you might consider saving it so that next time you don't have to retrain if you come back to this later! 👍 This is what the next cell does."
      ],
      "metadata": {
        "id": "bIvb3Prp-qJu"
      }
    },
    {
      "cell_type": "code",
      "source": [
        "import pickle\n",
        "\n",
        "# Save model\n",
        "with open(my_path+'prompt_deep_model.pkl', 'wb') as f:\n",
        "    pickle.dump(model, f)"
      ],
      "metadata": {
        "id": "D0FVIAGEXxnh"
      },
      "execution_count": null,
      "outputs": []
    },
    {
      "cell_type": "markdown",
      "source": [
        "# Proceed with topic analysis after retrieving model"
      ],
      "metadata": {
        "id": "2_JUIo_kfJkF"
      }
    },
    {
      "cell_type": "code",
      "source": [
        "model.get_num_topics()"
      ],
      "metadata": {
        "id": "vQEW597BrZxA"
      },
      "execution_count": null,
      "outputs": []
    },
    {
      "cell_type": "code",
      "source": [
        "model.get_topic_sizes()"
      ],
      "metadata": {
        "id": "nkWSkbQCgdfm"
      },
      "execution_count": null,
      "outputs": []
    },
    {
      "cell_type": "markdown",
      "source": [
        "**Question: What do the integers in the first array mean**: ⭕\n",
        "\n",
        "---\n",
        "\n"
      ],
      "metadata": {
        "id": "KmG5C5w_3OXO"
      }
    },
    {
      "cell_type": "markdown",
      "source": [
        "Your Answer:\n",
        "🙂\n",
        "\n",
        "\n",
        "\n"
      ],
      "metadata": {
        "id": "wDaz9_rj3VNY"
      }
    },
    {
      "cell_type": "code",
      "source": [
        "model.topic_words[0:3]"
      ],
      "metadata": {
        "id": "0BAHA5rFtEGJ"
      },
      "execution_count": null,
      "outputs": []
    },
    {
      "cell_type": "markdown",
      "source": [
        "# Documents similar to keywords"
      ],
      "metadata": {
        "id": "P2I4S2WG4ap8"
      }
    },
    {
      "cell_type": "markdown",
      "source": [
        "##Pick some keywords that look interesting in the top 3-4 topics:\n",
        "\n",
        "*   model.topic_words[0]\n",
        "*   model.topic_words[1]\n",
        "*   model.topic_words[2]\n",
        "*   etc."
      ],
      "metadata": {
        "id": "dcdg0QM34jr5"
      }
    },
    {
      "cell_type": "code",
      "source": [
        "# Assuming 'model' is your trained Top2Vec model and 'keywords' is a list of keywords.\n",
        "keywords = [\"function\",\"integer\"]\n",
        "documents, document_score, document_ids = model.search_documents_by_keywords(keywords=keywords, num_docs=5)\n",
        "\n",
        "# This will return the top most similar documents to the provided keywords,\n",
        "# their similarity scores, and their IDs within the model.\n"
      ],
      "metadata": {
        "id": "OIeVCfbfXcQs"
      },
      "execution_count": null,
      "outputs": []
    },
    {
      "cell_type": "code",
      "source": [
        "# Print the results\n",
        "for i in range(len(documents)):\n",
        "    print(f\"Document ID: {document_ids[i]}\")\n",
        "    print(f\"Similarity Score: {document_score[i]}\")\n",
        "    print(f\"Document Content: {documents[i][:200]}...\")  # Print the first 200 characters to get an idea of the document content\n",
        "    print(\"---\")"
      ],
      "metadata": {
        "id": "dkFAaLbkXkw0"
      },
      "execution_count": null,
      "outputs": []
    },
    {
      "cell_type": "markdown",
      "source": [
        "# Topic modeling"
      ],
      "metadata": {
        "id": "CKTIgYjQ5GI7"
      }
    },
    {
      "cell_type": "code",
      "source": [
        "model.generate_topic_wordcloud(0)"
      ],
      "metadata": {
        "id": "9Ta7_LOE2fKg"
      },
      "execution_count": null,
      "outputs": []
    },
    {
      "cell_type": "code",
      "source": [
        "model.generate_topic_wordcloud(1)"
      ],
      "metadata": {
        "id": "vVeKO6zSLK05"
      },
      "execution_count": null,
      "outputs": []
    },
    {
      "cell_type": "code",
      "source": [
        "model.generate_topic_wordcloud(2)"
      ],
      "metadata": {
        "id": "B1WoDC4G2p2u"
      },
      "execution_count": null,
      "outputs": []
    },
    {
      "cell_type": "code",
      "source": [
        "model.generate_topic_wordcloud(3)"
      ],
      "metadata": {
        "id": "ik_dJEkXLwDd"
      },
      "execution_count": null,
      "outputs": []
    },
    {
      "cell_type": "markdown",
      "source": [
        "Look at documents aligning with a topic"
      ],
      "metadata": {
        "id": "MPp6_5XV5Xo0"
      }
    },
    {
      "cell_type": "code",
      "source": [
        "model.search_documents_by_topic(topic_num=0, num_docs=5)"
      ],
      "metadata": {
        "id": "4z_3R4YR2-Vp"
      },
      "execution_count": null,
      "outputs": []
    },
    {
      "cell_type": "markdown",
      "source": [
        "Using the wordclouds, model.search_documents_by_topic, model.topic_words\n",
        "\n",
        "**Give a 2-4 word summary for each of the the top four topics** ⭕"
      ],
      "metadata": {
        "id": "N5aF5jgr5x2v"
      }
    },
    {
      "cell_type": "markdown",
      "source": [
        "Your answers here: 🙂\n"
      ],
      "metadata": {
        "id": "rtCB7W-f6XMg"
      }
    },
    {
      "cell_type": "code",
      "source": [],
      "metadata": {
        "id": "0c2-hpSwMjKb"
      },
      "execution_count": null,
      "outputs": []
    }
  ]
}