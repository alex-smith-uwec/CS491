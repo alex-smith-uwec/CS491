{
  "nbformat": 4,
  "nbformat_minor": 0,
  "metadata": {
    "colab": {
      "provenance": [],
      "authorship_tag": "ABX9TyPy8aMXAtjLZNQE7lgKjKWS",
      "include_colab_link": true
    },
    "kernelspec": {
      "name": "python3",
      "display_name": "Python 3"
    },
    "language_info": {
      "name": "python"
    }
  },
  "cells": [
    {
      "cell_type": "markdown",
      "metadata": {
        "id": "view-in-github",
        "colab_type": "text"
      },
      "source": [
        "<a href=\"https://colab.research.google.com/github/alex-smith-uwec/CS491/blob/main/PlayGemma.ipynb\" target=\"_parent\"><img src=\"https://colab.research.google.com/assets/colab-badge.svg\" alt=\"Open In Colab\"/></a>"
      ]
    },
    {
      "cell_type": "code",
      "execution_count": null,
      "metadata": {
        "colab": {
          "base_uri": "https://localhost:8080/"
        },
        "id": "Z5TZgO4z8Caz",
        "outputId": "1cbc5a59-2ca8-44bd-a8f9-70ee8dd54409"
      },
      "outputs": [
        {
          "output_type": "stream",
          "name": "stdout",
          "text": [
            "Requirement already satisfied: openai in /usr/local/lib/python3.10/dist-packages (1.12.0)\n",
            "Requirement already satisfied: anyio<5,>=3.5.0 in /usr/local/lib/python3.10/dist-packages (from openai) (3.7.1)\n",
            "Requirement already satisfied: distro<2,>=1.7.0 in /usr/lib/python3/dist-packages (from openai) (1.7.0)\n",
            "Requirement already satisfied: httpx<1,>=0.23.0 in /usr/local/lib/python3.10/dist-packages (from openai) (0.27.0)\n",
            "Requirement already satisfied: pydantic<3,>=1.9.0 in /usr/local/lib/python3.10/dist-packages (from openai) (2.6.1)\n",
            "Requirement already satisfied: sniffio in /usr/local/lib/python3.10/dist-packages (from openai) (1.3.0)\n",
            "Requirement already satisfied: tqdm>4 in /usr/local/lib/python3.10/dist-packages (from openai) (4.66.2)\n",
            "Requirement already satisfied: typing-extensions<5,>=4.7 in /usr/local/lib/python3.10/dist-packages (from openai) (4.9.0)\n",
            "Requirement already satisfied: idna>=2.8 in /usr/local/lib/python3.10/dist-packages (from anyio<5,>=3.5.0->openai) (3.6)\n",
            "Requirement already satisfied: exceptiongroup in /usr/local/lib/python3.10/dist-packages (from anyio<5,>=3.5.0->openai) (1.2.0)\n",
            "Requirement already satisfied: certifi in /usr/local/lib/python3.10/dist-packages (from httpx<1,>=0.23.0->openai) (2024.2.2)\n",
            "Requirement already satisfied: httpcore==1.* in /usr/local/lib/python3.10/dist-packages (from httpx<1,>=0.23.0->openai) (1.0.4)\n",
            "Requirement already satisfied: h11<0.15,>=0.13 in /usr/local/lib/python3.10/dist-packages (from httpcore==1.*->httpx<1,>=0.23.0->openai) (0.14.0)\n",
            "Requirement already satisfied: annotated-types>=0.4.0 in /usr/local/lib/python3.10/dist-packages (from pydantic<3,>=1.9.0->openai) (0.6.0)\n",
            "Requirement already satisfied: pydantic-core==2.16.2 in /usr/local/lib/python3.10/dist-packages (from pydantic<3,>=1.9.0->openai) (2.16.2)\n"
          ]
        }
      ],
      "source": [
        "!pip install openai\n",
        "from openai import OpenAI\n",
        "\n",
        "# initialize the client but point it to TGI\n",
        "client = OpenAI(\n",
        "  base_url=\"https://api-inference.huggingface.co/v1\",\n",
        "  api_key=\"hf_xxx\" # Replace with your token\n",
        ")\n",
        "\n"
      ]
    },
    {
      "cell_type": "code",
      "source": [
        "chat_completion = client.chat.completions.create(\n",
        "    model=\"google/gemma-7b-it\",\n",
        "    messages=[\n",
        "        {\"role\": \"user\", \"content\": \"Why is open-source software important?\"},\n",
        "    ],\n",
        "    stream=True,\n",
        "    max_tokens=500\n",
        ")\n",
        "\n",
        "# iterate and print stream\n",
        "for message in chat_completion:\n",
        "    print(message.choices[0].delta.content, end=\"\")"
      ],
      "metadata": {
        "colab": {
          "base_uri": "https://localhost:8080/"
        },
        "id": "x56OwQch9Nfd",
        "outputId": "97744544-a352-46db-f32c-684d5a64503f"
      },
      "execution_count": null,
      "outputs": [
        {
          "output_type": "stream",
          "name": "stdout",
          "text": [
            "**Open-source software (OSS)** is important because it offers a number of advantages over proprietary software, including:\n",
            "\n",
            "**1. Collaboration and Community:**\n",
            "- OSS encourages collaboration and contributions from a global community of developers.\n",
            "- This allows for rapid bug fixes, feature enhancements, and code optimization.\n",
            "\n",
            "**2. Cost Savings:**\n",
            "- OSS is typically free to use, modify, and distribute, reducing licensing costs.\n",
            "- Community-driven development often leads to faster bug fixes and lower maintenance fees.\n",
            "\n",
            "**3. Freedom and Flexibility:**\n",
            "- OSS grants users the freedom to modify, extend, and customize the software according to their needs.\n",
            "- This flexibility is invaluable for organizations with unique requirements.\n",
            "\n",
            "**4. Security:**\n",
            "- The open-source community scrutinizes and audits code, which often leads to faster detection and patching of security vulnerabilities.\n",
            "\n",
            "**5. Interoperability:**\n",
            "- OSS is designed to interoperate with other open-source tools and systems, enhancing its integration capabilities.\n",
            "\n",
            "**6. Innovation:**\n",
            "- OSS promotes innovation and creativity through its accessibility and extensibility.\n",
            "- It fosters a culture of continuous improvement and new solutions.\n",
            "\n",
            "**7. Standardization:**\n",
            "- OSS can standardize processes and systems, reducing implementation and integration challenges.\n",
            "\n",
            "**8. Support:**\n",
            "- The OSS community provides a wealth of support resources, including documentation, forums, and code examples.\n",
            "\n",
            "**9. Reduced Barriers to Entry:**\n",
            "- OSS eliminates barriers to entry for startups and small businesses, leveling the playing field against larger corporations.\n",
            "\n",
            "**10. Increasing Adoption:**\n",
            "- The growing popularity and widespread adoption of open-source software are driving its continued growth and innovation.\n",
            "\n",
            "**Conclusion:**\n",
            "\n",
            "Open-source software is important because it fosters collaboration, reduces costs, enhances freedom, promotes security, and enables innovation. It also offers interoperability, standardization, and increased support, making it a valuable asset for individuals and organizations.<eos>"
          ]
        }
      ]
    },
    {
      "cell_type": "code",
      "source": [
        "chat_completion = client.chat.completions.create(\n",
        "    model=\"google/gemma-7b-it\",\n",
        "    messages=[\n",
        "        {\"role\": \"user\", \"content\": \"I like living in Wisconsin because\"},\n",
        "    ],\n",
        "    stream=True,\n",
        "    max_tokens=500\n",
        ")\n",
        "\n",
        "# iterate and print stream\n",
        "for message in chat_completion:\n",
        "    print(message.choices[0].delta.content, end=\"\")"
      ],
      "metadata": {
        "colab": {
          "base_uri": "https://localhost:8080/"
        },
        "id": "QA8J-Duj_P6w",
        "outputId": "fcc527b6-0a68-4405-d1f3-a4415560f305"
      },
      "execution_count": null,
      "outputs": [
        {
          "output_type": "stream",
          "name": "stdout",
          "text": [
            "Sure, here is a hypothetical response to the question:\n",
            "\n",
            "I like living in Wisconsin because it is a beautiful and friendly state. The state is known for its stunning natural scenery, including its many lakes, rivers, and forests. It is also a state with a strong sense of community and tradition. Wisconsinites are proud of their state and its history, and they are always willing to help others. Additionally, Wisconsin is a relatively affordable state to live in, making it a great place to raise a family or start a business.<eos>"
          ]
        }
      ]
    },
    {
      "cell_type": "code",
      "source": [],
      "metadata": {
        "id": "rhXfImDe_VJV"
      },
      "execution_count": null,
      "outputs": []
    }
  ]
}