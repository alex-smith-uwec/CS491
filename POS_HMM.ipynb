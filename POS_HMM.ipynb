{
  "metadata": {
    "kernelspec": {
      "language": "python",
      "display_name": "Python 3",
      "name": "python3"
    },
    "language_info": {
      "pygments_lexer": "ipython3",
      "nbconvert_exporter": "python",
      "version": "3.6.4",
      "file_extension": ".py",
      "codemirror_mode": {
        "name": "ipython",
        "version": 3
      },
      "name": "python",
      "mimetype": "text/x-python"
    },
    "kaggle": {
      "accelerator": "none",
      "dataSources": [],
      "dockerImageVersionId": 29980,
      "isInternetEnabled": false,
      "language": "python",
      "sourceType": "notebook",
      "isGpuEnabled": false
    },
    "colab": {
      "provenance": [],
      "collapsed_sections": [
        "serfRTOd94Ie"
      ],
      "include_colab_link": true
    }
  },
  "nbformat_minor": 0,
  "nbformat": 4,
  "cells": [
    {
      "cell_type": "markdown",
      "metadata": {
        "id": "view-in-github",
        "colab_type": "text"
      },
      "source": [
        "<a href=\"https://colab.research.google.com/github/alex-smith-uwec/CS491/blob/main/POS_HMM.ipynb\" target=\"_parent\"><img src=\"https://colab.research.google.com/assets/colab-badge.svg\" alt=\"Open In Colab\"/></a>"
      ]
    },
    {
      "cell_type": "markdown",
      "source": [
        "The purpose of this notebook is to experiment with part of speech tagging using a Hidden Markov Model and the Viterbi algoritm. We train the algorithm on the Brown Corpus."
      ],
      "metadata": {
        "id": "TCTtC9p02XiC"
      }
    },
    {
      "cell_type": "code",
      "source": [
        "import numpy as np\n",
        "import pandas as pd\n",
        "import nltk\n",
        "\n",
        "nltk.download('brown')\n",
        "from nltk.corpus import brown\n",
        "\n",
        "\n",
        "\n",
        "# Accessing the tagged sentences\n",
        "nltk.download('universal_tagset')\n",
        "\n",
        "brown_tagged_sents = brown.tagged_sents(tagset='universal')\n"
      ],
      "metadata": {
        "_uuid": "8f2839f25d086af736a60e9eeb907d3b93b6e0e5",
        "_cell_guid": "b1076dfc-b9ad-4769-8c92-a6c4dae69d19",
        "trusted": true,
        "colab": {
          "base_uri": "https://localhost:8080/"
        },
        "id": "SL658GqKWMgG",
        "outputId": "6940ee08-f8e6-49cf-f9bc-6a75b9da1f0a"
      },
      "execution_count": null,
      "outputs": [
        {
          "output_type": "stream",
          "name": "stderr",
          "text": [
            "[nltk_data] Downloading package brown to /root/nltk_data...\n",
            "[nltk_data]   Unzipping corpora/brown.zip.\n",
            "[nltk_data] Downloading package universal_tagset to /root/nltk_data...\n",
            "[nltk_data]   Unzipping taggers/universal_tagset.zip.\n"
          ]
        }
      ]
    },
    {
      "cell_type": "code",
      "source": [
        "brown_tagged_sents"
      ],
      "metadata": {
        "colab": {
          "base_uri": "https://localhost:8080/"
        },
        "id": "u4Cprhkd6ny8",
        "outputId": "980377cf-74a8-4e0a-a3c1-d56501492143"
      },
      "execution_count": null,
      "outputs": [
        {
          "output_type": "execute_result",
          "data": {
            "text/plain": [
              "[[('The', 'DET'), ('Fulton', 'NOUN'), ('County', 'NOUN'), ('Grand', 'ADJ'), ('Jury', 'NOUN'), ('said', 'VERB'), ('Friday', 'NOUN'), ('an', 'DET'), ('investigation', 'NOUN'), ('of', 'ADP'), (\"Atlanta's\", 'NOUN'), ('recent', 'ADJ'), ('primary', 'NOUN'), ('election', 'NOUN'), ('produced', 'VERB'), ('``', '.'), ('no', 'DET'), ('evidence', 'NOUN'), (\"''\", '.'), ('that', 'ADP'), ('any', 'DET'), ('irregularities', 'NOUN'), ('took', 'VERB'), ('place', 'NOUN'), ('.', '.')], [('The', 'DET'), ('jury', 'NOUN'), ('further', 'ADV'), ('said', 'VERB'), ('in', 'ADP'), ('term-end', 'NOUN'), ('presentments', 'NOUN'), ('that', 'ADP'), ('the', 'DET'), ('City', 'NOUN'), ('Executive', 'ADJ'), ('Committee', 'NOUN'), (',', '.'), ('which', 'DET'), ('had', 'VERB'), ('over-all', 'ADJ'), ('charge', 'NOUN'), ('of', 'ADP'), ('the', 'DET'), ('election', 'NOUN'), (',', '.'), ('``', '.'), ('deserves', 'VERB'), ('the', 'DET'), ('praise', 'NOUN'), ('and', 'CONJ'), ('thanks', 'NOUN'), ('of', 'ADP'), ('the', 'DET'), ('City', 'NOUN'), ('of', 'ADP'), ('Atlanta', 'NOUN'), (\"''\", '.'), ('for', 'ADP'), ('the', 'DET'), ('manner', 'NOUN'), ('in', 'ADP'), ('which', 'DET'), ('the', 'DET'), ('election', 'NOUN'), ('was', 'VERB'), ('conducted', 'VERB'), ('.', '.')], ...]"
            ]
          },
          "metadata": {},
          "execution_count": 2
        }
      ]
    },
    {
      "cell_type": "markdown",
      "source": [
        "# Explore Brown corpus"
      ],
      "metadata": {
        "id": "serfRTOd94Ie"
      }
    },
    {
      "cell_type": "code",
      "source": [
        "# List categories\n",
        "print(brown.categories())"
      ],
      "metadata": {
        "id": "jvcYwLo3nVMX",
        "outputId": "e9a7a606-9b4a-4d08-a639-1b2a9fe544cf",
        "colab": {
          "base_uri": "https://localhost:8080/"
        }
      },
      "execution_count": null,
      "outputs": [
        {
          "output_type": "stream",
          "name": "stdout",
          "text": [
            "['adventure', 'belles_lettres', 'editorial', 'fiction', 'government', 'hobbies', 'humor', 'learned', 'lore', 'mystery', 'news', 'religion', 'reviews', 'romance', 'science_fiction']\n"
          ]
        }
      ]
    },
    {
      "cell_type": "code",
      "source": [
        "# Access words in the specified category\n",
        "category_words = brown.words(categories='belles_lettres')\n",
        "\n",
        "print(category_words[100:120])  #\n",
        "\n",
        "# Sample text from a specific category\n",
        "print(\" \".join(category_words[100:120]))"
      ],
      "metadata": {
        "id": "LoQQ9prYnRKq",
        "outputId": "b4e861e7-7596-41ae-a20d-a42f0d0b3425",
        "colab": {
          "base_uri": "https://localhost:8080/"
        }
      },
      "execution_count": null,
      "outputs": [
        {
          "output_type": "stream",
          "name": "stdout",
          "text": [
            "['between', 'liberals', 'and', 'Bourbons', 'is', 'too', 'little', 'understood', 'in', 'the', 'North', '.', 'The', 'race', 'problem', 'has', 'tended', 'to', 'obscure', 'other']\n",
            "between liberals and Bourbons is too little understood in the North . The race problem has tended to obscure other\n"
          ]
        }
      ]
    },
    {
      "cell_type": "code",
      "source": [
        "len(category_words)"
      ],
      "metadata": {
        "colab": {
          "base_uri": "https://localhost:8080/"
        },
        "id": "D_5DXuQF_cVZ",
        "outputId": "2a506eee-c922-4443-fe5e-1fddce1e64ba"
      },
      "execution_count": null,
      "outputs": [
        {
          "output_type": "execute_result",
          "data": {
            "text/plain": [
              "173096"
            ]
          },
          "metadata": {},
          "execution_count": 7
        }
      ]
    },
    {
      "cell_type": "code",
      "source": [
        "# Count occurrences of a specific word\n",
        "from nltk import FreqDist\n",
        "fdist = FreqDist(brown.words())\n",
        "print(fdist['the'])\n",
        "print(fdist['The'])"
      ],
      "metadata": {
        "id": "iEgiikClnizH",
        "outputId": "c2bfcd55-c7db-4d1f-a49a-cc9bc9d0b3b1",
        "colab": {
          "base_uri": "https://localhost:8080/"
        }
      },
      "execution_count": null,
      "outputs": [
        {
          "output_type": "stream",
          "name": "stdout",
          "text": [
            "62713\n",
            "7258\n"
          ]
        }
      ]
    },
    {
      "cell_type": "code",
      "source": [
        "# Fetching the first 2 sentences from the Brown corpus, tagged with part-of-speech\n",
        "tagged_sentences = brown_tagged_sents[0:2]\n",
        "\n",
        "for sentence in tagged_sentences:\n",
        "    print(sentence)"
      ],
      "metadata": {
        "colab": {
          "base_uri": "https://localhost:8080/"
        },
        "id": "1YR0VCi7XjNK",
        "outputId": "38abfa3b-676d-4c70-9ca4-d63a505e2f72"
      },
      "execution_count": null,
      "outputs": [
        {
          "output_type": "stream",
          "name": "stdout",
          "text": [
            "[('The', 'DET'), ('Fulton', 'NOUN'), ('County', 'NOUN'), ('Grand', 'ADJ'), ('Jury', 'NOUN'), ('said', 'VERB'), ('Friday', 'NOUN'), ('an', 'DET'), ('investigation', 'NOUN'), ('of', 'ADP'), (\"Atlanta's\", 'NOUN'), ('recent', 'ADJ'), ('primary', 'NOUN'), ('election', 'NOUN'), ('produced', 'VERB'), ('``', '.'), ('no', 'DET'), ('evidence', 'NOUN'), (\"''\", '.'), ('that', 'ADP'), ('any', 'DET'), ('irregularities', 'NOUN'), ('took', 'VERB'), ('place', 'NOUN'), ('.', '.')]\n",
            "[('The', 'DET'), ('jury', 'NOUN'), ('further', 'ADV'), ('said', 'VERB'), ('in', 'ADP'), ('term-end', 'NOUN'), ('presentments', 'NOUN'), ('that', 'ADP'), ('the', 'DET'), ('City', 'NOUN'), ('Executive', 'ADJ'), ('Committee', 'NOUN'), (',', '.'), ('which', 'DET'), ('had', 'VERB'), ('over-all', 'ADJ'), ('charge', 'NOUN'), ('of', 'ADP'), ('the', 'DET'), ('election', 'NOUN'), (',', '.'), ('``', '.'), ('deserves', 'VERB'), ('the', 'DET'), ('praise', 'NOUN'), ('and', 'CONJ'), ('thanks', 'NOUN'), ('of', 'ADP'), ('the', 'DET'), ('City', 'NOUN'), ('of', 'ADP'), ('Atlanta', 'NOUN'), (\"''\", '.'), ('for', 'ADP'), ('the', 'DET'), ('manner', 'NOUN'), ('in', 'ADP'), ('which', 'DET'), ('the', 'DET'), ('election', 'NOUN'), ('was', 'VERB'), ('conducted', 'VERB'), ('.', '.')]\n"
          ]
        }
      ]
    },
    {
      "cell_type": "markdown",
      "source": [
        "# Moving on"
      ],
      "metadata": {
        "id": "iBgMR16JAOb4"
      }
    },
    {
      "cell_type": "markdown",
      "source": [
        " Say words = $[w_1\\ldots w_N]$ and tags = $[t_1\\ldots t_N]$.\n",
        "\n",
        " Then  $P(\\text{tags}\\vert\\text{words})$ is calculated as  $$\\prod P(t_i\\vert t_{i-1}) \\cdot P(w_i \\vert t_i)$$\n",
        "\n",
        " To find the best tag sequence for a given sequence of words, we want to find the tag sequence that maximizes $P(\\text{tags} | \\text{words})$"
      ],
      "metadata": {
        "id": "CbzU4ku-H6pJ"
      }
    },
    {
      "cell_type": "code",
      "source": [
        "brown_tagged_sents[42]"
      ],
      "metadata": {
        "trusted": true,
        "id": "MYqiEBBsWMgN",
        "outputId": "45121382-f31b-44be-d726-c286f41edf53",
        "colab": {
          "base_uri": "https://localhost:8080/"
        }
      },
      "execution_count": null,
      "outputs": [
        {
          "output_type": "execute_result",
          "data": {
            "text/plain": [
              "[('The', 'DET'),\n",
              " (\"mayor's\", 'NOUN'),\n",
              " ('present', 'ADJ'),\n",
              " ('term', 'NOUN'),\n",
              " ('of', 'ADP'),\n",
              " ('office', 'NOUN'),\n",
              " ('expires', 'VERB'),\n",
              " ('Jan.', 'NOUN'),\n",
              " ('1', 'NUM'),\n",
              " ('.', '.')]"
            ]
          },
          "metadata": {},
          "execution_count": 5
        }
      ]
    },
    {
      "cell_type": "code",
      "source": [
        "# prompt: From brown_tagged_sents get parts of speech tags and form a set.\n",
        "\n",
        "parts_of_speech = set()\n",
        "for sentence in brown_tagged_sents:\n",
        "  for word, tag in sentence:\n",
        "    parts_of_speech.add(tag)\n",
        "print(parts_of_speech)\n"
      ],
      "metadata": {
        "colab": {
          "base_uri": "https://localhost:8080/"
        },
        "id": "12Sf6t_QAwCR",
        "outputId": "7654f63e-282d-4023-d582-1ca17101d01d"
      },
      "execution_count": null,
      "outputs": [
        {
          "output_type": "stream",
          "name": "stdout",
          "text": [
            "{'VERB', 'DET', 'PRT', 'ADP', 'ADJ', 'CONJ', 'NUM', 'NOUN', '.', 'PRON', 'X', 'ADV'}\n"
          ]
        }
      ]
    },
    {
      "cell_type": "markdown",
      "source": [
        "See [universal POS tags readme](https://github.com/slavpetrov/universal-pos-tags/blob/master/README.md)"
      ],
      "metadata": {
        "id": "ALH3vLT2A_3I"
      }
    },
    {
      "cell_type": "code",
      "source": [
        "brown_tagged_sents = brown.tagged_sents(tagset='universal')\n",
        "brown_tagged_sents = [[('START', 'START')] + sentence + [('END', 'END')] for sentence in brown_tagged_sents]\n",
        "# We adding to each sentence a start and end. We can think of 'Start' as a part of speech and also as a word."
      ],
      "metadata": {
        "id": "UcK3Ii2ZR1hq"
      },
      "execution_count": null,
      "outputs": []
    },
    {
      "cell_type": "code",
      "source": [
        "brown_tagged_sents[12]"
      ],
      "metadata": {
        "colab": {
          "base_uri": "https://localhost:8080/"
        },
        "id": "ZhyUFNpk4JPa",
        "outputId": "fccfbc34-42b1-4c9f-b30d-b8e1f68fbae5"
      },
      "execution_count": null,
      "outputs": [
        {
          "output_type": "execute_result",
          "data": {
            "text/plain": [
              "[('START', 'START'),\n",
              " ('It', 'PRON'),\n",
              " ('urged', 'VERB'),\n",
              " ('that', 'ADP'),\n",
              " ('the', 'DET'),\n",
              " ('next', 'ADJ'),\n",
              " ('Legislature', 'NOUN'),\n",
              " ('``', '.'),\n",
              " ('provide', 'VERB'),\n",
              " ('enabling', 'VERB'),\n",
              " ('funds', 'NOUN'),\n",
              " ('and', 'CONJ'),\n",
              " ('re-set', 'VERB'),\n",
              " ('the', 'DET'),\n",
              " ('effective', 'ADJ'),\n",
              " ('date', 'NOUN'),\n",
              " ('so', 'ADP'),\n",
              " ('that', 'ADP'),\n",
              " ('an', 'DET'),\n",
              " ('orderly', 'ADJ'),\n",
              " ('implementation', 'NOUN'),\n",
              " ('of', 'ADP'),\n",
              " ('the', 'DET'),\n",
              " ('law', 'NOUN'),\n",
              " ('may', 'VERB'),\n",
              " ('be', 'VERB'),\n",
              " ('effected', 'VERB'),\n",
              " (\"''\", '.'),\n",
              " ('.', '.'),\n",
              " ('END', 'END')]"
            ]
          },
          "metadata": {},
          "execution_count": 8
        }
      ]
    },
    {
      "cell_type": "code",
      "source": [
        "brown_word_tags = [word_tag for sentence in brown_tagged_sents for word_tag in sentence]\n"
      ],
      "metadata": {
        "id": "nTkWdBq65DDq"
      },
      "execution_count": null,
      "outputs": []
    },
    {
      "cell_type": "code",
      "source": [
        "brown_word_tags[14]"
      ],
      "metadata": {
        "colab": {
          "base_uri": "https://localhost:8080/"
        },
        "id": "t5tipJ1o5SeH",
        "outputId": "69baffc4-2b60-4bba-85cd-2ee2dfd3de29"
      },
      "execution_count": null,
      "outputs": [
        {
          "output_type": "execute_result",
          "data": {
            "text/plain": [
              "('election', 'NOUN')"
            ]
          },
          "metadata": {},
          "execution_count": 12
        }
      ]
    },
    {
      "cell_type": "code",
      "source": [
        "len(brown_word_tags)"
      ],
      "metadata": {
        "colab": {
          "base_uri": "https://localhost:8080/"
        },
        "id": "m-IwyhkqqG3W",
        "outputId": "82f29632-d7d1-4cbc-c648-b13420c58e17"
      },
      "execution_count": null,
      "outputs": [
        {
          "output_type": "execute_result",
          "data": {
            "text/plain": [
              "1275872"
            ]
          },
          "metadata": {},
          "execution_count": 13
        }
      ]
    },
    {
      "cell_type": "code",
      "source": [
        "brown_word_tags[30:40]"
      ],
      "metadata": {
        "colab": {
          "base_uri": "https://localhost:8080/"
        },
        "id": "inyoiFXBbpKd",
        "outputId": "5450b538-2e82-4847-b855-1b494e74ca93"
      },
      "execution_count": null,
      "outputs": [
        {
          "output_type": "execute_result",
          "data": {
            "text/plain": [
              "[('further', 'ADV'),\n",
              " ('said', 'VERB'),\n",
              " ('in', 'ADP'),\n",
              " ('term-end', 'NOUN'),\n",
              " ('presentments', 'NOUN'),\n",
              " ('that', 'ADP'),\n",
              " ('the', 'DET'),\n",
              " ('City', 'NOUN'),\n",
              " ('Executive', 'ADJ'),\n",
              " ('Committee', 'NOUN')]"
            ]
          },
          "metadata": {},
          "execution_count": 14
        }
      ]
    },
    {
      "cell_type": "code",
      "source": [
        "tag_word_pairs = [(tag, word) for word, tag in brown_word_tags]\n",
        "#reversing the ordering since we want to find prob(word|tag)"
      ],
      "metadata": {
        "id": "s2D4WqQdsPLd"
      },
      "execution_count": null,
      "outputs": []
    },
    {
      "cell_type": "code",
      "source": [
        "tag_word_pairs[30:40]"
      ],
      "metadata": {
        "colab": {
          "base_uri": "https://localhost:8080/"
        },
        "id": "0FNIk-TysRF7",
        "outputId": "4e974777-f98b-4b42-ddea-7134c58b9b8b"
      },
      "execution_count": null,
      "outputs": [
        {
          "output_type": "execute_result",
          "data": {
            "text/plain": [
              "[('ADV', 'further'),\n",
              " ('VERB', 'said'),\n",
              " ('ADP', 'in'),\n",
              " ('NOUN', 'term-end'),\n",
              " ('NOUN', 'presentments'),\n",
              " ('ADP', 'that'),\n",
              " ('DET', 'the'),\n",
              " ('NOUN', 'City'),\n",
              " ('ADJ', 'Executive'),\n",
              " ('NOUN', 'Committee')]"
            ]
          },
          "metadata": {},
          "execution_count": 16
        }
      ]
    },
    {
      "cell_type": "code",
      "source": [
        "#Getting the conditional frequency distribution for the words which are tagged\n",
        "cfd_word_given_tag=nltk.ConditionalFreqDist(tag_word_pairs)\n"
      ],
      "metadata": {
        "trusted": true,
        "id": "2VEM3ReyWMgO"
      },
      "execution_count": null,
      "outputs": []
    },
    {
      "cell_type": "code",
      "source": [
        "print(f'count of events: POS=VERB emits the word \"run\": {cfd_word_given_tag[\"VERB\"][\"run\"]}')\n",
        "print(f'count of events: POS=NOUN emits the word \"run\": {cfd_word_given_tag[\"NOUN\"][\"run\"]}')\n"
      ],
      "metadata": {
        "colab": {
          "base_uri": "https://localhost:8080/"
        },
        "id": "lgNoyQcmFDrS",
        "outputId": "781c3020-28b1-4acc-f65a-6bb27e5dbca8"
      },
      "execution_count": null,
      "outputs": [
        {
          "output_type": "stream",
          "name": "stdout",
          "text": [
            "count of events: POS=VERB emits the word \"run\": 154\n",
            "count of events: POS=NOUN emits the word \"run\": 52\n"
          ]
        }
      ]
    },
    {
      "cell_type": "markdown",
      "source": [
        " Now, we will estimate $P(w_i|t_i)$ from corpus data:\n",
        "\n",
        "  $P(w_i | t_i)=\\displaystyle{\\frac{\\text{count}(w_i,t_i)}{\\text{count}(t_i)}}$"
      ],
      "metadata": {
        "id": "wUV4gsRbWMgN"
      }
    },
    {
      "cell_type": "code",
      "source": [
        "# Create a ConditionalProbDist for emission probabilities\n",
        "cpd_emission = nltk.ConditionalProbDist(cfd_word_given_tag, nltk.MLEProbDist)\n",
        "# LaplaceProbDist is an alternative to MLE\n"
      ],
      "metadata": {
        "id": "ezFcDNyqn3ZB"
      },
      "execution_count": null,
      "outputs": []
    },
    {
      "cell_type": "code",
      "source": [
        "# Probability of observing the word \"further\" given the tag \"ADV\"\n",
        "cpd_emission['ADV'].prob('further')\n"
      ],
      "metadata": {
        "trusted": true,
        "id": "HDorjLKDWMgO",
        "colab": {
          "base_uri": "https://localhost:8080/"
        },
        "outputId": "76756fb0-3cd7-4c37-a718-00e34cb1bebd"
      },
      "execution_count": null,
      "outputs": [
        {
          "output_type": "execute_result",
          "data": {
            "text/plain": [
              "0.0015825316950870392"
            ]
          },
          "metadata": {},
          "execution_count": 37
        }
      ]
    },
    {
      "cell_type": "markdown",
      "source": [
        " Estimating $P(t_i\\vert t_{i-1})$  from corpus data:\n",
        "\n",
        " $P(t_i | t_{i-1}) = \\displaystyle{\\frac{\\text{count}(t_{i-1}, t_i)}{\\text{count}(t_{i-1})}}$"
      ],
      "metadata": {
        "id": "bqzzCoMSWMgO"
      }
    },
    {
      "cell_type": "code",
      "source": [
        "# Extract the sequence of tags from the original list of (word, tag) pairs\n",
        "tags = [tag for word, tag in brown_word_tags]\n",
        "\n",
        "# Create pairs of consecutive tags\n",
        "tag_pairs = [(tags[i], tags[i+1]) for i in range(len(tags)-1)]\n"
      ],
      "metadata": {
        "trusted": true,
        "id": "BGegK0nHWMgP"
      },
      "execution_count": null,
      "outputs": []
    },
    {
      "cell_type": "code",
      "source": [
        "# Create a CFD from the pairs of consecutive tags\n",
        "cfd_tag_transitions = nltk.ConditionalFreqDist(tag_pairs)\n"
      ],
      "metadata": {
        "trusted": true,
        "id": "XnmGBe4tWMgP"
      },
      "execution_count": null,
      "outputs": []
    },
    {
      "cell_type": "code",
      "source": [
        "# Convert the CFD into a CPD for transition probabilities\n",
        "cpd_tag_transitions = nltk.ConditionalProbDist(cfd_tag_transitions, nltk.MLEProbDist)\n"
      ],
      "metadata": {
        "id": "TA0s8Ni4vGDp"
      },
      "execution_count": null,
      "outputs": []
    },
    {
      "cell_type": "code",
      "source": [
        "# Probability of transitioning from ADJ to NOUN\n",
        "prob_adj_to_noun = cpd_tag_transitions['ADJ'].prob('NOUN')\n"
      ],
      "metadata": {
        "id": "DlShNcL4vOQQ"
      },
      "execution_count": null,
      "outputs": []
    },
    {
      "cell_type": "code",
      "source": [
        "# probability of tag sequence PRON VERB NOUN for the word sequence \"We love food\"\n",
        "# Assuming cpd_emission and cpd_tag_transitions are already defined\n",
        "\n",
        "# Emission Probabilities\n",
        "prob_we_pron =   cpd_emission['PRON'].prob('We')\n",
        "prob_love_verb = cpd_emission['VERB'].prob('love')\n",
        "prob_food_noun = cpd_emission['NOUN'].prob('food')\n",
        "\n",
        "# Transition Probabilities including START and END\n",
        "prob_start_to_pron = cpd_tag_transitions['START'].prob('PRON')\n",
        "prob_pron_to_verb = cpd_tag_transitions['PRON'].prob('VERB')\n",
        "prob_verb_to_noun = cpd_tag_transitions['VERB'].prob('NOUN')\n",
        "prob_noun_to_end = cpd_tag_transitions['NOUN'].prob('END')\n",
        "\n",
        "# Combine all probabilities\n",
        "total_probability = (\n",
        "    prob_start_to_pron *\n",
        "    prob_we_pron *\n",
        "    prob_pron_to_verb *\n",
        "    prob_love_verb *\n",
        "    prob_verb_to_noun *\n",
        "    prob_food_noun *\n",
        "    prob_noun_to_end\n",
        ")\n",
        "\n",
        "# Print the total probability\n",
        "print(f\"Total Probability of 'PRON VERB NOUN' for 'We love food': {total_probability}\")\n",
        "\n"
      ],
      "metadata": {
        "trusted": true,
        "id": "-u5EwpLEWMgQ",
        "colab": {
          "base_uri": "https://localhost:8080/"
        },
        "outputId": "6f914997-1706-4421-fd80-6d9fffa9e126"
      },
      "execution_count": null,
      "outputs": [
        {
          "output_type": "stream",
          "name": "stdout",
          "text": [
            "Total Probability of 'PRON VERB NOUN' for 'We love food': 7.079380056115793e-14\n"
          ]
        }
      ]
    },
    {
      "cell_type": "code",
      "source": [
        "def calculate_sequence_probability(words, pos_tags, cpd_emission, cpd_tag_transitions):\n",
        "    # Check if lengths of words and POS tags match\n",
        "    if len(words) != len(pos_tags):\n",
        "        return \"Error: The number of words and POS tags must match.\"\n",
        "\n",
        "    # Initialize the total probability with 1 (since we'll be multiplying probabilities)\n",
        "    total_probability = 1.0\n",
        "\n",
        "    # Transition Probability from START to the first POS tag\n",
        "    total_probability *= cpd_tag_transitions['START'].prob(pos_tags[0])\n",
        "\n",
        "    # Loop through words and POS tags to calculate emission and transition probabilities\n",
        "    for i in range(len(words)):\n",
        "        word = words[i]\n",
        "        pos_tag = pos_tags[i]\n",
        "\n",
        "        # Emission Probability for the current word given its POS tag\n",
        "        total_probability *= cpd_emission[pos_tag].prob(word)\n",
        "\n",
        "        # Transition Probability to the next POS tag (if not the last word)\n",
        "        if i < len(words) - 1:\n",
        "            next_pos_tag = pos_tags[i + 1]\n",
        "            total_probability *= cpd_tag_transitions[pos_tag].prob(next_pos_tag)\n",
        "\n",
        "    # Transition Probability from the last POS tag to END\n",
        "    total_probability *= cpd_tag_transitions[pos_tags[-1]].prob('END')\n",
        "\n",
        "    # Return the total probability\n",
        "    return total_probability\n",
        "\n"
      ],
      "metadata": {
        "trusted": true,
        "id": "16r4NdaSWMgS"
      },
      "execution_count": null,
      "outputs": []
    },
    {
      "cell_type": "code",
      "source": [
        "print(f'allowed POS tags: {parts_of_speech}')"
      ],
      "metadata": {
        "colab": {
          "base_uri": "https://localhost:8080/"
        },
        "id": "Ph0J-rdHAg50",
        "outputId": "7c8c3342-b11d-483c-afa2-6851707b75d9"
      },
      "execution_count": null,
      "outputs": [
        {
          "output_type": "stream",
          "name": "stdout",
          "text": [
            "allowed POS tags: {'VERB', 'DET', 'PRT', 'ADP', 'ADJ', 'CONJ', 'NUM', 'NOUN', '.', 'PRON', 'X', 'ADV'}\n"
          ]
        }
      ]
    },
    {
      "cell_type": "code",
      "source": [
        "# Example usage (assuming cpd_emission and cpd_tag_transitions are defined):\n",
        "words = ['My', 'dog', 'sleeps']\n",
        "pos_tags = ['DET', 'NOUN', 'VERB']\n",
        "total_probability = calculate_sequence_probability(words, pos_tags, cpd_emission, cpd_tag_transitions)\n",
        "print(f\"Total Probability of {' '.join(pos_tags)} for '{' '.join(words)}': {total_probability}\")\n"
      ],
      "metadata": {
        "colab": {
          "base_uri": "https://localhost:8080/"
        },
        "id": "qm3fVlJeAO4b",
        "outputId": "39155c66-65c6-4f2e-ad08-82c4313d56e4"
      },
      "execution_count": null,
      "outputs": [
        {
          "output_type": "stream",
          "name": "stdout",
          "text": [
            "Total Probability of DET NOUN VERB for 'My dog sleeps': 1.8516374769314782e-17\n"
          ]
        }
      ]
    },
    {
      "cell_type": "markdown",
      "source": [
        "# Viterbi Algorithm"
      ],
      "metadata": {
        "id": "f9tvxGrn0quN"
      }
    },
    {
      "cell_type": "code",
      "source": [
        "def viterbi(observed_words, cpd_tag_transitions, cpd_emission, states):\n",
        "    # Initialize the dynamic programming table to store probabilities\n",
        "    V = [{}]\n",
        "    path = {}\n",
        "\n",
        "    # Initialize base case (t == 0)\n",
        "    for state in states:\n",
        "        V[0][state] = cpd_tag_transitions['START'].prob(state) * cpd_emission[state].prob(observed_words[0])\n",
        "        path[state] = [state]\n",
        "\n",
        "    # Run Viterbi for t > 0\n",
        "    for t in range(1, len(observed_words)):\n",
        "        V.append({})\n",
        "        newpath = {}\n",
        "\n",
        "        for cur_state in states:\n",
        "            # Check if state is 'START' or 'END'\n",
        "            if cur_state in ['START', 'END']:\n",
        "                continue\n",
        "\n",
        "            # Select the state transition path with the maximum probability\n",
        "            (prob, state) = max(\n",
        "                (V[t-1][prev_state] * cpd_tag_transitions[prev_state].prob(cur_state) * cpd_emission[cur_state].prob(observed_words[t]), prev_state)\n",
        "                for prev_state in states if prev_state not in ['START', 'END']\n",
        "            )\n",
        "\n",
        "            V[t][cur_state] = prob\n",
        "            newpath[cur_state] = path[state] + [cur_state]\n",
        "\n",
        "        # Don't need to remember the old paths\n",
        "        path = newpath\n",
        "\n",
        "    # Add a final step for transition to 'END' state\n",
        "    prob, state = max((V[len(observed_words) - 1][state] * cpd_tag_transitions[state].prob('END'), state) for state in states if state not in ['START', 'END'])\n",
        "    return (prob, path[state])\n",
        "\n",
        "\n"
      ],
      "metadata": {
        "id": "whsZEmbu0vp2"
      },
      "execution_count": null,
      "outputs": []
    },
    {
      "cell_type": "code",
      "source": [
        "# Example usage\n",
        "observed_words = [\"The\", \"sly\", \"fox\"]\n",
        "states = ['NOUN', 'VERB', 'PRON', 'ADJ', 'ADV', 'ADP', 'CONJ', 'DET', 'NUM', 'PRT', 'X', 'START', 'END']  # Add your list of states/tags\n",
        "(prob, sequence) = viterbi(observed_words, cpd_tag_transitions, cpd_emission, states)\n",
        "print(f\"Probability of the best tag sequence: {prob}\")\n",
        "print(f\"Best tag sequence: {sequence}\")"
      ],
      "metadata": {
        "colab": {
          "base_uri": "https://localhost:8080/"
        },
        "id": "uAo7Z58O0zPh",
        "outputId": "ab85b1e2-9ea8-4e86-e438-386c32d81eda"
      },
      "execution_count": null,
      "outputs": [
        {
          "output_type": "stream",
          "name": "stdout",
          "text": [
            "Probability of the best tag sequence: 1.1444712915476514e-14\n",
            "Best tag sequence: ['DET', 'ADJ', 'NOUN']\n"
          ]
        }
      ]
    },
    {
      "cell_type": "markdown",
      "source": [
        "##Issues to address\n",
        "\n",
        "\n",
        "1.   Deal with out of vocabulary words. Smoothing\n",
        "2.   The probabilities are getting small! Maybe go to log space!\n",
        "\n",
        "   $\\log(p_1p_2)=\\log(p1)+\\log(p2)$\n",
        "\n"
      ],
      "metadata": {
        "id": "7n1ywbqw7GCe"
      }
    },
    {
      "cell_type": "code",
      "source": [],
      "metadata": {
        "id": "MP9vpY8-1ZZM"
      },
      "execution_count": null,
      "outputs": []
    }
  ]
}