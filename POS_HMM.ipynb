{
  "metadata": {
    "kernelspec": {
      "language": "python",
      "display_name": "Python 3",
      "name": "python3"
    },
    "language_info": {
      "pygments_lexer": "ipython3",
      "nbconvert_exporter": "python",
      "version": "3.6.4",
      "file_extension": ".py",
      "codemirror_mode": {
        "name": "ipython",
        "version": 3
      },
      "name": "python",
      "mimetype": "text/x-python"
    },
    "kaggle": {
      "accelerator": "none",
      "dataSources": [],
      "dockerImageVersionId": 29980,
      "isInternetEnabled": false,
      "language": "python",
      "sourceType": "notebook",
      "isGpuEnabled": false
    },
    "colab": {
      "provenance": [],
      "include_colab_link": true
    }
  },
  "nbformat_minor": 0,
  "nbformat": 4,
  "cells": [
    {
      "cell_type": "markdown",
      "metadata": {
        "id": "view-in-github",
        "colab_type": "text"
      },
      "source": [
        "<a href=\"https://colab.research.google.com/github/alex-smith-uwec/CS491/blob/main/POS_HMM.ipynb\" target=\"_parent\"><img src=\"https://colab.research.google.com/assets/colab-badge.svg\" alt=\"Open In Colab\"/></a>"
      ]
    },
    {
      "cell_type": "markdown",
      "source": [
        "The purpose of this notebook is to experiment with part of speech tagging using a Hidden Markov Model and the Viterbi algoritm. We train the algorithm on the Brown Corpus."
      ],
      "metadata": {
        "id": "TCTtC9p02XiC"
      }
    },
    {
      "cell_type": "code",
      "source": [
        "import numpy as np\n",
        "import pandas as pd\n",
        "import nltk\n",
        "\n",
        "nltk.download('brown')\n",
        "from nltk.corpus import brown\n",
        "\n",
        "\n",
        "\n",
        "# Accessing the tagged sentences\n",
        "nltk.download('universal_tagset')\n",
        "\n",
        "brown_tagged_sents = brown.tagged_sents(tagset='universal')\n"
      ],
      "metadata": {
        "_uuid": "8f2839f25d086af736a60e9eeb907d3b93b6e0e5",
        "_cell_guid": "b1076dfc-b9ad-4769-8c92-a6c4dae69d19",
        "trusted": true,
        "colab": {
          "base_uri": "https://localhost:8080/"
        },
        "id": "SL658GqKWMgG",
        "outputId": "ae70595a-5e57-42cf-8e70-2826c1409da3"
      },
      "execution_count": 1,
      "outputs": [
        {
          "output_type": "stream",
          "name": "stderr",
          "text": [
            "[nltk_data] Downloading package brown to /root/nltk_data...\n",
            "[nltk_data]   Unzipping corpora/brown.zip.\n",
            "[nltk_data] Downloading package universal_tagset to /root/nltk_data...\n",
            "[nltk_data]   Unzipping taggers/universal_tagset.zip.\n"
          ]
        }
      ]
    },
    {
      "cell_type": "code",
      "source": [
        "brown_tagged_sents"
      ],
      "metadata": {
        "colab": {
          "base_uri": "https://localhost:8080/"
        },
        "id": "u4Cprhkd6ny8",
        "outputId": "89b567ec-8c05-486c-fa14-6ad09b67b253"
      },
      "execution_count": 59,
      "outputs": [
        {
          "output_type": "execute_result",
          "data": {
            "text/plain": [
              "[[('The', 'DET'), ('Fulton', 'NOUN'), ('County', 'NOUN'), ('Grand', 'ADJ'), ('Jury', 'NOUN'), ('said', 'VERB'), ('Friday', 'NOUN'), ('an', 'DET'), ('investigation', 'NOUN'), ('of', 'ADP'), (\"Atlanta's\", 'NOUN'), ('recent', 'ADJ'), ('primary', 'NOUN'), ('election', 'NOUN'), ('produced', 'VERB'), ('``', '.'), ('no', 'DET'), ('evidence', 'NOUN'), (\"''\", '.'), ('that', 'ADP'), ('any', 'DET'), ('irregularities', 'NOUN'), ('took', 'VERB'), ('place', 'NOUN'), ('.', '.')], [('The', 'DET'), ('jury', 'NOUN'), ('further', 'ADV'), ('said', 'VERB'), ('in', 'ADP'), ('term-end', 'NOUN'), ('presentments', 'NOUN'), ('that', 'ADP'), ('the', 'DET'), ('City', 'NOUN'), ('Executive', 'ADJ'), ('Committee', 'NOUN'), (',', '.'), ('which', 'DET'), ('had', 'VERB'), ('over-all', 'ADJ'), ('charge', 'NOUN'), ('of', 'ADP'), ('the', 'DET'), ('election', 'NOUN'), (',', '.'), ('``', '.'), ('deserves', 'VERB'), ('the', 'DET'), ('praise', 'NOUN'), ('and', 'CONJ'), ('thanks', 'NOUN'), ('of', 'ADP'), ('the', 'DET'), ('City', 'NOUN'), ('of', 'ADP'), ('Atlanta', 'NOUN'), (\"''\", '.'), ('for', 'ADP'), ('the', 'DET'), ('manner', 'NOUN'), ('in', 'ADP'), ('which', 'DET'), ('the', 'DET'), ('election', 'NOUN'), ('was', 'VERB'), ('conducted', 'VERB'), ('.', '.')], ...]"
            ]
          },
          "metadata": {},
          "execution_count": 59
        }
      ]
    },
    {
      "cell_type": "markdown",
      "source": [
        "# Explore Brown corpus"
      ],
      "metadata": {
        "id": "serfRTOd94Ie"
      }
    },
    {
      "cell_type": "code",
      "source": [
        "# List categories\n",
        "print(brown.categories())"
      ],
      "metadata": {
        "id": "jvcYwLo3nVMX",
        "outputId": "a5a0394e-7bf2-45a3-9851-fe4d4b06a963",
        "colab": {
          "base_uri": "https://localhost:8080/"
        }
      },
      "execution_count": 2,
      "outputs": [
        {
          "output_type": "stream",
          "name": "stdout",
          "text": [
            "['adventure', 'belles_lettres', 'editorial', 'fiction', 'government', 'hobbies', 'humor', 'learned', 'lore', 'mystery', 'news', 'religion', 'reviews', 'romance', 'science_fiction']\n"
          ]
        }
      ]
    },
    {
      "cell_type": "code",
      "source": [
        "# Access words in the specified category\n",
        "category_words = brown.words(categories='fiction')\n",
        "\n",
        "print(category_words[:10])  # Print first 50 words\n",
        "\n",
        "# Sample text from a specific category\n",
        "print(\" \".join(category_words[:30]))"
      ],
      "metadata": {
        "id": "LoQQ9prYnRKq",
        "outputId": "afe24869-f91a-4597-9e5a-ce45fa4b7c8f",
        "colab": {
          "base_uri": "https://localhost:8080/"
        }
      },
      "execution_count": 3,
      "outputs": [
        {
          "output_type": "stream",
          "name": "stdout",
          "text": [
            "['Thirty-three', 'Scotty', 'did', 'not', 'go', 'back', 'to', 'school', '.', 'His']\n",
            "Thirty-three Scotty did not go back to school . His parents talked seriously and lengthily to their own doctor and to a specialist at the University Hospital -- Mr. McKinley\n"
          ]
        }
      ]
    },
    {
      "cell_type": "code",
      "source": [
        "len(category_words)"
      ],
      "metadata": {
        "colab": {
          "base_uri": "https://localhost:8080/"
        },
        "id": "D_5DXuQF_cVZ",
        "outputId": "d30dbf7e-4585-42cf-81ab-b39f5e593814"
      },
      "execution_count": 4,
      "outputs": [
        {
          "output_type": "execute_result",
          "data": {
            "text/plain": [
              "68488"
            ]
          },
          "metadata": {},
          "execution_count": 4
        }
      ]
    },
    {
      "cell_type": "code",
      "source": [
        "# Count occurrences of a specific word\n",
        "from nltk import FreqDist\n",
        "fdist = FreqDist(brown.words())\n",
        "print(fdist['the'])\n",
        "print(fdist['The'])"
      ],
      "metadata": {
        "id": "iEgiikClnizH",
        "outputId": "d1090684-c6c3-47e5-ee14-63ea3afb1dd2",
        "colab": {
          "base_uri": "https://localhost:8080/"
        }
      },
      "execution_count": 6,
      "outputs": [
        {
          "output_type": "stream",
          "name": "stdout",
          "text": [
            "62713\n",
            "7258\n"
          ]
        }
      ]
    },
    {
      "cell_type": "code",
      "source": [
        "# Fetching the first 2 sentences from the Brown corpus, tagged with part-of-speech\n",
        "tagged_sentences = brown_tagged_sents[0:2]\n",
        "\n",
        "for sentence in tagged_sentences:\n",
        "    print(sentence)"
      ],
      "metadata": {
        "colab": {
          "base_uri": "https://localhost:8080/"
        },
        "id": "1YR0VCi7XjNK",
        "outputId": "985c2cc2-8724-47e3-b4c6-a5b743d97aaa"
      },
      "execution_count": 7,
      "outputs": [
        {
          "output_type": "stream",
          "name": "stdout",
          "text": [
            "[('The', 'DET'), ('Fulton', 'NOUN'), ('County', 'NOUN'), ('Grand', 'ADJ'), ('Jury', 'NOUN'), ('said', 'VERB'), ('Friday', 'NOUN'), ('an', 'DET'), ('investigation', 'NOUN'), ('of', 'ADP'), (\"Atlanta's\", 'NOUN'), ('recent', 'ADJ'), ('primary', 'NOUN'), ('election', 'NOUN'), ('produced', 'VERB'), ('``', '.'), ('no', 'DET'), ('evidence', 'NOUN'), (\"''\", '.'), ('that', 'ADP'), ('any', 'DET'), ('irregularities', 'NOUN'), ('took', 'VERB'), ('place', 'NOUN'), ('.', '.')]\n",
            "[('The', 'DET'), ('jury', 'NOUN'), ('further', 'ADV'), ('said', 'VERB'), ('in', 'ADP'), ('term-end', 'NOUN'), ('presentments', 'NOUN'), ('that', 'ADP'), ('the', 'DET'), ('City', 'NOUN'), ('Executive', 'ADJ'), ('Committee', 'NOUN'), (',', '.'), ('which', 'DET'), ('had', 'VERB'), ('over-all', 'ADJ'), ('charge', 'NOUN'), ('of', 'ADP'), ('the', 'DET'), ('election', 'NOUN'), (',', '.'), ('``', '.'), ('deserves', 'VERB'), ('the', 'DET'), ('praise', 'NOUN'), ('and', 'CONJ'), ('thanks', 'NOUN'), ('of', 'ADP'), ('the', 'DET'), ('City', 'NOUN'), ('of', 'ADP'), ('Atlanta', 'NOUN'), (\"''\", '.'), ('for', 'ADP'), ('the', 'DET'), ('manner', 'NOUN'), ('in', 'ADP'), ('which', 'DET'), ('the', 'DET'), ('election', 'NOUN'), ('was', 'VERB'), ('conducted', 'VERB'), ('.', '.')]\n"
          ]
        }
      ]
    },
    {
      "cell_type": "markdown",
      "source": [
        "# Moving on"
      ],
      "metadata": {
        "id": "iBgMR16JAOb4"
      }
    },
    {
      "cell_type": "markdown",
      "source": [
        " Say words = $[w_1\\ldots w_N]$ and tags = $[t_1\\ldots t_N]$.\n",
        "\n",
        " Then  $P(\\text{tags}\\vert\\text{words})$ is proportional to  $$\\prod P(t_i\\vert t_{i-1}) \\cdot P(w_i \\vert t_i)$$\n",
        "\n",
        " To find the best tag sequence for a given sequence of words, we want to find the tag sequence that maximizes $P(\\text{tags} | \\text{words})$"
      ],
      "metadata": {
        "id": "CbzU4ku-H6pJ"
      }
    },
    {
      "cell_type": "code",
      "source": [
        "brown_tagged_sents[42]"
      ],
      "metadata": {
        "trusted": true,
        "id": "MYqiEBBsWMgN"
      },
      "execution_count": null,
      "outputs": []
    },
    {
      "cell_type": "code",
      "source": [
        "# prompt: From brown_tagged_sents get parts of speech tags and form a set.\n",
        "\n",
        "parts_of_speech = set()\n",
        "for sentence in brown_tagged_sents:\n",
        "  for word, tag in sentence:\n",
        "    parts_of_speech.add(tag)\n",
        "print(parts_of_speech)\n"
      ],
      "metadata": {
        "colab": {
          "base_uri": "https://localhost:8080/"
        },
        "id": "12Sf6t_QAwCR",
        "outputId": "871d8f85-7569-4d07-b208-f283dafcb36b"
      },
      "execution_count": 9,
      "outputs": [
        {
          "output_type": "stream",
          "name": "stdout",
          "text": [
            "{'NUM', 'PRON', 'VERB', 'ADP', 'X', 'NOUN', 'DET', 'PRT', 'CONJ', '.', 'ADJ', 'ADV'}\n"
          ]
        }
      ]
    },
    {
      "cell_type": "markdown",
      "source": [
        "See [universal POS tags readme](https://github.com/slavpetrov/universal-pos-tags/blob/master/README.md)"
      ],
      "metadata": {
        "id": "ALH3vLT2A_3I"
      }
    },
    {
      "cell_type": "code",
      "source": [
        "brown_tagged_sents = brown.tagged_sents(tagset='universal')\n",
        "brown_tagged_sents = [[('START', 'START')] + sentence + [('END', 'END')] for sentence in brown_tagged_sents]\n"
      ],
      "metadata": {
        "id": "UcK3Ii2ZR1hq"
      },
      "execution_count": 10,
      "outputs": []
    },
    {
      "cell_type": "code",
      "source": [
        "brown_tagged_sents[11]"
      ],
      "metadata": {
        "colab": {
          "base_uri": "https://localhost:8080/"
        },
        "id": "ZhyUFNpk4JPa",
        "outputId": "53203133-dd2b-4cc0-fb3c-216a08c401a6"
      },
      "execution_count": 11,
      "outputs": [
        {
          "output_type": "execute_result",
          "data": {
            "text/plain": [
              "[('START', 'START'),\n",
              " ('Implementation', 'NOUN'),\n",
              " ('of', 'ADP'),\n",
              " (\"Georgia's\", 'NOUN'),\n",
              " ('automobile', 'NOUN'),\n",
              " ('title', 'NOUN'),\n",
              " ('law', 'NOUN'),\n",
              " ('was', 'VERB'),\n",
              " ('also', 'ADV'),\n",
              " ('recommended', 'VERB'),\n",
              " ('by', 'ADP'),\n",
              " ('the', 'DET'),\n",
              " ('outgoing', 'ADJ'),\n",
              " ('jury', 'NOUN'),\n",
              " ('.', '.'),\n",
              " ('END', 'END')]"
            ]
          },
          "metadata": {},
          "execution_count": 11
        }
      ]
    },
    {
      "cell_type": "code",
      "source": [
        "# prompt: Take brown_words_tagged_sents and flatten it so that it is a list titled brow_word_tags\n",
        "\n",
        "brown_word_tags = [word_tag for sentence in brown_tagged_sents for word_tag in sentence]\n"
      ],
      "metadata": {
        "id": "nTkWdBq65DDq"
      },
      "execution_count": 12,
      "outputs": []
    },
    {
      "cell_type": "code",
      "source": [
        "brown_word_tags[14]"
      ],
      "metadata": {
        "colab": {
          "base_uri": "https://localhost:8080/"
        },
        "id": "t5tipJ1o5SeH",
        "outputId": "ac62f005-4953-475b-bc75-bb8f2a174e76"
      },
      "execution_count": 13,
      "outputs": [
        {
          "output_type": "execute_result",
          "data": {
            "text/plain": [
              "('election', 'NOUN')"
            ]
          },
          "metadata": {},
          "execution_count": 13
        }
      ]
    },
    {
      "cell_type": "markdown",
      "source": [
        " Now, we will estimate $P(w_i|t_i)$ from corpus data:\n",
        "\n",
        "  $P(w_i | t_i)=\\displaystyle{\\frac{\\text{count}(w_i,t_i)}{\\text{count}(t_i)}}$"
      ],
      "metadata": {
        "id": "wUV4gsRbWMgN"
      }
    },
    {
      "cell_type": "code",
      "source": [
        "len(brown_word_tags)"
      ],
      "metadata": {
        "colab": {
          "base_uri": "https://localhost:8080/"
        },
        "id": "m-IwyhkqqG3W",
        "outputId": "543bc05f-55dc-4778-bb85-866965324a41"
      },
      "execution_count": 14,
      "outputs": [
        {
          "output_type": "execute_result",
          "data": {
            "text/plain": [
              "1275872"
            ]
          },
          "metadata": {},
          "execution_count": 14
        }
      ]
    },
    {
      "cell_type": "code",
      "source": [
        "brown_word_tags[30:40]"
      ],
      "metadata": {
        "colab": {
          "base_uri": "https://localhost:8080/"
        },
        "id": "inyoiFXBbpKd",
        "outputId": "e95315d8-25ff-45b3-e077-fce324445faf"
      },
      "execution_count": 15,
      "outputs": [
        {
          "output_type": "execute_result",
          "data": {
            "text/plain": [
              "[('further', 'ADV'),\n",
              " ('said', 'VERB'),\n",
              " ('in', 'ADP'),\n",
              " ('term-end', 'NOUN'),\n",
              " ('presentments', 'NOUN'),\n",
              " ('that', 'ADP'),\n",
              " ('the', 'DET'),\n",
              " ('City', 'NOUN'),\n",
              " ('Executive', 'ADJ'),\n",
              " ('Committee', 'NOUN')]"
            ]
          },
          "metadata": {},
          "execution_count": 15
        }
      ]
    },
    {
      "cell_type": "code",
      "source": [
        "tag_word_pairs = [(tag, word) for word, tag in brown_word_tags]"
      ],
      "metadata": {
        "id": "s2D4WqQdsPLd"
      },
      "execution_count": 17,
      "outputs": []
    },
    {
      "cell_type": "code",
      "source": [
        "tag_word_pairs[30:40]"
      ],
      "metadata": {
        "colab": {
          "base_uri": "https://localhost:8080/"
        },
        "id": "0FNIk-TysRF7",
        "outputId": "e62d50e8-bde0-420f-9734-884dd509cc66"
      },
      "execution_count": 18,
      "outputs": [
        {
          "output_type": "execute_result",
          "data": {
            "text/plain": [
              "[('ADV', 'further'),\n",
              " ('VERB', 'said'),\n",
              " ('ADP', 'in'),\n",
              " ('NOUN', 'term-end'),\n",
              " ('NOUN', 'presentments'),\n",
              " ('ADP', 'that'),\n",
              " ('DET', 'the'),\n",
              " ('NOUN', 'City'),\n",
              " ('ADJ', 'Executive'),\n",
              " ('NOUN', 'Committee')]"
            ]
          },
          "metadata": {},
          "execution_count": 18
        }
      ]
    },
    {
      "cell_type": "code",
      "source": [
        "#Getting the continuous frequency distribution for the words which are tagged\n",
        "cfd_tag_words=nltk.ConditionalFreqDist(tag_word_pairs)\n"
      ],
      "metadata": {
        "trusted": true,
        "id": "2VEM3ReyWMgO"
      },
      "execution_count": 19,
      "outputs": []
    },
    {
      "cell_type": "code",
      "source": [
        "# Frequency of the tag 'VERB' for the word \"run\"\n",
        "cfd_tag_words['VERB']['run']\n"
      ],
      "metadata": {
        "colab": {
          "base_uri": "https://localhost:8080/"
        },
        "id": "lgNoyQcmFDrS",
        "outputId": "5a2e9d04-fe06-497d-ae10-864db0d21fec"
      },
      "execution_count": 20,
      "outputs": [
        {
          "output_type": "execute_result",
          "data": {
            "text/plain": [
              "154"
            ]
          },
          "metadata": {},
          "execution_count": 20
        }
      ]
    },
    {
      "cell_type": "code",
      "source": [
        "\n",
        "# Create a ConditionalFreqDist with (tag, word) pairs\n",
        "cfd_tags_given_word = nltk.ConditionalFreqDist(tag_word_pairs)\n"
      ],
      "metadata": {
        "id": "3Qkt2hkXs2l5"
      },
      "execution_count": 21,
      "outputs": []
    },
    {
      "cell_type": "code",
      "source": [
        "# Create a ConditionalProbDist for emission probabilities\n",
        "cpd_emission = nltk.ConditionalProbDist(cfd_tags_given_word, nltk.MLEProbDist)\n"
      ],
      "metadata": {
        "id": "ezFcDNyqn3ZB"
      },
      "execution_count": 40,
      "outputs": []
    },
    {
      "cell_type": "code",
      "source": [
        "# Probability of observing the word \"further\" given the tag \"ADV\"\n",
        "cpd_emission['ADV'].prob('further')\n"
      ],
      "metadata": {
        "trusted": true,
        "id": "HDorjLKDWMgO",
        "colab": {
          "base_uri": "https://localhost:8080/"
        },
        "outputId": "f4ff8d36-e820-42a0-a5ec-a9527375250b"
      },
      "execution_count": 44,
      "outputs": [
        {
          "output_type": "execute_result",
          "data": {
            "text/plain": [
              "0.0015825316950870392"
            ]
          },
          "metadata": {},
          "execution_count": 44
        }
      ]
    },
    {
      "cell_type": "markdown",
      "source": [
        " Estimating $P(t_i\\vert t_{i-1})$  from corpus data:\n",
        "\n",
        " $P(t_i | t_{i-1}) = \\displaystyle{\\frac{\\text{count}(t_{i-1}, t_i)}{\\text{count}(t_{i-1})}}$"
      ],
      "metadata": {
        "id": "bqzzCoMSWMgO"
      }
    },
    {
      "cell_type": "code",
      "source": [
        "# Extract the sequence of tags from the original list of (word, tag) pairs\n",
        "tags = [tag for word, tag in brown_word_tags]\n",
        "\n",
        "# Create pairs of consecutive tags\n",
        "tag_pairs = [(tags[i], tags[i+1]) for i in range(len(tags)-1)]\n"
      ],
      "metadata": {
        "trusted": true,
        "id": "BGegK0nHWMgP"
      },
      "execution_count": 45,
      "outputs": []
    },
    {
      "cell_type": "code",
      "source": [
        "# Create a CFD from the pairs of consecutive tags\n",
        "cfd_tag_transitions = nltk.ConditionalFreqDist(tag_pairs)\n"
      ],
      "metadata": {
        "trusted": true,
        "id": "XnmGBe4tWMgP"
      },
      "execution_count": 46,
      "outputs": []
    },
    {
      "cell_type": "code",
      "source": [
        "# Convert the CFD into a CPD for transition probabilities\n",
        "cpd_tag_transitions = nltk.ConditionalProbDist(cfd_tag_transitions, nltk.MLEProbDist)\n"
      ],
      "metadata": {
        "id": "TA0s8Ni4vGDp"
      },
      "execution_count": 48,
      "outputs": []
    },
    {
      "cell_type": "code",
      "source": [
        "# Probability of transitioning from ADJ to NOUN\n",
        "prob_adj_to_noun = cpd_tag_transitions['ADJ'].prob('NOUN')\n"
      ],
      "metadata": {
        "id": "DlShNcL4vOQQ"
      },
      "execution_count": 49,
      "outputs": []
    },
    {
      "cell_type": "code",
      "source": [
        "# probability of tag sequence PRON VERB NOUN for the word sequence \"We love food\"\n",
        "# Assuming cpd_emission and cpd_tag_transitions are already defined\n",
        "\n",
        "# Emission Probabilities\n",
        "prob_we_pron = cpd_emission['PRON'].prob('We')\n",
        "prob_love_verb = cpd_emission['VERB'].prob('love')\n",
        "prob_food_noun = cpd_emission['NOUN'].prob('food')\n",
        "\n",
        "# Transition Probabilities including START and END\n",
        "prob_start_to_pron = cpd_tag_transitions['START'].prob('PRON')\n",
        "prob_pron_to_verb = cpd_tag_transitions['PRON'].prob('VERB')\n",
        "prob_verb_to_noun = cpd_tag_transitions['VERB'].prob('NOUN')\n",
        "prob_noun_to_end = cpd_tag_transitions['NOUN'].prob('END')\n",
        "\n",
        "# Combine all probabilities\n",
        "total_probability = (\n",
        "    prob_start_to_pron *\n",
        "    prob_we_pron *\n",
        "    prob_pron_to_verb *\n",
        "    prob_love_verb *\n",
        "    prob_verb_to_noun *\n",
        "    prob_food_noun *\n",
        "    prob_noun_to_end\n",
        ")\n",
        "\n",
        "# Print the total probability\n",
        "print(f\"Total Probability of 'PRON VERB NOUN' for 'We love food': {total_probability}\")\n",
        "\n"
      ],
      "metadata": {
        "trusted": true,
        "id": "-u5EwpLEWMgQ",
        "colab": {
          "base_uri": "https://localhost:8080/"
        },
        "outputId": "871f559e-1733-4a00-f149-19bccb2b53c6"
      },
      "execution_count": 53,
      "outputs": [
        {
          "output_type": "stream",
          "name": "stdout",
          "text": [
            "Total Probability of 'PRON VERB NOUN' for 'We love food': 7.079380056115793e-14\n"
          ]
        }
      ]
    },
    {
      "cell_type": "code",
      "source": [],
      "metadata": {
        "trusted": true,
        "id": "16r4NdaSWMgS"
      },
      "execution_count": null,
      "outputs": []
    },
    {
      "cell_type": "markdown",
      "source": [
        "# Viterbi Algorithm"
      ],
      "metadata": {
        "id": "f9tvxGrn0quN"
      }
    },
    {
      "cell_type": "code",
      "source": [
        "def viterbi(observed_words, cpd_tag_transitions, cpd_emission, states):\n",
        "    # Initialize the dynamic programming table to store probabilities\n",
        "    V = [{}]\n",
        "    path = {}\n",
        "\n",
        "    # Initialize base case (t == 0)\n",
        "    for state in states:\n",
        "        V[0][state] = cpd_tag_transitions['START'].prob(state) * cpd_emission[state].prob(observed_words[0])\n",
        "        path[state] = [state]\n",
        "\n",
        "    # Run Viterbi for t > 0\n",
        "    for t in range(1, len(observed_words)):\n",
        "        V.append({})\n",
        "        newpath = {}\n",
        "\n",
        "        for cur_state in states:\n",
        "            # Check if state is 'START' or 'END'\n",
        "            if cur_state in ['START', 'END']:\n",
        "                continue\n",
        "\n",
        "            # Select the state transition path with the maximum probability\n",
        "            (prob, state) = max(\n",
        "                (V[t-1][prev_state] * cpd_tag_transitions[prev_state].prob(cur_state) * cpd_emission[cur_state].prob(observed_words[t]), prev_state)\n",
        "                for prev_state in states if prev_state not in ['START', 'END']\n",
        "            )\n",
        "\n",
        "            V[t][cur_state] = prob\n",
        "            newpath[cur_state] = path[state] + [cur_state]\n",
        "\n",
        "        # Don't need to remember the old paths\n",
        "        path = newpath\n",
        "\n",
        "    # Add a final step for transition to 'END' state\n",
        "    prob, state = max((V[len(observed_words) - 1][state] * cpd_tag_transitions[state].prob('END'), state) for state in states if state not in ['START', 'END'])\n",
        "    return (prob, path[state])\n",
        "\n",
        "\n"
      ],
      "metadata": {
        "id": "whsZEmbu0vp2"
      },
      "execution_count": 54,
      "outputs": []
    },
    {
      "cell_type": "code",
      "source": [
        "# Example usage\n",
        "observed_words = [\"Owls\", \"are\", \"wise\"]\n",
        "states = ['NOUN', 'VERB', 'PRON', 'ADJ', 'ADV', 'ADP', 'CONJ', 'DET', 'NUM', 'PRT', 'X', 'START', 'END']  # Add your list of states/tags\n",
        "(prob, sequence) = viterbi(observed_words, cpd_tag_transitions, cpd_emission, states)\n",
        "print(f\"Probability of the best tag sequence: {prob}\")\n",
        "print(f\"Best tag sequence: {sequence}\")"
      ],
      "metadata": {
        "colab": {
          "base_uri": "https://localhost:8080/"
        },
        "id": "uAo7Z58O0zPh",
        "outputId": "a80a42ed-e460-461b-a714-dd76a6950e77"
      },
      "execution_count": 57,
      "outputs": [
        {
          "output_type": "stream",
          "name": "stdout",
          "text": [
            "Probability of the best tag sequence: 1.6188862813971786e-17\n",
            "Best tag sequence: ['NOUN', 'VERB', 'ADJ']\n"
          ]
        }
      ]
    },
    {
      "cell_type": "code",
      "source": [],
      "metadata": {
        "id": "MP9vpY8-1ZZM"
      },
      "execution_count": null,
      "outputs": []
    }
  ]
}